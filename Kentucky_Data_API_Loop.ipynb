{
  "cells": [
    {
      "cell_type": "markdown",
      "metadata": {
        "id": "view-in-github",
        "colab_type": "text"
      },
      "source": [
        "<a href=\"https://colab.research.google.com/github/taddbackus/capstone/blob/main/Kentucky_Data_API_Loop.ipynb\" target=\"_parent\"><img src=\"https://colab.research.google.com/assets/colab-badge.svg\" alt=\"Open In Colab\"/></a>"
      ]
    },
    {
      "cell_type": "markdown",
      "source": [
        "References:\n",
        "https://geemap.org/notebooks/114_dynamic_world/\n"
      ],
      "metadata": {
        "id": "hp9FD5C5hoUK"
      }
    },
    {
      "cell_type": "markdown",
      "metadata": {
        "id": "0CDbvN6Zoefb"
      },
      "source": [
        "# Imports and Setup"
      ]
    },
    {
      "cell_type": "code",
      "execution_count": 1,
      "metadata": {
        "id": "JN_NZz2XtgKm",
        "colab": {
          "base_uri": "https://localhost:8080/"
        },
        "outputId": "30451f09-693a-45ab-fecb-80c1be1e23b0"
      },
      "outputs": [
        {
          "output_type": "stream",
          "name": "stdout",
          "text": [
            "\u001b[2K     \u001b[90m━━━━━━━━━━━━━━━━━━━━━━━━━━━━━━━━━━━━━━━\u001b[0m \u001b[32m135.8/135.8 kB\u001b[0m \u001b[31m3.2 MB/s\u001b[0m eta \u001b[36m0:00:00\u001b[0m\n",
            "\u001b[2K     \u001b[90m━━━━━━━━━━━━━━━━━━━━━━━━━━━━━━━━━━━━━━━━\u001b[0m \u001b[32m11.1/11.1 MB\u001b[0m \u001b[31m23.5 MB/s\u001b[0m eta \u001b[36m0:00:00\u001b[0m\n",
            "\u001b[2K     \u001b[90m━━━━━━━━━━━━━━━━━━━━━━━━━━━━━━━━━━━━━━━━\u001b[0m \u001b[32m79.8/79.8 kB\u001b[0m \u001b[31m9.0 MB/s\u001b[0m eta \u001b[36m0:00:00\u001b[0m\n",
            "\u001b[2K     \u001b[90m━━━━━━━━━━━━━━━━━━━━━━━━━━━━━━━━━━━━━━\u001b[0m \u001b[32m143.1/143.1 kB\u001b[0m \u001b[31m15.5 MB/s\u001b[0m eta \u001b[36m0:00:00\u001b[0m\n",
            "\u001b[?25h"
          ]
        }
      ],
      "source": [
        "!pip -q install --upgrade folium\n",
        "!pip -q install geopandas\n",
        "!pip -q install geojson\n",
        "!pip -q install eeconvert"
      ]
    },
    {
      "cell_type": "code",
      "source": [
        "# reminder that if you are installing libraries in a Google Colab instance you will be prompted to restart your kernal\n",
        "\n",
        "try:\n",
        "    import geemap, ee\n",
        "except ModuleNotFoundError:\n",
        "    if 'google.colab' in str(get_ipython()):\n",
        "        print(\"package not found, installing w/ pip in Google Colab...\")\n",
        "        !pip install geemap\n",
        "    else:\n",
        "        print(\"package not found, installing w/ conda...\")\n",
        "        !conda install mamba -c conda-forge -y\n",
        "        !mamba install geemap -c conda-forge -y\n",
        "    import geemap, ee"
      ],
      "metadata": {
        "id": "zlt8QS2h2UqR",
        "colab": {
          "base_uri": "https://localhost:8080/"
        },
        "outputId": "a8ad28e3-3278-4c59-db8e-5efec5e336a2"
      },
      "execution_count": 2,
      "outputs": [
        {
          "output_type": "stream",
          "name": "stdout",
          "text": [
            "package not found, installing w/ pip in Google Colab...\n",
            "Collecting geemap\n",
            "  Downloading geemap-0.25.0-py2.py3-none-any.whl (2.2 MB)\n",
            "\u001b[2K     \u001b[90m━━━━━━━━━━━━━━━━━━━━━━━━━━━━━━━━━━━━━━━━\u001b[0m \u001b[32m2.2/2.2 MB\u001b[0m \u001b[31m9.2 MB/s\u001b[0m eta \u001b[36m0:00:00\u001b[0m\n",
            "\u001b[?25hCollecting bqplot (from geemap)\n",
            "  Downloading bqplot-0.12.40-py2.py3-none-any.whl (1.2 MB)\n",
            "\u001b[2K     \u001b[90m━━━━━━━━━━━━━━━━━━━━━━━━━━━━━━━━━━━━━━━━\u001b[0m \u001b[32m1.2/1.2 MB\u001b[0m \u001b[31m15.1 MB/s\u001b[0m eta \u001b[36m0:00:00\u001b[0m\n",
            "\u001b[?25hCollecting colour (from geemap)\n",
            "  Downloading colour-0.1.5-py2.py3-none-any.whl (23 kB)\n",
            "Requirement already satisfied: earthengine-api>=0.1.347 in /usr/local/lib/python3.10/dist-packages (from geemap) (0.1.363)\n",
            "Collecting eerepr>=0.0.4 (from geemap)\n",
            "  Downloading eerepr-0.0.4-py3-none-any.whl (9.7 kB)\n",
            "Requirement already satisfied: folium>=0.13.0 in /usr/local/lib/python3.10/dist-packages (from geemap) (0.14.0)\n",
            "Collecting geocoder (from geemap)\n",
            "  Downloading geocoder-1.38.1-py2.py3-none-any.whl (98 kB)\n",
            "\u001b[2K     \u001b[90m━━━━━━━━━━━━━━━━━━━━━━━━━━━━━━━━━━━━━━━━\u001b[0m \u001b[32m98.6/98.6 kB\u001b[0m \u001b[31m11.6 MB/s\u001b[0m eta \u001b[36m0:00:00\u001b[0m\n",
            "\u001b[?25hCollecting ipyevents (from geemap)\n",
            "  Downloading ipyevents-2.0.1-py2.py3-none-any.whl (130 kB)\n",
            "\u001b[2K     \u001b[90m━━━━━━━━━━━━━━━━━━━━━━━━━━━━━━━━━━━━━━\u001b[0m \u001b[32m130.5/130.5 kB\u001b[0m \u001b[31m15.4 MB/s\u001b[0m eta \u001b[36m0:00:00\u001b[0m\n",
            "\u001b[?25hCollecting ipyfilechooser>=0.6.0 (from geemap)\n",
            "  Downloading ipyfilechooser-0.6.0-py3-none-any.whl (11 kB)\n",
            "Collecting ipyleaflet>=0.17.0 (from geemap)\n",
            "  Downloading ipyleaflet-0.17.3-py3-none-any.whl (3.4 MB)\n",
            "\u001b[2K     \u001b[90m━━━━━━━━━━━━━━━━━━━━━━━━━━━━━━━━━━━━━━━━\u001b[0m \u001b[32m3.4/3.4 MB\u001b[0m \u001b[31m22.0 MB/s\u001b[0m eta \u001b[36m0:00:00\u001b[0m\n",
            "\u001b[?25hCollecting ipytree (from geemap)\n",
            "  Downloading ipytree-0.2.2-py2.py3-none-any.whl (1.3 MB)\n",
            "\u001b[2K     \u001b[90m━━━━━━━━━━━━━━━━━━━━━━━━━━━━━━━━━━━━━━━━\u001b[0m \u001b[32m1.3/1.3 MB\u001b[0m \u001b[31m24.3 MB/s\u001b[0m eta \u001b[36m0:00:00\u001b[0m\n",
            "\u001b[?25hRequirement already satisfied: matplotlib in /usr/local/lib/python3.10/dist-packages (from geemap) (3.7.1)\n",
            "Requirement already satisfied: numpy in /usr/local/lib/python3.10/dist-packages (from geemap) (1.23.5)\n",
            "Requirement already satisfied: pandas in /usr/local/lib/python3.10/dist-packages (from geemap) (1.5.3)\n",
            "Requirement already satisfied: plotly in /usr/local/lib/python3.10/dist-packages (from geemap) (5.15.0)\n",
            "Collecting pyperclip (from geemap)\n",
            "  Downloading pyperclip-1.8.2.tar.gz (20 kB)\n",
            "  Preparing metadata (setup.py) ... \u001b[?25l\u001b[?25hdone\n",
            "Collecting pyshp>=2.1.3 (from geemap)\n",
            "  Downloading pyshp-2.3.1-py2.py3-none-any.whl (46 kB)\n",
            "\u001b[2K     \u001b[90m━━━━━━━━━━━━━━━━━━━━━━━━━━━━━━━━━━━━━━━━\u001b[0m \u001b[32m46.5/46.5 kB\u001b[0m \u001b[31m4.6 MB/s\u001b[0m eta \u001b[36m0:00:00\u001b[0m\n",
            "\u001b[?25hCollecting python-box (from geemap)\n",
            "  Downloading python_box-7.0.1-cp310-cp310-manylinux_2_5_x86_64.manylinux1_x86_64.manylinux_2_12_x86_64.manylinux2010_x86_64.whl (3.2 MB)\n",
            "\u001b[2K     \u001b[90m━━━━━━━━━━━━━━━━━━━━━━━━━━━━━━━━━━━━━━━━\u001b[0m \u001b[32m3.2/3.2 MB\u001b[0m \u001b[31m35.4 MB/s\u001b[0m eta \u001b[36m0:00:00\u001b[0m\n",
            "\u001b[?25hCollecting scooby (from geemap)\n",
            "  Downloading scooby-0.7.2-py3-none-any.whl (16 kB)\n",
            "Requirement already satisfied: google-cloud-storage in /usr/local/lib/python3.10/dist-packages (from earthengine-api>=0.1.347->geemap) (2.8.0)\n",
            "Requirement already satisfied: google-api-python-client>=1.12.1 in /usr/local/lib/python3.10/dist-packages (from earthengine-api>=0.1.347->geemap) (2.84.0)\n",
            "Requirement already satisfied: google-auth>=1.4.1 in /usr/local/lib/python3.10/dist-packages (from earthengine-api>=0.1.347->geemap) (2.17.3)\n",
            "Requirement already satisfied: google-auth-httplib2>=0.0.3 in /usr/local/lib/python3.10/dist-packages (from earthengine-api>=0.1.347->geemap) (0.1.0)\n",
            "Requirement already satisfied: httplib2<1dev,>=0.9.2 in /usr/local/lib/python3.10/dist-packages (from earthengine-api>=0.1.347->geemap) (0.22.0)\n",
            "Requirement already satisfied: requests in /usr/local/lib/python3.10/dist-packages (from earthengine-api>=0.1.347->geemap) (2.31.0)\n",
            "Requirement already satisfied: branca>=0.6.0 in /usr/local/lib/python3.10/dist-packages (from folium>=0.13.0->geemap) (0.6.0)\n",
            "Requirement already satisfied: jinja2>=2.9 in /usr/local/lib/python3.10/dist-packages (from folium>=0.13.0->geemap) (3.1.2)\n",
            "Requirement already satisfied: ipywidgets in /usr/local/lib/python3.10/dist-packages (from ipyfilechooser>=0.6.0->geemap) (7.7.1)\n",
            "Collecting traittypes<3,>=0.2.1 (from ipyleaflet>=0.17.0->geemap)\n",
            "  Downloading traittypes-0.2.1-py2.py3-none-any.whl (8.6 kB)\n",
            "Requirement already satisfied: xyzservices>=2021.8.1 in /usr/local/lib/python3.10/dist-packages (from ipyleaflet>=0.17.0->geemap) (2023.7.0)\n",
            "Requirement already satisfied: traitlets>=4.3.0 in /usr/local/lib/python3.10/dist-packages (from bqplot->geemap) (5.7.1)\n",
            "Requirement already satisfied: python-dateutil>=2.8.1 in /usr/local/lib/python3.10/dist-packages (from pandas->geemap) (2.8.2)\n",
            "Requirement already satisfied: pytz>=2020.1 in /usr/local/lib/python3.10/dist-packages (from pandas->geemap) (2023.3)\n",
            "Requirement already satisfied: click in /usr/local/lib/python3.10/dist-packages (from geocoder->geemap) (8.1.6)\n",
            "Requirement already satisfied: future in /usr/local/lib/python3.10/dist-packages (from geocoder->geemap) (0.18.3)\n",
            "Collecting ratelim (from geocoder->geemap)\n",
            "  Downloading ratelim-0.1.6-py2.py3-none-any.whl (4.0 kB)\n",
            "Requirement already satisfied: six in /usr/local/lib/python3.10/dist-packages (from geocoder->geemap) (1.16.0)\n",
            "Requirement already satisfied: contourpy>=1.0.1 in /usr/local/lib/python3.10/dist-packages (from matplotlib->geemap) (1.1.0)\n",
            "Requirement already satisfied: cycler>=0.10 in /usr/local/lib/python3.10/dist-packages (from matplotlib->geemap) (0.11.0)\n",
            "Requirement already satisfied: fonttools>=4.22.0 in /usr/local/lib/python3.10/dist-packages (from matplotlib->geemap) (4.42.0)\n",
            "Requirement already satisfied: kiwisolver>=1.0.1 in /usr/local/lib/python3.10/dist-packages (from matplotlib->geemap) (1.4.4)\n",
            "Requirement already satisfied: packaging>=20.0 in /usr/local/lib/python3.10/dist-packages (from matplotlib->geemap) (23.1)\n",
            "Requirement already satisfied: pillow>=6.2.0 in /usr/local/lib/python3.10/dist-packages (from matplotlib->geemap) (9.4.0)\n",
            "Requirement already satisfied: pyparsing>=2.3.1 in /usr/local/lib/python3.10/dist-packages (from matplotlib->geemap) (3.1.1)\n",
            "Requirement already satisfied: tenacity>=6.2.0 in /usr/local/lib/python3.10/dist-packages (from plotly->geemap) (8.2.3)\n",
            "Requirement already satisfied: google-api-core!=2.0.*,!=2.1.*,!=2.2.*,!=2.3.0,<3.0.0dev,>=1.31.5 in /usr/local/lib/python3.10/dist-packages (from google-api-python-client>=1.12.1->earthengine-api>=0.1.347->geemap) (2.11.1)\n",
            "Requirement already satisfied: uritemplate<5,>=3.0.1 in /usr/local/lib/python3.10/dist-packages (from google-api-python-client>=1.12.1->earthengine-api>=0.1.347->geemap) (4.1.1)\n",
            "Requirement already satisfied: cachetools<6.0,>=2.0.0 in /usr/local/lib/python3.10/dist-packages (from google-auth>=1.4.1->earthengine-api>=0.1.347->geemap) (5.3.1)\n",
            "Requirement already satisfied: pyasn1-modules>=0.2.1 in /usr/local/lib/python3.10/dist-packages (from google-auth>=1.4.1->earthengine-api>=0.1.347->geemap) (0.3.0)\n",
            "Requirement already satisfied: rsa<5,>=3.1.4 in /usr/local/lib/python3.10/dist-packages (from google-auth>=1.4.1->earthengine-api>=0.1.347->geemap) (4.9)\n",
            "Requirement already satisfied: ipykernel>=4.5.1 in /usr/local/lib/python3.10/dist-packages (from ipywidgets->ipyfilechooser>=0.6.0->geemap) (5.5.6)\n",
            "Requirement already satisfied: ipython-genutils~=0.2.0 in /usr/local/lib/python3.10/dist-packages (from ipywidgets->ipyfilechooser>=0.6.0->geemap) (0.2.0)\n",
            "Requirement already satisfied: widgetsnbextension~=3.6.0 in /usr/local/lib/python3.10/dist-packages (from ipywidgets->ipyfilechooser>=0.6.0->geemap) (3.6.5)\n",
            "Requirement already satisfied: ipython>=4.0.0 in /usr/local/lib/python3.10/dist-packages (from ipywidgets->ipyfilechooser>=0.6.0->geemap) (7.34.0)\n",
            "Requirement already satisfied: jupyterlab-widgets>=1.0.0 in /usr/local/lib/python3.10/dist-packages (from ipywidgets->ipyfilechooser>=0.6.0->geemap) (3.0.8)\n",
            "Requirement already satisfied: MarkupSafe>=2.0 in /usr/local/lib/python3.10/dist-packages (from jinja2>=2.9->folium>=0.13.0->geemap) (2.1.3)\n",
            "Requirement already satisfied: google-cloud-core<3.0dev,>=2.3.0 in /usr/local/lib/python3.10/dist-packages (from google-cloud-storage->earthengine-api>=0.1.347->geemap) (2.3.3)\n",
            "Requirement already satisfied: google-resumable-media>=2.3.2 in /usr/local/lib/python3.10/dist-packages (from google-cloud-storage->earthengine-api>=0.1.347->geemap) (2.5.0)\n",
            "Requirement already satisfied: charset-normalizer<4,>=2 in /usr/local/lib/python3.10/dist-packages (from requests->earthengine-api>=0.1.347->geemap) (3.2.0)\n",
            "Requirement already satisfied: idna<4,>=2.5 in /usr/local/lib/python3.10/dist-packages (from requests->earthengine-api>=0.1.347->geemap) (3.4)\n",
            "Requirement already satisfied: urllib3<3,>=1.21.1 in /usr/local/lib/python3.10/dist-packages (from requests->earthengine-api>=0.1.347->geemap) (1.26.16)\n",
            "Requirement already satisfied: certifi>=2017.4.17 in /usr/local/lib/python3.10/dist-packages (from requests->earthengine-api>=0.1.347->geemap) (2023.7.22)\n",
            "Requirement already satisfied: decorator in /usr/local/lib/python3.10/dist-packages (from ratelim->geocoder->geemap) (4.4.2)\n",
            "Requirement already satisfied: googleapis-common-protos<2.0.dev0,>=1.56.2 in /usr/local/lib/python3.10/dist-packages (from google-api-core!=2.0.*,!=2.1.*,!=2.2.*,!=2.3.0,<3.0.0dev,>=1.31.5->google-api-python-client>=1.12.1->earthengine-api>=0.1.347->geemap) (1.60.0)\n",
            "Requirement already satisfied: protobuf!=3.20.0,!=3.20.1,!=4.21.0,!=4.21.1,!=4.21.2,!=4.21.3,!=4.21.4,!=4.21.5,<5.0.0.dev0,>=3.19.5 in /usr/local/lib/python3.10/dist-packages (from google-api-core!=2.0.*,!=2.1.*,!=2.2.*,!=2.3.0,<3.0.0dev,>=1.31.5->google-api-python-client>=1.12.1->earthengine-api>=0.1.347->geemap) (3.20.3)\n",
            "Requirement already satisfied: google-crc32c<2.0dev,>=1.0 in /usr/local/lib/python3.10/dist-packages (from google-resumable-media>=2.3.2->google-cloud-storage->earthengine-api>=0.1.347->geemap) (1.5.0)\n",
            "Requirement already satisfied: jupyter-client in /usr/local/lib/python3.10/dist-packages (from ipykernel>=4.5.1->ipywidgets->ipyfilechooser>=0.6.0->geemap) (6.1.12)\n",
            "Requirement already satisfied: tornado>=4.2 in /usr/local/lib/python3.10/dist-packages (from ipykernel>=4.5.1->ipywidgets->ipyfilechooser>=0.6.0->geemap) (6.3.2)\n",
            "Requirement already satisfied: setuptools>=18.5 in /usr/local/lib/python3.10/dist-packages (from ipython>=4.0.0->ipywidgets->ipyfilechooser>=0.6.0->geemap) (67.7.2)\n",
            "Collecting jedi>=0.16 (from ipython>=4.0.0->ipywidgets->ipyfilechooser>=0.6.0->geemap)\n",
            "  Downloading jedi-0.19.0-py2.py3-none-any.whl (1.6 MB)\n",
            "\u001b[2K     \u001b[90m━━━━━━━━━━━━━━━━━━━━━━━━━━━━━━━━━━━━━━━━\u001b[0m \u001b[32m1.6/1.6 MB\u001b[0m \u001b[31m39.9 MB/s\u001b[0m eta \u001b[36m0:00:00\u001b[0m\n",
            "\u001b[?25hRequirement already satisfied: pickleshare in /usr/local/lib/python3.10/dist-packages (from ipython>=4.0.0->ipywidgets->ipyfilechooser>=0.6.0->geemap) (0.7.5)\n",
            "Requirement already satisfied: prompt-toolkit!=3.0.0,!=3.0.1,<3.1.0,>=2.0.0 in /usr/local/lib/python3.10/dist-packages (from ipython>=4.0.0->ipywidgets->ipyfilechooser>=0.6.0->geemap) (3.0.39)\n",
            "Requirement already satisfied: pygments in /usr/local/lib/python3.10/dist-packages (from ipython>=4.0.0->ipywidgets->ipyfilechooser>=0.6.0->geemap) (2.16.1)\n",
            "Requirement already satisfied: backcall in /usr/local/lib/python3.10/dist-packages (from ipython>=4.0.0->ipywidgets->ipyfilechooser>=0.6.0->geemap) (0.2.0)\n",
            "Requirement already satisfied: matplotlib-inline in /usr/local/lib/python3.10/dist-packages (from ipython>=4.0.0->ipywidgets->ipyfilechooser>=0.6.0->geemap) (0.1.6)\n",
            "Requirement already satisfied: pexpect>4.3 in /usr/local/lib/python3.10/dist-packages (from ipython>=4.0.0->ipywidgets->ipyfilechooser>=0.6.0->geemap) (4.8.0)\n",
            "Requirement already satisfied: pyasn1<0.6.0,>=0.4.6 in /usr/local/lib/python3.10/dist-packages (from pyasn1-modules>=0.2.1->google-auth>=1.4.1->earthengine-api>=0.1.347->geemap) (0.5.0)\n",
            "Requirement already satisfied: notebook>=4.4.1 in /usr/local/lib/python3.10/dist-packages (from widgetsnbextension~=3.6.0->ipywidgets->ipyfilechooser>=0.6.0->geemap) (6.5.5)\n",
            "Requirement already satisfied: parso<0.9.0,>=0.8.3 in /usr/local/lib/python3.10/dist-packages (from jedi>=0.16->ipython>=4.0.0->ipywidgets->ipyfilechooser>=0.6.0->geemap) (0.8.3)\n",
            "Requirement already satisfied: pyzmq<25,>=17 in /usr/local/lib/python3.10/dist-packages (from notebook>=4.4.1->widgetsnbextension~=3.6.0->ipywidgets->ipyfilechooser>=0.6.0->geemap) (23.2.1)\n",
            "Requirement already satisfied: argon2-cffi in /usr/local/lib/python3.10/dist-packages (from notebook>=4.4.1->widgetsnbextension~=3.6.0->ipywidgets->ipyfilechooser>=0.6.0->geemap) (23.1.0)\n",
            "Requirement already satisfied: jupyter-core>=4.6.1 in /usr/local/lib/python3.10/dist-packages (from notebook>=4.4.1->widgetsnbextension~=3.6.0->ipywidgets->ipyfilechooser>=0.6.0->geemap) (5.3.1)\n",
            "Requirement already satisfied: nbformat in /usr/local/lib/python3.10/dist-packages (from notebook>=4.4.1->widgetsnbextension~=3.6.0->ipywidgets->ipyfilechooser>=0.6.0->geemap) (5.9.2)\n",
            "Requirement already satisfied: nbconvert>=5 in /usr/local/lib/python3.10/dist-packages (from notebook>=4.4.1->widgetsnbextension~=3.6.0->ipywidgets->ipyfilechooser>=0.6.0->geemap) (6.5.4)\n",
            "Requirement already satisfied: nest-asyncio>=1.5 in /usr/local/lib/python3.10/dist-packages (from notebook>=4.4.1->widgetsnbextension~=3.6.0->ipywidgets->ipyfilechooser>=0.6.0->geemap) (1.5.7)\n",
            "Requirement already satisfied: Send2Trash>=1.8.0 in /usr/local/lib/python3.10/dist-packages (from notebook>=4.4.1->widgetsnbextension~=3.6.0->ipywidgets->ipyfilechooser>=0.6.0->geemap) (1.8.2)\n",
            "Requirement already satisfied: terminado>=0.8.3 in /usr/local/lib/python3.10/dist-packages (from notebook>=4.4.1->widgetsnbextension~=3.6.0->ipywidgets->ipyfilechooser>=0.6.0->geemap) (0.17.1)\n",
            "Requirement already satisfied: prometheus-client in /usr/local/lib/python3.10/dist-packages (from notebook>=4.4.1->widgetsnbextension~=3.6.0->ipywidgets->ipyfilechooser>=0.6.0->geemap) (0.17.1)\n",
            "Requirement already satisfied: nbclassic>=0.4.7 in /usr/local/lib/python3.10/dist-packages (from notebook>=4.4.1->widgetsnbextension~=3.6.0->ipywidgets->ipyfilechooser>=0.6.0->geemap) (1.0.0)\n",
            "Requirement already satisfied: ptyprocess>=0.5 in /usr/local/lib/python3.10/dist-packages (from pexpect>4.3->ipython>=4.0.0->ipywidgets->ipyfilechooser>=0.6.0->geemap) (0.7.0)\n",
            "Requirement already satisfied: wcwidth in /usr/local/lib/python3.10/dist-packages (from prompt-toolkit!=3.0.0,!=3.0.1,<3.1.0,>=2.0.0->ipython>=4.0.0->ipywidgets->ipyfilechooser>=0.6.0->geemap) (0.2.6)\n",
            "Requirement already satisfied: platformdirs>=2.5 in /usr/local/lib/python3.10/dist-packages (from jupyter-core>=4.6.1->notebook>=4.4.1->widgetsnbextension~=3.6.0->ipywidgets->ipyfilechooser>=0.6.0->geemap) (3.10.0)\n",
            "Requirement already satisfied: jupyter-server>=1.8 in /usr/local/lib/python3.10/dist-packages (from nbclassic>=0.4.7->notebook>=4.4.1->widgetsnbextension~=3.6.0->ipywidgets->ipyfilechooser>=0.6.0->geemap) (1.24.0)\n",
            "Requirement already satisfied: notebook-shim>=0.2.3 in /usr/local/lib/python3.10/dist-packages (from nbclassic>=0.4.7->notebook>=4.4.1->widgetsnbextension~=3.6.0->ipywidgets->ipyfilechooser>=0.6.0->geemap) (0.2.3)\n",
            "Requirement already satisfied: lxml in /usr/local/lib/python3.10/dist-packages (from nbconvert>=5->notebook>=4.4.1->widgetsnbextension~=3.6.0->ipywidgets->ipyfilechooser>=0.6.0->geemap) (4.9.3)\n",
            "Requirement already satisfied: beautifulsoup4 in /usr/local/lib/python3.10/dist-packages (from nbconvert>=5->notebook>=4.4.1->widgetsnbextension~=3.6.0->ipywidgets->ipyfilechooser>=0.6.0->geemap) (4.11.2)\n",
            "Requirement already satisfied: bleach in /usr/local/lib/python3.10/dist-packages (from nbconvert>=5->notebook>=4.4.1->widgetsnbextension~=3.6.0->ipywidgets->ipyfilechooser>=0.6.0->geemap) (6.0.0)\n",
            "Requirement already satisfied: defusedxml in /usr/local/lib/python3.10/dist-packages (from nbconvert>=5->notebook>=4.4.1->widgetsnbextension~=3.6.0->ipywidgets->ipyfilechooser>=0.6.0->geemap) (0.7.1)\n",
            "Requirement already satisfied: entrypoints>=0.2.2 in /usr/local/lib/python3.10/dist-packages (from nbconvert>=5->notebook>=4.4.1->widgetsnbextension~=3.6.0->ipywidgets->ipyfilechooser>=0.6.0->geemap) (0.4)\n",
            "Requirement already satisfied: jupyterlab-pygments in /usr/local/lib/python3.10/dist-packages (from nbconvert>=5->notebook>=4.4.1->widgetsnbextension~=3.6.0->ipywidgets->ipyfilechooser>=0.6.0->geemap) (0.2.2)\n",
            "Requirement already satisfied: mistune<2,>=0.8.1 in /usr/local/lib/python3.10/dist-packages (from nbconvert>=5->notebook>=4.4.1->widgetsnbextension~=3.6.0->ipywidgets->ipyfilechooser>=0.6.0->geemap) (0.8.4)\n",
            "Requirement already satisfied: nbclient>=0.5.0 in /usr/local/lib/python3.10/dist-packages (from nbconvert>=5->notebook>=4.4.1->widgetsnbextension~=3.6.0->ipywidgets->ipyfilechooser>=0.6.0->geemap) (0.8.0)\n",
            "Requirement already satisfied: pandocfilters>=1.4.1 in /usr/local/lib/python3.10/dist-packages (from nbconvert>=5->notebook>=4.4.1->widgetsnbextension~=3.6.0->ipywidgets->ipyfilechooser>=0.6.0->geemap) (1.5.0)\n",
            "Requirement already satisfied: tinycss2 in /usr/local/lib/python3.10/dist-packages (from nbconvert>=5->notebook>=4.4.1->widgetsnbextension~=3.6.0->ipywidgets->ipyfilechooser>=0.6.0->geemap) (1.2.1)\n",
            "Requirement already satisfied: fastjsonschema in /usr/local/lib/python3.10/dist-packages (from nbformat->notebook>=4.4.1->widgetsnbextension~=3.6.0->ipywidgets->ipyfilechooser>=0.6.0->geemap) (2.18.0)\n",
            "Requirement already satisfied: jsonschema>=2.6 in /usr/local/lib/python3.10/dist-packages (from nbformat->notebook>=4.4.1->widgetsnbextension~=3.6.0->ipywidgets->ipyfilechooser>=0.6.0->geemap) (4.19.0)\n",
            "Requirement already satisfied: argon2-cffi-bindings in /usr/local/lib/python3.10/dist-packages (from argon2-cffi->notebook>=4.4.1->widgetsnbextension~=3.6.0->ipywidgets->ipyfilechooser>=0.6.0->geemap) (21.2.0)\n",
            "Requirement already satisfied: attrs>=22.2.0 in /usr/local/lib/python3.10/dist-packages (from jsonschema>=2.6->nbformat->notebook>=4.4.1->widgetsnbextension~=3.6.0->ipywidgets->ipyfilechooser>=0.6.0->geemap) (23.1.0)\n",
            "Requirement already satisfied: jsonschema-specifications>=2023.03.6 in /usr/local/lib/python3.10/dist-packages (from jsonschema>=2.6->nbformat->notebook>=4.4.1->widgetsnbextension~=3.6.0->ipywidgets->ipyfilechooser>=0.6.0->geemap) (2023.7.1)\n",
            "Requirement already satisfied: referencing>=0.28.4 in /usr/local/lib/python3.10/dist-packages (from jsonschema>=2.6->nbformat->notebook>=4.4.1->widgetsnbextension~=3.6.0->ipywidgets->ipyfilechooser>=0.6.0->geemap) (0.30.2)\n",
            "Requirement already satisfied: rpds-py>=0.7.1 in /usr/local/lib/python3.10/dist-packages (from jsonschema>=2.6->nbformat->notebook>=4.4.1->widgetsnbextension~=3.6.0->ipywidgets->ipyfilechooser>=0.6.0->geemap) (0.9.2)\n",
            "Requirement already satisfied: anyio<4,>=3.1.0 in /usr/local/lib/python3.10/dist-packages (from jupyter-server>=1.8->nbclassic>=0.4.7->notebook>=4.4.1->widgetsnbextension~=3.6.0->ipywidgets->ipyfilechooser>=0.6.0->geemap) (3.7.1)\n",
            "Requirement already satisfied: websocket-client in /usr/local/lib/python3.10/dist-packages (from jupyter-server>=1.8->nbclassic>=0.4.7->notebook>=4.4.1->widgetsnbextension~=3.6.0->ipywidgets->ipyfilechooser>=0.6.0->geemap) (1.6.1)\n",
            "Requirement already satisfied: cffi>=1.0.1 in /usr/local/lib/python3.10/dist-packages (from argon2-cffi-bindings->argon2-cffi->notebook>=4.4.1->widgetsnbextension~=3.6.0->ipywidgets->ipyfilechooser>=0.6.0->geemap) (1.15.1)\n",
            "Requirement already satisfied: soupsieve>1.2 in /usr/local/lib/python3.10/dist-packages (from beautifulsoup4->nbconvert>=5->notebook>=4.4.1->widgetsnbextension~=3.6.0->ipywidgets->ipyfilechooser>=0.6.0->geemap) (2.4.1)\n",
            "Requirement already satisfied: webencodings in /usr/local/lib/python3.10/dist-packages (from bleach->nbconvert>=5->notebook>=4.4.1->widgetsnbextension~=3.6.0->ipywidgets->ipyfilechooser>=0.6.0->geemap) (0.5.1)\n",
            "Requirement already satisfied: sniffio>=1.1 in /usr/local/lib/python3.10/dist-packages (from anyio<4,>=3.1.0->jupyter-server>=1.8->nbclassic>=0.4.7->notebook>=4.4.1->widgetsnbextension~=3.6.0->ipywidgets->ipyfilechooser>=0.6.0->geemap) (1.3.0)\n",
            "Requirement already satisfied: exceptiongroup in /usr/local/lib/python3.10/dist-packages (from anyio<4,>=3.1.0->jupyter-server>=1.8->nbclassic>=0.4.7->notebook>=4.4.1->widgetsnbextension~=3.6.0->ipywidgets->ipyfilechooser>=0.6.0->geemap) (1.1.3)\n",
            "Requirement already satisfied: pycparser in /usr/local/lib/python3.10/dist-packages (from cffi>=1.0.1->argon2-cffi-bindings->argon2-cffi->notebook>=4.4.1->widgetsnbextension~=3.6.0->ipywidgets->ipyfilechooser>=0.6.0->geemap) (2.21)\n",
            "Building wheels for collected packages: pyperclip\n",
            "  Building wheel for pyperclip (setup.py) ... \u001b[?25l\u001b[?25hdone\n",
            "  Created wheel for pyperclip: filename=pyperclip-1.8.2-py3-none-any.whl size=11122 sha256=0fb9b41d23c01782d81ddcf60c7cf871c686709a8ed7989d07c633493170c95f\n",
            "  Stored in directory: /root/.cache/pip/wheels/04/24/fe/140a94a7f1036003ede94579e6b4227fe96c840c6f4dcbe307\n",
            "Successfully built pyperclip\n",
            "Installing collected packages: pyperclip, colour, traittypes, scooby, ratelim, python-box, pyshp, jedi, geocoder, eerepr, ipytree, ipyleaflet, ipyfilechooser, ipyevents, bqplot, geemap\n",
            "Successfully installed bqplot-0.12.40 colour-0.1.5 eerepr-0.0.4 geemap-0.25.0 geocoder-1.38.1 ipyevents-2.0.1 ipyfilechooser-0.6.0 ipyleaflet-0.17.3 ipytree-0.2.2 jedi-0.19.0 pyperclip-1.8.2 pyshp-2.3.1 python-box-7.0.1 ratelim-0.1.6 scooby-0.7.2 traittypes-0.2.1\n"
          ]
        }
      ]
    },
    {
      "cell_type": "code",
      "source": [
        "pip install eemont"
      ],
      "metadata": {
        "colab": {
          "base_uri": "https://localhost:8080/"
        },
        "id": "Kod3W2guawtR",
        "outputId": "4b29be83-2544-4ad1-a0d2-97c704f3afe9"
      },
      "execution_count": 3,
      "outputs": [
        {
          "output_type": "stream",
          "name": "stdout",
          "text": [
            "Collecting eemont\n",
            "  Downloading eemont-0.3.6.tar.gz (134 kB)\n",
            "\u001b[2K     \u001b[90m━━━━━━━━━━━━━━━━━━━━━━━━━━━━━━━━━━━━━━━\u001b[0m \u001b[32m134.7/134.7 kB\u001b[0m \u001b[31m2.8 MB/s\u001b[0m eta \u001b[36m0:00:00\u001b[0m\n",
            "\u001b[?25h  Preparing metadata (setup.py) ... \u001b[?25l\u001b[?25hdone\n",
            "Requirement already satisfied: beautifulsoup4 in /usr/local/lib/python3.10/dist-packages (from eemont) (4.11.2)\n",
            "Requirement already satisfied: earthengine-api in /usr/local/lib/python3.10/dist-packages (from eemont) (0.1.363)\n",
            "Collecting ee_extra>=0.0.15 (from eemont)\n",
            "  Downloading ee_extra-0.0.15.tar.gz (224 kB)\n",
            "\u001b[2K     \u001b[90m━━━━━━━━━━━━━━━━━━━━━━━━━━━━━━━━━━━━━━\u001b[0m \u001b[32m224.7/224.7 kB\u001b[0m \u001b[31m11.1 MB/s\u001b[0m eta \u001b[36m0:00:00\u001b[0m\n",
            "\u001b[?25h  Preparing metadata (setup.py) ... \u001b[?25l\u001b[?25hdone\n",
            "Requirement already satisfied: numpy in /usr/local/lib/python3.10/dist-packages (from eemont) (1.23.5)\n",
            "Requirement already satisfied: pandas in /usr/local/lib/python3.10/dist-packages (from eemont) (1.5.3)\n",
            "Requirement already satisfied: python-box>=6.0.0 in /usr/local/lib/python3.10/dist-packages (from eemont) (7.0.1)\n",
            "Requirement already satisfied: geopy in /usr/local/lib/python3.10/dist-packages (from eemont) (2.3.0)\n",
            "Requirement already satisfied: requests in /usr/local/lib/python3.10/dist-packages (from eemont) (2.31.0)\n",
            "Requirement already satisfied: soupsieve>1.2 in /usr/local/lib/python3.10/dist-packages (from beautifulsoup4->eemont) (2.4.1)\n",
            "Requirement already satisfied: google-cloud-storage in /usr/local/lib/python3.10/dist-packages (from earthengine-api->eemont) (2.8.0)\n",
            "Requirement already satisfied: google-api-python-client>=1.12.1 in /usr/local/lib/python3.10/dist-packages (from earthengine-api->eemont) (2.84.0)\n",
            "Requirement already satisfied: google-auth>=1.4.1 in /usr/local/lib/python3.10/dist-packages (from earthengine-api->eemont) (2.17.3)\n",
            "Requirement already satisfied: google-auth-httplib2>=0.0.3 in /usr/local/lib/python3.10/dist-packages (from earthengine-api->eemont) (0.1.0)\n",
            "Requirement already satisfied: httplib2<1dev,>=0.9.2 in /usr/local/lib/python3.10/dist-packages (from earthengine-api->eemont) (0.22.0)\n",
            "Requirement already satisfied: geographiclib<3,>=1.52 in /usr/local/lib/python3.10/dist-packages (from geopy->eemont) (2.0)\n",
            "Requirement already satisfied: python-dateutil>=2.8.1 in /usr/local/lib/python3.10/dist-packages (from pandas->eemont) (2.8.2)\n",
            "Requirement already satisfied: pytz>=2020.1 in /usr/local/lib/python3.10/dist-packages (from pandas->eemont) (2023.3)\n",
            "Requirement already satisfied: charset-normalizer<4,>=2 in /usr/local/lib/python3.10/dist-packages (from requests->eemont) (3.2.0)\n",
            "Requirement already satisfied: idna<4,>=2.5 in /usr/local/lib/python3.10/dist-packages (from requests->eemont) (3.4)\n",
            "Requirement already satisfied: urllib3<3,>=1.21.1 in /usr/local/lib/python3.10/dist-packages (from requests->eemont) (1.26.16)\n",
            "Requirement already satisfied: certifi>=2017.4.17 in /usr/local/lib/python3.10/dist-packages (from requests->eemont) (2023.7.22)\n",
            "Requirement already satisfied: google-api-core!=2.0.*,!=2.1.*,!=2.2.*,!=2.3.0,<3.0.0dev,>=1.31.5 in /usr/local/lib/python3.10/dist-packages (from google-api-python-client>=1.12.1->earthengine-api->eemont) (2.11.1)\n",
            "Requirement already satisfied: uritemplate<5,>=3.0.1 in /usr/local/lib/python3.10/dist-packages (from google-api-python-client>=1.12.1->earthengine-api->eemont) (4.1.1)\n",
            "Requirement already satisfied: cachetools<6.0,>=2.0.0 in /usr/local/lib/python3.10/dist-packages (from google-auth>=1.4.1->earthengine-api->eemont) (5.3.1)\n",
            "Requirement already satisfied: pyasn1-modules>=0.2.1 in /usr/local/lib/python3.10/dist-packages (from google-auth>=1.4.1->earthengine-api->eemont) (0.3.0)\n",
            "Requirement already satisfied: six>=1.9.0 in /usr/local/lib/python3.10/dist-packages (from google-auth>=1.4.1->earthengine-api->eemont) (1.16.0)\n",
            "Requirement already satisfied: rsa<5,>=3.1.4 in /usr/local/lib/python3.10/dist-packages (from google-auth>=1.4.1->earthengine-api->eemont) (4.9)\n",
            "Requirement already satisfied: pyparsing!=3.0.0,!=3.0.1,!=3.0.2,!=3.0.3,<4,>=2.4.2 in /usr/local/lib/python3.10/dist-packages (from httplib2<1dev,>=0.9.2->earthengine-api->eemont) (3.1.1)\n",
            "Requirement already satisfied: google-cloud-core<3.0dev,>=2.3.0 in /usr/local/lib/python3.10/dist-packages (from google-cloud-storage->earthengine-api->eemont) (2.3.3)\n",
            "Requirement already satisfied: google-resumable-media>=2.3.2 in /usr/local/lib/python3.10/dist-packages (from google-cloud-storage->earthengine-api->eemont) (2.5.0)\n",
            "Requirement already satisfied: googleapis-common-protos<2.0.dev0,>=1.56.2 in /usr/local/lib/python3.10/dist-packages (from google-api-core!=2.0.*,!=2.1.*,!=2.2.*,!=2.3.0,<3.0.0dev,>=1.31.5->google-api-python-client>=1.12.1->earthengine-api->eemont) (1.60.0)\n",
            "Requirement already satisfied: protobuf!=3.20.0,!=3.20.1,!=4.21.0,!=4.21.1,!=4.21.2,!=4.21.3,!=4.21.4,!=4.21.5,<5.0.0.dev0,>=3.19.5 in /usr/local/lib/python3.10/dist-packages (from google-api-core!=2.0.*,!=2.1.*,!=2.2.*,!=2.3.0,<3.0.0dev,>=1.31.5->google-api-python-client>=1.12.1->earthengine-api->eemont) (3.20.3)\n",
            "Requirement already satisfied: google-crc32c<2.0dev,>=1.0 in /usr/local/lib/python3.10/dist-packages (from google-resumable-media>=2.3.2->google-cloud-storage->earthengine-api->eemont) (1.5.0)\n",
            "Requirement already satisfied: pyasn1<0.6.0,>=0.4.6 in /usr/local/lib/python3.10/dist-packages (from pyasn1-modules>=0.2.1->google-auth>=1.4.1->earthengine-api->eemont) (0.5.0)\n",
            "Building wheels for collected packages: eemont, ee_extra\n",
            "  Building wheel for eemont (setup.py) ... \u001b[?25l\u001b[?25hdone\n",
            "  Created wheel for eemont: filename=eemont-0.3.6-py3-none-any.whl size=135741 sha256=ee5b9a2a1e1a8c769fc740c3f9e86413ea604aa68de6bd410d14eabaa888c99c\n",
            "  Stored in directory: /root/.cache/pip/wheels/c2/79/2c/4fed17c3d3b466bbf4fe5872eec11f189147043b01152a4f75\n",
            "  Building wheel for ee_extra (setup.py) ... \u001b[?25l\u001b[?25hdone\n",
            "  Created wheel for ee_extra: filename=ee_extra-0.0.15-py3-none-any.whl size=236757 sha256=56b17e973d666f163bd91198fe6e37fcd553e3e88b5f8e980504ccab80d1a248\n",
            "  Stored in directory: /root/.cache/pip/wheels/29/96/0e/4e36b0dfd85e16867723df739294c0aa45a65b191adac4d959\n",
            "Successfully built eemont ee_extra\n",
            "Installing collected packages: ee_extra, eemont\n",
            "Successfully installed ee_extra-0.0.15 eemont-0.3.6\n"
          ]
        }
      ]
    },
    {
      "cell_type": "code",
      "execution_count": 4,
      "metadata": {
        "id": "Ew3_MrrGslr4"
      },
      "outputs": [],
      "source": [
        "# Standard imports\n",
        "import requests\n",
        "import json\n",
        "\n",
        "import pandas as pd\n",
        "import numpy as np\n",
        "from PIL import Image\n",
        "\n",
        "# Geospatial processing packages\n",
        "import geopandas as gpd\n",
        "import geojson\n",
        "\n",
        "import shapely\n",
        "from shapely.geometry import box\n",
        "\n",
        "# Mapping and plotting libraries\n",
        "import matplotlib.pyplot as plt\n",
        "import matplotlib.colors as cl\n",
        "import ee\n",
        "import eeconvert as eec\n",
        "import geemap\n",
        "import folium\n",
        "import eemont\n",
        "\n",
        "import geopandas as gpd\n",
        "from shapely.geometry import shape"
      ]
    },
    {
      "cell_type": "markdown",
      "metadata": {
        "id": "u7UQeErEItTQ"
      },
      "source": [
        "### Mount Drive"
      ]
    },
    {
      "cell_type": "code",
      "execution_count": 5,
      "metadata": {
        "colab": {
          "base_uri": "https://localhost:8080/"
        },
        "id": "IQvQCFgfIsoo",
        "outputId": "c852b904-aceb-41b5-ec7a-ab4bbfc4ef00"
      },
      "outputs": [
        {
          "output_type": "stream",
          "name": "stdout",
          "text": [
            "Mounted at /content/drive\n"
          ]
        }
      ],
      "source": [
        "from google.colab import drive\n",
        "drive.mount('/content/drive', force_remount=True)"
      ]
    },
    {
      "cell_type": "markdown",
      "metadata": {
        "id": "N8JfmJxa043J"
      },
      "source": [
        "### Authenticate Google Earth Engine\n",
        "Make sure you have signed up for access to Google Earth Engine at https://signup.earthengine.google.com/#!/. Once your request has been approved, you should be able to access Google Earth Engine at https://code.earthengine.google.com/."
      ]
    },
    {
      "cell_type": "code",
      "execution_count": 6,
      "metadata": {
        "id": "w5nXj4Fo03Wr",
        "outputId": "648f67e9-41f8-411f-9429-613d87220ebb",
        "colab": {
          "base_uri": "https://localhost:8080/"
        }
      },
      "outputs": [
        {
          "output_type": "stream",
          "name": "stdout",
          "text": [
            "To authorize access needed by Earth Engine, open the following URL in a web browser and follow the instructions. If the web browser does not start automatically, please manually browse the URL below.\n",
            "\n",
            "    https://code.earthengine.google.com/client-auth?scopes=https%3A//www.googleapis.com/auth/earthengine%20https%3A//www.googleapis.com/auth/devstorage.full_control&request_id=9ekZGjNes2aSEd3nUNu1OjsX-c2XCNi97PDFgvQ_t_c&tc=d03AF6X30oY1mOMDaECqK_ZFkvXPVaLCVyL3HscLWsY&cc=6f9CordwalGYSdCVYyRJpnOaR1lXpFRP-jU5dOlVy00\n",
            "\n",
            "The authorization workflow will generate a code, which you should paste in the box below.\n",
            "Enter verification code: 4/1Adeu5BX2AWPArEjRXw7uZ7Ei_CxTiZoNse1w3UaXPWH799HP9AbPQ9iQwzQ\n",
            "\n",
            "Successfully saved authorization token.\n"
          ]
        }
      ],
      "source": [
        "ee.Authenticate()\n",
        "ee.Initialize()"
      ]
    },
    {
      "cell_type": "code",
      "execution_count": 99,
      "metadata": {
        "colab": {
          "base_uri": "https://localhost:8080/"
        },
        "id": "Oh_8NeAcs3qS",
        "outputId": "67fa1c3e-55f7-4aab-bcf1-ae3a29e0f9db"
      },
      "outputs": [
        {
          "output_type": "stream",
          "name": "stdout",
          "text": [
            "Data dimensions: (12606, 19)\n"
          ]
        }
      ],
      "source": [
        "# Read the GeoJSON file\n",
        "mines = gpd.read_file('/content/drive/MyDrive/KY_Released_mines.geojson')\n",
        "\n",
        "# Read data using GeoPandas\n",
        "print(\"Data dimensions: {}\".format(mines.shape))"
      ]
    },
    {
      "cell_type": "code",
      "source": [
        "# Get the shape geometry\n",
        "region = eec.gdfToFc(mines)"
      ],
      "metadata": {
        "id": "kjyXG3tT-4u0"
      },
      "execution_count": 60,
      "outputs": []
    },
    {
      "cell_type": "code",
      "source": [
        "mines_exploded= mines.explode()\n",
        "mines_exploded"
      ],
      "metadata": {
        "colab": {
          "base_uri": "https://localhost:8080/",
          "height": 1000
        },
        "id": "Iq8ynnoyipua",
        "outputId": "41762703-91f4-446e-9402-a00464d309d0"
      },
      "execution_count": 95,
      "outputs": [
        {
          "output_type": "stream",
          "name": "stderr",
          "text": [
            "<ipython-input-95-86b5dc24b419>:1: FutureWarning: Currently, index_parts defaults to True, but in the future, it will default to False to be consistent with Pandas. Use `index_parts=True` to keep the current behavior and True/False to silence the warning.\n",
            "  mines_exploded= mines.explode()\n"
          ]
        },
        {
          "output_type": "execute_result",
          "data": {
            "text/plain": [
              "                           id  ACT_INAC  Calc_Acres  \\\n",
              "0     0  00000000000000001111  Released  294.302954   \n",
              "1     0  00000000000000001112  Released  305.739886   \n",
              "      1  00000000000000001112  Released  305.739886   \n",
              "      2  00000000000000001112  Released  305.739886   \n",
              "      3  00000000000000001112  Released  305.739886   \n",
              "...                       ...       ...         ...   \n",
              "12603 2  00000000000000000472  Released   56.660359   \n",
              "12604 0  0000000000000000308a  Released   14.972560   \n",
              "      1  0000000000000000308a  Released   14.972560   \n",
              "      2  0000000000000000308a  Released   14.972560   \n",
              "12605 0  000000000000000004fc  Released   35.631015   \n",
              "\n",
              "                             Contact       DATE_ISS FeatCLS MINE_STATU  \\\n",
              "0     0  KY Division of Mine Permits  1141718400000      SF         FF   \n",
              "1     0  KY Division of Mine Permits  1141718400000      SF         FF   \n",
              "      1  KY Division of Mine Permits  1141718400000      SF         FF   \n",
              "      2  KY Division of Mine Permits  1141718400000      SF         FF   \n",
              "      3  KY Division of Mine Permits  1141718400000      SF         FF   \n",
              "...                              ...            ...     ...        ...   \n",
              "12603 2  KY Division of Mine Permits   255254400000      SF         XX   \n",
              "12604 0  KY Division of Mine Permits   166863600000      SF         XX   \n",
              "      1  KY Division of Mine Permits   166863600000      SF         XX   \n",
              "      2  KY Division of Mine Permits   166863600000      SF         XX   \n",
              "12605 0  KY Division of Mine Permits   262598400000      SF         XX   \n",
              "\n",
              "        National_I ORIG_PERM  \\\n",
              "0     0  KY8640180   8640180   \n",
              "1     0  KY8640180   8640180   \n",
              "      1  KY8640180   8640180   \n",
              "      2  KY8640180   8640180   \n",
              "      3  KY8640180   8640180   \n",
              "...            ...       ...   \n",
              "12603 2  KY686977X   686977X   \n",
              "12604 0  KY388574X   388574X   \n",
              "      1  KY388574X   388574X   \n",
              "      2  KY388574X   388574X   \n",
              "12605 0  KY710477X   710477X   \n",
              "\n",
              "                                                  PERM_ACT  \\\n",
              "0     0  SU      03/07/2013  AM   1  05/12/2011  RN   1...   \n",
              "1     0  SU      03/07/2013  AM   1  05/12/2011  RN   1...   \n",
              "      1  SU      03/07/2013  AM   1  05/12/2011  RN   1...   \n",
              "      2  SU      03/07/2013  AM   1  05/12/2011  RN   1...   \n",
              "      3  SU      03/07/2013  AM   1  05/12/2011  RN   1...   \n",
              "...                                                    ...   \n",
              "12603 2                                 NW      02/02/1978   \n",
              "12604 0             AM      07/14/1975  NW      04/16/1975   \n",
              "      1             AM      07/14/1975  NW      04/16/1975   \n",
              "      2             AM      07/14/1975  NW      04/16/1975   \n",
              "12605 0                                 NW      04/28/1978   \n",
              "\n",
              "                        PER_NAME   PER_TYPE PermitNo       QUAD_DESC  \\\n",
              "0     0         B & C ENERGY INC  PERMANENT  8640180           MAZIE   \n",
              "1     0         B & C ENERGY INC  PERMANENT  8640180           MAZIE   \n",
              "      1         B & C ENERGY INC  PERMANENT  8640180           MAZIE   \n",
              "      2         B & C ENERGY INC  PERMANENT  8640180           MAZIE   \n",
              "      3         B & C ENERGY INC  PERMANENT  8640180           MAZIE   \n",
              "...                          ...        ...      ...             ...   \n",
              "12603 2         CAL GLO COAL INC    PRE LAW  686977X    BARBOURVILLE   \n",
              "12604 0   KY PACIFIC MINING CORP    PRE LAW  388574X    BARBOURVILLE   \n",
              "      1   KY PACIFIC MINING CORP    PRE LAW  388574X    BARBOURVILLE   \n",
              "      2   KY PACIFIC MINING CORP    PRE LAW  388574X    BARBOURVILLE   \n",
              "12605 0  T & T DARBY COAL CO INC    PRE LAW  710477X  PENNINGTON GAP   \n",
              "\n",
              "           REGION_DES    Shape_Leng       Source Type_Flag  \\\n",
              "0     0  PRESTONSBURG  53267.493940         CHIA      TRNS   \n",
              "1     0  PRESTONSBURG  92560.008796        KYDMP      TRNS   \n",
              "      1  PRESTONSBURG  92560.008796        KYDMP      TRNS   \n",
              "      2  PRESTONSBURG  92560.008796        KYDMP      TRNS   \n",
              "      3  PRESTONSBURG  92560.008796        KYDMP      TRNS   \n",
              "...               ...           ...          ...       ...   \n",
              "12603 2   MIDDLESBORO  16743.038634  KGS Project     INACT   \n",
              "12604 0   MIDDLESBORO   7858.160818  KGS Project     INACT   \n",
              "      1   MIDDLESBORO   7858.160818  KGS Project     INACT   \n",
              "      2   MIDDLESBORO   7858.160818  KGS Project     INACT   \n",
              "12605 0   MIDDLESBORO  77683.903613  KGS Project     INACT   \n",
              "\n",
              "                                                  geometry  \n",
              "0     0  POLYGON ((-82.96438 38.04585, -82.96352 38.045...  \n",
              "1     0  LINESTRING (-82.95661 38.04524, -82.95662 38.0...  \n",
              "      1  POLYGON ((-82.96448 38.04613, -82.96335 38.045...  \n",
              "      2  POLYGON ((-82.96034 38.04565, -82.96033 38.045...  \n",
              "      3  POLYGON ((-82.95562 38.04975, -82.95548 38.049...  \n",
              "...                                                    ...  \n",
              "12603 2  POLYGON ((-83.99984 36.75171, -83.99983 36.750...  \n",
              "12604 0  POLYGON ((-83.95358 36.79714, -83.95352 36.797...  \n",
              "      1  POLYGON ((-83.95358 36.79714, -83.95380 36.797...  \n",
              "      2  POLYGON ((-83.94653 36.79363, -83.94638 36.793...  \n",
              "12605 0  POLYGON ((-83.05177 36.85208, -83.05165 36.852...  \n",
              "\n",
              "[26335 rows x 19 columns]"
            ],
            "text/html": [
              "\n",
              "  <div id=\"df-c8d1ed7a-3492-4d72-891a-7b3756f8b363\" class=\"colab-df-container\">\n",
              "    <div>\n",
              "<style scoped>\n",
              "    .dataframe tbody tr th:only-of-type {\n",
              "        vertical-align: middle;\n",
              "    }\n",
              "\n",
              "    .dataframe tbody tr th {\n",
              "        vertical-align: top;\n",
              "    }\n",
              "\n",
              "    .dataframe thead th {\n",
              "        text-align: right;\n",
              "    }\n",
              "</style>\n",
              "<table border=\"1\" class=\"dataframe\">\n",
              "  <thead>\n",
              "    <tr style=\"text-align: right;\">\n",
              "      <th></th>\n",
              "      <th></th>\n",
              "      <th>id</th>\n",
              "      <th>ACT_INAC</th>\n",
              "      <th>Calc_Acres</th>\n",
              "      <th>Contact</th>\n",
              "      <th>DATE_ISS</th>\n",
              "      <th>FeatCLS</th>\n",
              "      <th>MINE_STATU</th>\n",
              "      <th>National_I</th>\n",
              "      <th>ORIG_PERM</th>\n",
              "      <th>PERM_ACT</th>\n",
              "      <th>PER_NAME</th>\n",
              "      <th>PER_TYPE</th>\n",
              "      <th>PermitNo</th>\n",
              "      <th>QUAD_DESC</th>\n",
              "      <th>REGION_DES</th>\n",
              "      <th>Shape_Leng</th>\n",
              "      <th>Source</th>\n",
              "      <th>Type_Flag</th>\n",
              "      <th>geometry</th>\n",
              "    </tr>\n",
              "  </thead>\n",
              "  <tbody>\n",
              "    <tr>\n",
              "      <th>0</th>\n",
              "      <th>0</th>\n",
              "      <td>00000000000000001111</td>\n",
              "      <td>Released</td>\n",
              "      <td>294.302954</td>\n",
              "      <td>KY Division of Mine Permits</td>\n",
              "      <td>1141718400000</td>\n",
              "      <td>SF</td>\n",
              "      <td>FF</td>\n",
              "      <td>KY8640180</td>\n",
              "      <td>8640180</td>\n",
              "      <td>SU      03/07/2013  AM   1  05/12/2011  RN   1...</td>\n",
              "      <td>B &amp; C ENERGY INC</td>\n",
              "      <td>PERMANENT</td>\n",
              "      <td>8640180</td>\n",
              "      <td>MAZIE</td>\n",
              "      <td>PRESTONSBURG</td>\n",
              "      <td>53267.493940</td>\n",
              "      <td>CHIA</td>\n",
              "      <td>TRNS</td>\n",
              "      <td>POLYGON ((-82.96438 38.04585, -82.96352 38.045...</td>\n",
              "    </tr>\n",
              "    <tr>\n",
              "      <th rowspan=\"4\" valign=\"top\">1</th>\n",
              "      <th>0</th>\n",
              "      <td>00000000000000001112</td>\n",
              "      <td>Released</td>\n",
              "      <td>305.739886</td>\n",
              "      <td>KY Division of Mine Permits</td>\n",
              "      <td>1141718400000</td>\n",
              "      <td>SF</td>\n",
              "      <td>FF</td>\n",
              "      <td>KY8640180</td>\n",
              "      <td>8640180</td>\n",
              "      <td>SU      03/07/2013  AM   1  05/12/2011  RN   1...</td>\n",
              "      <td>B &amp; C ENERGY INC</td>\n",
              "      <td>PERMANENT</td>\n",
              "      <td>8640180</td>\n",
              "      <td>MAZIE</td>\n",
              "      <td>PRESTONSBURG</td>\n",
              "      <td>92560.008796</td>\n",
              "      <td>KYDMP</td>\n",
              "      <td>TRNS</td>\n",
              "      <td>LINESTRING (-82.95661 38.04524, -82.95662 38.0...</td>\n",
              "    </tr>\n",
              "    <tr>\n",
              "      <th>1</th>\n",
              "      <td>00000000000000001112</td>\n",
              "      <td>Released</td>\n",
              "      <td>305.739886</td>\n",
              "      <td>KY Division of Mine Permits</td>\n",
              "      <td>1141718400000</td>\n",
              "      <td>SF</td>\n",
              "      <td>FF</td>\n",
              "      <td>KY8640180</td>\n",
              "      <td>8640180</td>\n",
              "      <td>SU      03/07/2013  AM   1  05/12/2011  RN   1...</td>\n",
              "      <td>B &amp; C ENERGY INC</td>\n",
              "      <td>PERMANENT</td>\n",
              "      <td>8640180</td>\n",
              "      <td>MAZIE</td>\n",
              "      <td>PRESTONSBURG</td>\n",
              "      <td>92560.008796</td>\n",
              "      <td>KYDMP</td>\n",
              "      <td>TRNS</td>\n",
              "      <td>POLYGON ((-82.96448 38.04613, -82.96335 38.045...</td>\n",
              "    </tr>\n",
              "    <tr>\n",
              "      <th>2</th>\n",
              "      <td>00000000000000001112</td>\n",
              "      <td>Released</td>\n",
              "      <td>305.739886</td>\n",
              "      <td>KY Division of Mine Permits</td>\n",
              "      <td>1141718400000</td>\n",
              "      <td>SF</td>\n",
              "      <td>FF</td>\n",
              "      <td>KY8640180</td>\n",
              "      <td>8640180</td>\n",
              "      <td>SU      03/07/2013  AM   1  05/12/2011  RN   1...</td>\n",
              "      <td>B &amp; C ENERGY INC</td>\n",
              "      <td>PERMANENT</td>\n",
              "      <td>8640180</td>\n",
              "      <td>MAZIE</td>\n",
              "      <td>PRESTONSBURG</td>\n",
              "      <td>92560.008796</td>\n",
              "      <td>KYDMP</td>\n",
              "      <td>TRNS</td>\n",
              "      <td>POLYGON ((-82.96034 38.04565, -82.96033 38.045...</td>\n",
              "    </tr>\n",
              "    <tr>\n",
              "      <th>3</th>\n",
              "      <td>00000000000000001112</td>\n",
              "      <td>Released</td>\n",
              "      <td>305.739886</td>\n",
              "      <td>KY Division of Mine Permits</td>\n",
              "      <td>1141718400000</td>\n",
              "      <td>SF</td>\n",
              "      <td>FF</td>\n",
              "      <td>KY8640180</td>\n",
              "      <td>8640180</td>\n",
              "      <td>SU      03/07/2013  AM   1  05/12/2011  RN   1...</td>\n",
              "      <td>B &amp; C ENERGY INC</td>\n",
              "      <td>PERMANENT</td>\n",
              "      <td>8640180</td>\n",
              "      <td>MAZIE</td>\n",
              "      <td>PRESTONSBURG</td>\n",
              "      <td>92560.008796</td>\n",
              "      <td>KYDMP</td>\n",
              "      <td>TRNS</td>\n",
              "      <td>POLYGON ((-82.95562 38.04975, -82.95548 38.049...</td>\n",
              "    </tr>\n",
              "    <tr>\n",
              "      <th>...</th>\n",
              "      <th>...</th>\n",
              "      <td>...</td>\n",
              "      <td>...</td>\n",
              "      <td>...</td>\n",
              "      <td>...</td>\n",
              "      <td>...</td>\n",
              "      <td>...</td>\n",
              "      <td>...</td>\n",
              "      <td>...</td>\n",
              "      <td>...</td>\n",
              "      <td>...</td>\n",
              "      <td>...</td>\n",
              "      <td>...</td>\n",
              "      <td>...</td>\n",
              "      <td>...</td>\n",
              "      <td>...</td>\n",
              "      <td>...</td>\n",
              "      <td>...</td>\n",
              "      <td>...</td>\n",
              "      <td>...</td>\n",
              "    </tr>\n",
              "    <tr>\n",
              "      <th>12603</th>\n",
              "      <th>2</th>\n",
              "      <td>00000000000000000472</td>\n",
              "      <td>Released</td>\n",
              "      <td>56.660359</td>\n",
              "      <td>KY Division of Mine Permits</td>\n",
              "      <td>255254400000</td>\n",
              "      <td>SF</td>\n",
              "      <td>XX</td>\n",
              "      <td>KY686977X</td>\n",
              "      <td>686977X</td>\n",
              "      <td>NW      02/02/1978</td>\n",
              "      <td>CAL GLO COAL INC</td>\n",
              "      <td>PRE LAW</td>\n",
              "      <td>686977X</td>\n",
              "      <td>BARBOURVILLE</td>\n",
              "      <td>MIDDLESBORO</td>\n",
              "      <td>16743.038634</td>\n",
              "      <td>KGS Project</td>\n",
              "      <td>INACT</td>\n",
              "      <td>POLYGON ((-83.99984 36.75171, -83.99983 36.750...</td>\n",
              "    </tr>\n",
              "    <tr>\n",
              "      <th rowspan=\"3\" valign=\"top\">12604</th>\n",
              "      <th>0</th>\n",
              "      <td>0000000000000000308a</td>\n",
              "      <td>Released</td>\n",
              "      <td>14.972560</td>\n",
              "      <td>KY Division of Mine Permits</td>\n",
              "      <td>166863600000</td>\n",
              "      <td>SF</td>\n",
              "      <td>XX</td>\n",
              "      <td>KY388574X</td>\n",
              "      <td>388574X</td>\n",
              "      <td>AM      07/14/1975  NW      04/16/1975</td>\n",
              "      <td>KY PACIFIC MINING CORP</td>\n",
              "      <td>PRE LAW</td>\n",
              "      <td>388574X</td>\n",
              "      <td>BARBOURVILLE</td>\n",
              "      <td>MIDDLESBORO</td>\n",
              "      <td>7858.160818</td>\n",
              "      <td>KGS Project</td>\n",
              "      <td>INACT</td>\n",
              "      <td>POLYGON ((-83.95358 36.79714, -83.95352 36.797...</td>\n",
              "    </tr>\n",
              "    <tr>\n",
              "      <th>1</th>\n",
              "      <td>0000000000000000308a</td>\n",
              "      <td>Released</td>\n",
              "      <td>14.972560</td>\n",
              "      <td>KY Division of Mine Permits</td>\n",
              "      <td>166863600000</td>\n",
              "      <td>SF</td>\n",
              "      <td>XX</td>\n",
              "      <td>KY388574X</td>\n",
              "      <td>388574X</td>\n",
              "      <td>AM      07/14/1975  NW      04/16/1975</td>\n",
              "      <td>KY PACIFIC MINING CORP</td>\n",
              "      <td>PRE LAW</td>\n",
              "      <td>388574X</td>\n",
              "      <td>BARBOURVILLE</td>\n",
              "      <td>MIDDLESBORO</td>\n",
              "      <td>7858.160818</td>\n",
              "      <td>KGS Project</td>\n",
              "      <td>INACT</td>\n",
              "      <td>POLYGON ((-83.95358 36.79714, -83.95380 36.797...</td>\n",
              "    </tr>\n",
              "    <tr>\n",
              "      <th>2</th>\n",
              "      <td>0000000000000000308a</td>\n",
              "      <td>Released</td>\n",
              "      <td>14.972560</td>\n",
              "      <td>KY Division of Mine Permits</td>\n",
              "      <td>166863600000</td>\n",
              "      <td>SF</td>\n",
              "      <td>XX</td>\n",
              "      <td>KY388574X</td>\n",
              "      <td>388574X</td>\n",
              "      <td>AM      07/14/1975  NW      04/16/1975</td>\n",
              "      <td>KY PACIFIC MINING CORP</td>\n",
              "      <td>PRE LAW</td>\n",
              "      <td>388574X</td>\n",
              "      <td>BARBOURVILLE</td>\n",
              "      <td>MIDDLESBORO</td>\n",
              "      <td>7858.160818</td>\n",
              "      <td>KGS Project</td>\n",
              "      <td>INACT</td>\n",
              "      <td>POLYGON ((-83.94653 36.79363, -83.94638 36.793...</td>\n",
              "    </tr>\n",
              "    <tr>\n",
              "      <th>12605</th>\n",
              "      <th>0</th>\n",
              "      <td>000000000000000004fc</td>\n",
              "      <td>Released</td>\n",
              "      <td>35.631015</td>\n",
              "      <td>KY Division of Mine Permits</td>\n",
              "      <td>262598400000</td>\n",
              "      <td>SF</td>\n",
              "      <td>XX</td>\n",
              "      <td>KY710477X</td>\n",
              "      <td>710477X</td>\n",
              "      <td>NW      04/28/1978</td>\n",
              "      <td>T &amp; T DARBY COAL CO INC</td>\n",
              "      <td>PRE LAW</td>\n",
              "      <td>710477X</td>\n",
              "      <td>PENNINGTON GAP</td>\n",
              "      <td>MIDDLESBORO</td>\n",
              "      <td>77683.903613</td>\n",
              "      <td>KGS Project</td>\n",
              "      <td>INACT</td>\n",
              "      <td>POLYGON ((-83.05177 36.85208, -83.05165 36.852...</td>\n",
              "    </tr>\n",
              "  </tbody>\n",
              "</table>\n",
              "<p>26335 rows × 19 columns</p>\n",
              "</div>\n",
              "    <div class=\"colab-df-buttons\">\n",
              "\n",
              "  <div class=\"colab-df-container\">\n",
              "    <button class=\"colab-df-convert\" onclick=\"convertToInteractive('df-c8d1ed7a-3492-4d72-891a-7b3756f8b363')\"\n",
              "            title=\"Convert this dataframe to an interactive table.\"\n",
              "            style=\"display:none;\">\n",
              "\n",
              "  <svg xmlns=\"http://www.w3.org/2000/svg\" height=\"24px\" viewBox=\"0 -960 960 960\">\n",
              "    <path d=\"M120-120v-720h720v720H120Zm60-500h600v-160H180v160Zm220 220h160v-160H400v160Zm0 220h160v-160H400v160ZM180-400h160v-160H180v160Zm440 0h160v-160H620v160ZM180-180h160v-160H180v160Zm440 0h160v-160H620v160Z\"/>\n",
              "  </svg>\n",
              "    </button>\n",
              "\n",
              "  <style>\n",
              "    .colab-df-container {\n",
              "      display:flex;\n",
              "      gap: 12px;\n",
              "    }\n",
              "\n",
              "    .colab-df-convert {\n",
              "      background-color: #E8F0FE;\n",
              "      border: none;\n",
              "      border-radius: 50%;\n",
              "      cursor: pointer;\n",
              "      display: none;\n",
              "      fill: #1967D2;\n",
              "      height: 32px;\n",
              "      padding: 0 0 0 0;\n",
              "      width: 32px;\n",
              "    }\n",
              "\n",
              "    .colab-df-convert:hover {\n",
              "      background-color: #E2EBFA;\n",
              "      box-shadow: 0px 1px 2px rgba(60, 64, 67, 0.3), 0px 1px 3px 1px rgba(60, 64, 67, 0.15);\n",
              "      fill: #174EA6;\n",
              "    }\n",
              "\n",
              "    .colab-df-buttons div {\n",
              "      margin-bottom: 4px;\n",
              "    }\n",
              "\n",
              "    [theme=dark] .colab-df-convert {\n",
              "      background-color: #3B4455;\n",
              "      fill: #D2E3FC;\n",
              "    }\n",
              "\n",
              "    [theme=dark] .colab-df-convert:hover {\n",
              "      background-color: #434B5C;\n",
              "      box-shadow: 0px 1px 3px 1px rgba(0, 0, 0, 0.15);\n",
              "      filter: drop-shadow(0px 1px 2px rgba(0, 0, 0, 0.3));\n",
              "      fill: #FFFFFF;\n",
              "    }\n",
              "  </style>\n",
              "\n",
              "    <script>\n",
              "      const buttonEl =\n",
              "        document.querySelector('#df-c8d1ed7a-3492-4d72-891a-7b3756f8b363 button.colab-df-convert');\n",
              "      buttonEl.style.display =\n",
              "        google.colab.kernel.accessAllowed ? 'block' : 'none';\n",
              "\n",
              "      async function convertToInteractive(key) {\n",
              "        const element = document.querySelector('#df-c8d1ed7a-3492-4d72-891a-7b3756f8b363');\n",
              "        const dataTable =\n",
              "          await google.colab.kernel.invokeFunction('convertToInteractive',\n",
              "                                                    [key], {});\n",
              "        if (!dataTable) return;\n",
              "\n",
              "        const docLinkHtml = 'Like what you see? Visit the ' +\n",
              "          '<a target=\"_blank\" href=https://colab.research.google.com/notebooks/data_table.ipynb>data table notebook</a>'\n",
              "          + ' to learn more about interactive tables.';\n",
              "        element.innerHTML = '';\n",
              "        dataTable['output_type'] = 'display_data';\n",
              "        await google.colab.output.renderOutput(dataTable, element);\n",
              "        const docLink = document.createElement('div');\n",
              "        docLink.innerHTML = docLinkHtml;\n",
              "        element.appendChild(docLink);\n",
              "      }\n",
              "    </script>\n",
              "  </div>\n",
              "\n",
              "\n",
              "<div id=\"df-95c9fe0b-175d-4005-982f-9cee736bebc1\">\n",
              "  <button class=\"colab-df-quickchart\" onclick=\"quickchart('df-95c9fe0b-175d-4005-982f-9cee736bebc1')\"\n",
              "            title=\"Suggest charts.\"\n",
              "            style=\"display:none;\">\n",
              "\n",
              "<svg xmlns=\"http://www.w3.org/2000/svg\" height=\"24px\"viewBox=\"0 0 24 24\"\n",
              "     width=\"24px\">\n",
              "    <g>\n",
              "        <path d=\"M19 3H5c-1.1 0-2 .9-2 2v14c0 1.1.9 2 2 2h14c1.1 0 2-.9 2-2V5c0-1.1-.9-2-2-2zM9 17H7v-7h2v7zm4 0h-2V7h2v10zm4 0h-2v-4h2v4z\"/>\n",
              "    </g>\n",
              "</svg>\n",
              "  </button>\n",
              "\n",
              "<style>\n",
              "  .colab-df-quickchart {\n",
              "    background-color: #E8F0FE;\n",
              "    border: none;\n",
              "    border-radius: 50%;\n",
              "    cursor: pointer;\n",
              "    display: none;\n",
              "    fill: #1967D2;\n",
              "    height: 32px;\n",
              "    padding: 0 0 0 0;\n",
              "    width: 32px;\n",
              "  }\n",
              "\n",
              "  .colab-df-quickchart:hover {\n",
              "    background-color: #E2EBFA;\n",
              "    box-shadow: 0px 1px 2px rgba(60, 64, 67, 0.3), 0px 1px 3px 1px rgba(60, 64, 67, 0.15);\n",
              "    fill: #174EA6;\n",
              "  }\n",
              "\n",
              "  [theme=dark] .colab-df-quickchart {\n",
              "    background-color: #3B4455;\n",
              "    fill: #D2E3FC;\n",
              "  }\n",
              "\n",
              "  [theme=dark] .colab-df-quickchart:hover {\n",
              "    background-color: #434B5C;\n",
              "    box-shadow: 0px 1px 3px 1px rgba(0, 0, 0, 0.15);\n",
              "    filter: drop-shadow(0px 1px 2px rgba(0, 0, 0, 0.3));\n",
              "    fill: #FFFFFF;\n",
              "  }\n",
              "</style>\n",
              "\n",
              "  <script>\n",
              "    async function quickchart(key) {\n",
              "      const charts = await google.colab.kernel.invokeFunction(\n",
              "          'suggestCharts', [key], {});\n",
              "    }\n",
              "    (() => {\n",
              "      let quickchartButtonEl =\n",
              "        document.querySelector('#df-95c9fe0b-175d-4005-982f-9cee736bebc1 button');\n",
              "      quickchartButtonEl.style.display =\n",
              "        google.colab.kernel.accessAllowed ? 'block' : 'none';\n",
              "    })();\n",
              "  </script>\n",
              "</div>\n",
              "    </div>\n",
              "  </div>\n"
            ]
          },
          "metadata": {},
          "execution_count": 95
        }
      ]
    },
    {
      "cell_type": "code",
      "source": [
        "dw = ee.ImageCollection('GOOGLE/DYNAMICWORLD/V1')\n",
        "\n",
        "probability_bands = [\n",
        "  'water', 'trees', 'grass', 'flooded_vegetation', 'crops',\n",
        "  'shrub_and_scrub', 'built', 'bare', 'snow_and_ice',\n",
        "]\n",
        "palette = [\n",
        "  '#419BDF', '#397D49', '#88B053', '#7A87C6', '#E49635',\n",
        "  '#DFC35A', '#C4281B', '#A59B8F', '#B39FE1'\n",
        "]\n",
        "\n",
        "start_date = '2019-04-01'\n",
        "end_date = '2019-07-01'\n",
        "\n",
        "# Filter image collections by time\n",
        "dw_time_interval = dw.filter(ee.Filter.date(start_date, end_date))\n",
        "\n",
        "# Select probability bands\n",
        "dw_time_series = dw_time_interval.select(probability_bands)\n",
        "\n",
        "# Create a multi-band image summarizing probability\n",
        "# for each band across the time-period\n",
        "mean_probability = dw_time_series.reduce(ee.Reducer.mean())\n",
        "\n",
        "# Create a single band image containing the class with the top probability\n",
        "top_probability = mean_probability.toArray().arrayArgmax().arrayGet(0).rename('label')\n",
        "\n",
        "geometry = ee.Geometry.Polygon(\n",
        "        [[[-77.26456078565367, 38.98239629898283],\n",
        "          [-77.26456078565367, 38.24414499918236],\n",
        "          [-76.27579125440367, 38.24414499918236],\n",
        "          [-76.27579125440367, 38.98239629898283]]])\n",
        "\n",
        "url = top_probability.getThumbURL({\n",
        "  'region': geometry,\n",
        "  'dimensions':'300',\n",
        "  'min': 0,\n",
        "  'max': 8,\n",
        "  'palette': palette,\n",
        "  'format': 'png'\n",
        "})\n",
        "\n",
        "from IPython.display import Image\n",
        "\n",
        "Image(url = url)"
      ],
      "metadata": {
        "colab": {
          "base_uri": "https://localhost:8080/",
          "height": 245
        },
        "id": "duSJIBkrrV3v",
        "outputId": "185ca5a6-8bc6-4960-a0cf-87466496efc1"
      },
      "execution_count": 13,
      "outputs": [
        {
          "output_type": "execute_result",
          "data": {
            "text/html": [
              "<img src=\"https://earthengine.googleapis.com/v1/projects/earthengine-legacy/thumbnails/c686a179b167b8b9026ce95efaaf855d-5c12f2ce126bf2422d9d84e76586a76d:getPixels\"/>"
            ],
            "text/plain": [
              "<IPython.core.display.Image object>"
            ]
          },
          "metadata": {},
          "execution_count": 13
        }
      ]
    },
    {
      "cell_type": "code",
      "source": [
        "mines['id'][2]"
      ],
      "metadata": {
        "colab": {
          "base_uri": "https://localhost:8080/",
          "height": 36
        },
        "id": "jxR3JIQCt6aH",
        "outputId": "21aa0bbc-9d48-4a49-962b-739c50692b5d"
      },
      "execution_count": 28,
      "outputs": [
        {
          "output_type": "execute_result",
          "data": {
            "text/plain": [
              "'00000000000000001f4d'"
            ],
            "application/vnd.google.colaboratory.intrinsic+json": {
              "type": "string"
            }
          },
          "metadata": {},
          "execution_count": 28
        }
      ]
    },
    {
      "cell_type": "code",
      "source": [
        "region"
      ],
      "metadata": {
        "id": "w7kXWQ0xBAdu",
        "outputId": "87f263ac-fb98-49b5-dc4e-f8188d66993a",
        "colab": {
          "base_uri": "https://localhost:8080/",
          "height": 634
        }
      },
      "execution_count": 101,
      "outputs": [
        {
          "output_type": "execute_result",
          "data": {
            "text/plain": [
              "<ee.featurecollection.FeatureCollection at 0x7ebd62fa30d0>"
            ],
            "text/html": [
              "<div><style>:root {\n",
              "  --font-color-primary: var(--jp-content-font-color0, rgba(0, 0, 0, 1));\n",
              "  --font-color-secondary: var(--jp-content-font-color2, rgba(0, 0, 0, 0.6));\n",
              "  --font-color-accent: rgba(123, 31, 162, 1);\n",
              "  --border-color: var(--jp-border-color2, #e0e0e0);\n",
              "  --background-color: var(--jp-layout-color0, white);\n",
              "  --background-color-row-even: var(--jp-layout-color1, white);\n",
              "  --background-color-row-odd: var(--jp-layout-color2, #eeeeee);\n",
              "}\n",
              "\n",
              "html[theme=\"dark\"],\n",
              "body[data-theme=\"dark\"],\n",
              "body.vscode-dark {\n",
              "  --font-color-primary: rgba(255, 255, 255, 1);\n",
              "  --font-color-secondary: rgba(255, 255, 255, 0.6);\n",
              "  --font-color-accent: rgb(173, 132, 190);\n",
              "  --border-color: #2e2e2e;\n",
              "  --background-color: #111111;\n",
              "  --background-color-row-even: #111111;\n",
              "  --background-color-row-odd: #313131;\n",
              "}\n",
              "\n",
              ".ee {\n",
              "  padding: 1em;\n",
              "  line-height: 1.5em;\n",
              "  min-width: 300px;\n",
              "  max-width: 1200px;\n",
              "  overflow-y: scroll;\n",
              "  max-height: 600px;\n",
              "  border: 1px solid var(--border-color);\n",
              "  font-family: monospace;\n",
              "}\n",
              "\n",
              ".ee li {\n",
              "  list-style-type: none;\n",
              "}\n",
              "\n",
              ".ee ul {\n",
              "  padding-left: 1.5em !important;\n",
              "  margin: 0;\n",
              "}\n",
              "\n",
              ".ee > ul {\n",
              "  padding-left: 0 !important;\n",
              "}\n",
              "\n",
              ".ee-open,\n",
              ".ee-shut {\n",
              "  color: var(--font-color-secondary);\n",
              "  cursor: pointer;\n",
              "  margin: 0;\n",
              "}\n",
              "\n",
              ".ee-open:hover,\n",
              ".ee-shut:hover {\n",
              "  color: var(--font-color-primary);\n",
              "}\n",
              "\n",
              ".ee-k {\n",
              "  color: var(--font-color-accent);\n",
              "  margin-right: 6px;\n",
              "}\n",
              "\n",
              ".ee-v {\n",
              "  color: var(--font-color-primary);\n",
              "}\n",
              "\n",
              ".ee-toggle {\n",
              "  display: none;\n",
              "}\n",
              "\n",
              ".ee-shut + ul {\n",
              "  display: none;\n",
              "}\n",
              "\n",
              ".ee-open + ul {\n",
              "  display: block;\n",
              "}\n",
              "\n",
              ".ee-shut::before {\n",
              "  display: inline-block;\n",
              "  content: \"▼\";\n",
              "  margin-right: 6px;\n",
              "  transform: rotate(-90deg);\n",
              "  transition: transform 0.2s;\n",
              "}\n",
              "\n",
              ".ee-open::before {\n",
              "  transform: rotate(0deg);\n",
              "  display: inline-block;\n",
              "  content: \"▼\";\n",
              "  margin-right: 6px;\n",
              "  transition: transform 0.2s;\n",
              "}\n",
              "</style><div class='ee'><ul><li><label class='ee-shut'>FeatureCollection (1 element, 19 columns)<input type='checkbox' class='ee-toggle'></label><ul><li><span class='ee-k'>type:</span><span class='ee-v'>FeatureCollection</span></li><li><label class='ee-shut'>columns: Object (19 properties)<input type='checkbox' class='ee-toggle'></label><ul><li><span class='ee-k'>id:</span><span class='ee-v'>String</span></li><li><span class='ee-k'>ACT_INAC:</span><span class='ee-v'>String</span></li><li><span class='ee-k'>Calc_Acres:</span><span class='ee-v'>Float</span></li><li><span class='ee-k'>Contact:</span><span class='ee-v'>String</span></li><li><span class='ee-k'>DATE_ISS:</span><span class='ee-v'>Long</span></li><li><span class='ee-k'>FeatCLS:</span><span class='ee-v'>String</span></li><li><span class='ee-k'>MINE_STATU:</span><span class='ee-v'>String</span></li><li><span class='ee-k'>National_I:</span><span class='ee-v'>String</span></li><li><span class='ee-k'>ORIG_PERM:</span><span class='ee-v'>String</span></li><li><span class='ee-k'>PERM_ACT:</span><span class='ee-v'>String</span></li><li><span class='ee-k'>PER_NAME:</span><span class='ee-v'>String</span></li><li><span class='ee-k'>PER_TYPE:</span><span class='ee-v'>String</span></li><li><span class='ee-k'>PermitNo:</span><span class='ee-v'>String</span></li><li><span class='ee-k'>QUAD_DESC:</span><span class='ee-v'>String</span></li><li><span class='ee-k'>REGION_DES:</span><span class='ee-v'>String</span></li><li><span class='ee-k'>Shape_Leng:</span><span class='ee-v'>Float</span></li><li><span class='ee-k'>Source:</span><span class='ee-v'>String</span></li><li><span class='ee-k'>Type_Flag:</span><span class='ee-v'>String</span></li><li><span class='ee-k'>system:index:</span><span class='ee-v'>String</span></li></ul></li><li><label class='ee-shut'>features: List (1 element)<input type='checkbox' class='ee-toggle'></label><ul><li><label class='ee-shut'>0: Feature (MultiPolygon, 18 properties)<input type='checkbox' class='ee-toggle'></label><ul><li><span class='ee-k'>type:</span><span class='ee-v'>Feature</span></li><li><span class='ee-k'>id:</span><span class='ee-v'>0</span></li><li><label class='ee-shut'>geometry: MultiPolygon (8 vertices)<input type='checkbox' class='ee-toggle'></label><ul><li><span class='ee-k'>type:</span><span class='ee-v'>MultiPolygon</span></li><li><label class='ee-shut'>coordinates: List (2 elements)<input type='checkbox' class='ee-toggle'></label><ul><li><label class='ee-shut'>0: List (1 element)<input type='checkbox' class='ee-toggle'></label><ul><li><label class='ee-shut'>0: List (8 elements)<input type='checkbox' class='ee-toggle'></label><ul><li><label class='ee-shut'>0: [-83.192386, 38.203407]<input type='checkbox' class='ee-toggle'></label><ul><li><span class='ee-k'>0:</span><span class='ee-v'>-83.192386</span></li><li><span class='ee-k'>1:</span><span class='ee-v'>38.203407</span></li></ul></li><li><label class='ee-shut'>1: [-83.192154, 38.203406]<input type='checkbox' class='ee-toggle'></label><ul><li><span class='ee-k'>0:</span><span class='ee-v'>-83.192154</span></li><li><span class='ee-k'>1:</span><span class='ee-v'>38.203406</span></li></ul></li><li><label class='ee-shut'>2: [-83.191936, 38.203464]<input type='checkbox' class='ee-toggle'></label><ul><li><span class='ee-k'>0:</span><span class='ee-v'>-83.191936</span></li><li><span class='ee-k'>1:</span><span class='ee-v'>38.203464</span></li></ul></li><li><label class='ee-shut'>3: [-83.191936, 38.203795]<input type='checkbox' class='ee-toggle'></label><ul><li><span class='ee-k'>0:</span><span class='ee-v'>-83.191936</span></li><li><span class='ee-k'>1:</span><span class='ee-v'>38.203795</span></li></ul></li><li><label class='ee-shut'>4: [-83.192022, 38.204092]<input type='checkbox' class='ee-toggle'></label><ul><li><span class='ee-k'>0:</span><span class='ee-v'>-83.192022</span></li><li><span class='ee-k'>1:</span><span class='ee-v'>38.204092</span></li></ul></li><li><label class='ee-shut'>5: [-83.192161, 38.204024]<input type='checkbox' class='ee-toggle'></label><ul><li><span class='ee-k'>0:</span><span class='ee-v'>-83.192161</span></li><li><span class='ee-k'>1:</span><span class='ee-v'>38.204024</span></li></ul></li><li><label class='ee-shut'>6: [-83.192288, 38.203803]<input type='checkbox' class='ee-toggle'></label><ul><li><span class='ee-k'>0:</span><span class='ee-v'>-83.192288</span></li><li><span class='ee-k'>1:</span><span class='ee-v'>38.203803</span></li></ul></li><li><label class='ee-shut'>7: [-83.192386, 38.203407]<input type='checkbox' class='ee-toggle'></label><ul><li><span class='ee-k'>0:</span><span class='ee-v'>-83.192386</span></li><li><span class='ee-k'>1:</span><span class='ee-v'>38.203407</span></li></ul></li></ul></li></ul></li><li><label class='ee-shut'>1: List (1 element)<input type='checkbox' class='ee-toggle'></label><ul><li><label class='ee-shut'>0: List (25 elements)<input type='checkbox' class='ee-toggle'></label><ul><li><label class='ee-shut'>0: [-83.191836, 38.203909]<input type='checkbox' class='ee-toggle'></label><ul><li><span class='ee-k'>0:</span><span class='ee-v'>-83.191836</span></li><li><span class='ee-k'>1:</span><span class='ee-v'>38.203909</span></li></ul></li><li><label class='ee-shut'>1: [-83.191741, 38.203536]<input type='checkbox' class='ee-toggle'></label><ul><li><span class='ee-k'>0:</span><span class='ee-v'>-83.191741</span></li><li><span class='ee-k'>1:</span><span class='ee-v'>38.203536</span></li></ul></li><li><label class='ee-shut'>2: [-83.191603, 38.203582]<input type='checkbox' class='ee-toggle'></label><ul><li><span class='ee-k'>0:</span><span class='ee-v'>-83.191603</span></li><li><span class='ee-k'>1:</span><span class='ee-v'>38.203582</span></li></ul></li><li><label class='ee-shut'>3: [-83.191313, 38.203938]<input type='checkbox' class='ee-toggle'></label><ul><li><span class='ee-k'>0:</span><span class='ee-v'>-83.191313</span></li><li><span class='ee-k'>1:</span><span class='ee-v'>38.203938</span></li></ul></li><li><label class='ee-shut'>4: [-83.190964, 38.204208]<input type='checkbox' class='ee-toggle'></label><ul><li><span class='ee-k'>0:</span><span class='ee-v'>-83.190964</span></li><li><span class='ee-k'>1:</span><span class='ee-v'>38.204208</span></li></ul></li><li><label class='ee-shut'>5: [-83.190751, 38.204141]<input type='checkbox' class='ee-toggle'></label><ul><li><span class='ee-k'>0:</span><span class='ee-v'>-83.190751</span></li><li><span class='ee-k'>1:</span><span class='ee-v'>38.204141</span></li></ul></li><li><label class='ee-shut'>6: [-83.190653, 38.204184]<input type='checkbox' class='ee-toggle'></label><ul><li><span class='ee-k'>0:</span><span class='ee-v'>-83.190653</span></li><li><span class='ee-k'>1:</span><span class='ee-v'>38.204184</span></li></ul></li><li><label class='ee-shut'>7: [-83.19057, 38.204289]<input type='checkbox' class='ee-toggle'></label><ul><li><span class='ee-k'>0:</span><span class='ee-v'>-83.19057</span></li><li><span class='ee-k'>1:</span><span class='ee-v'>38.204289</span></li></ul></li><li><label class='ee-shut'>8: [-83.190619, 38.204348]<input type='checkbox' class='ee-toggle'></label><ul><li><span class='ee-k'>0:</span><span class='ee-v'>-83.190619</span></li><li><span class='ee-k'>1:</span><span class='ee-v'>38.204348</span></li></ul></li><li><label class='ee-shut'>9: [-83.190557, 38.204316]<input type='checkbox' class='ee-toggle'></label><ul><li><span class='ee-k'>0:</span><span class='ee-v'>-83.190557</span></li><li><span class='ee-k'>1:</span><span class='ee-v'>38.204316</span></li></ul></li><li><label class='ee-shut'>10: [-83.190048, 38.204944]<input type='checkbox' class='ee-toggle'></label><ul><li><span class='ee-k'>0:</span><span class='ee-v'>-83.190048</span></li><li><span class='ee-k'>1:</span><span class='ee-v'>38.204944</span></li></ul></li><li><label class='ee-shut'>11: [-83.189728, 38.204848]<input type='checkbox' class='ee-toggle'></label><ul><li><span class='ee-k'>0:</span><span class='ee-v'>-83.189728</span></li><li><span class='ee-k'>1:</span><span class='ee-v'>38.204848</span></li></ul></li><li><label class='ee-shut'>12: [-83.189464, 38.204628]<input type='checkbox' class='ee-toggle'></label><ul><li><span class='ee-k'>0:</span><span class='ee-v'>-83.189464</span></li><li><span class='ee-k'>1:</span><span class='ee-v'>38.204628</span></li></ul></li><li><label class='ee-shut'>13: [-83.189038, 38.204471]<input type='checkbox' class='ee-toggle'></label><ul><li><span class='ee-k'>0:</span><span class='ee-v'>-83.189038</span></li><li><span class='ee-k'>1:</span><span class='ee-v'>38.204471</span></li></ul></li><li><label class='ee-shut'>14: [-83.188412, 38.204377]<input type='checkbox' class='ee-toggle'></label><ul><li><span class='ee-k'>0:</span><span class='ee-v'>-83.188412</span></li><li><span class='ee-k'>1:</span><span class='ee-v'>38.204377</span></li></ul></li><li><label class='ee-shut'>15: [-83.188386, 38.204484]<input type='checkbox' class='ee-toggle'></label><ul><li><span class='ee-k'>0:</span><span class='ee-v'>-83.188386</span></li><li><span class='ee-k'>1:</span><span class='ee-v'>38.204484</span></li></ul></li><li><label class='ee-shut'>16: [-83.188989, 38.204573]<input type='checkbox' class='ee-toggle'></label><ul><li><span class='ee-k'>0:</span><span class='ee-v'>-83.188989</span></li><li><span class='ee-k'>1:</span><span class='ee-v'>38.204573</span></li></ul></li><li><label class='ee-shut'>17: [-83.189381, 38.20472]<input type='checkbox' class='ee-toggle'></label><ul><li><span class='ee-k'>0:</span><span class='ee-v'>-83.189381</span></li><li><span class='ee-k'>1:</span><span class='ee-v'>38.20472</span></li></ul></li><li><label class='ee-shut'>18: [-83.189646, 38.204936]<input type='checkbox' class='ee-toggle'></label><ul><li><span class='ee-k'>0:</span><span class='ee-v'>-83.189646</span></li><li><span class='ee-k'>1:</span><span class='ee-v'>38.204936</span></li></ul></li><li><label class='ee-shut'>19: [-83.190118, 38.205058]<input type='checkbox' class='ee-toggle'></label><ul><li><span class='ee-k'>0:</span><span class='ee-v'>-83.190118</span></li><li><span class='ee-k'>1:</span><span class='ee-v'>38.205058</span></li></ul></li><li><label class='ee-shut'>20: [-83.190663, 38.20439]<input type='checkbox' class='ee-toggle'></label><ul><li><span class='ee-k'>0:</span><span class='ee-v'>-83.190663</span></li><li><span class='ee-k'>1:</span><span class='ee-v'>38.20439</span></li></ul></li><li><label class='ee-shut'>21: [-83.191025, 38.204715]<input type='checkbox' class='ee-toggle'></label><ul><li><span class='ee-k'>0:</span><span class='ee-v'>-83.191025</span></li><li><span class='ee-k'>1:</span><span class='ee-v'>38.204715</span></li></ul></li><li><label class='ee-shut'>22: [-83.191232, 38.204661]<input type='checkbox' class='ee-toggle'></label><ul><li><span class='ee-k'>0:</span><span class='ee-v'>-83.191232</span></li><li><span class='ee-k'>1:</span><span class='ee-v'>38.204661</span></li></ul></li><li><label class='ee-shut'>23: [-83.1914, 38.204531]<input type='checkbox' class='ee-toggle'></label><ul><li><span class='ee-k'>0:</span><span class='ee-v'>-83.1914</span></li><li><span class='ee-k'>1:</span><span class='ee-v'>38.204531</span></li></ul></li><li><label class='ee-shut'>24: [-83.191836, 38.203909]<input type='checkbox' class='ee-toggle'></label><ul><li><span class='ee-k'>0:</span><span class='ee-v'>-83.191836</span></li><li><span class='ee-k'>1:</span><span class='ee-v'>38.203909</span></li></ul></li></ul></li></ul></li></ul></li></ul></li><li><label class='ee-shut'>properties: Object (18 properties)<input type='checkbox' class='ee-toggle'></label><ul><li><span class='ee-k'>id:</span><span class='ee-v'>000000000000000020c7</span></li><li><span class='ee-k'>ACT_INAC:</span><span class='ee-v'>Released</span></li><li><span class='ee-k'>Calc_Acres:</span><span class='ee-v'>2.79921059</span></li><li><span class='ee-k'>Contact:</span><span class='ee-v'>KY Division of Mine Permits</span></li><li><span class='ee-k'>DATE_ISS:</span><span class='ee-v'>388137600000</span></li><li><span class='ee-k'>FeatCLS:</span><span class='ee-v'>SF</span></li><li><span class='ee-k'>MINE_STATU:</span><span class='ee-v'>FF</span></li><li><span class='ee-k'>National_I:</span><span class='ee-v'>KY0320080</span></li><li><span class='ee-k'>ORIG_PERM:</span><span class='ee-v'>0320080</span></li><li><span class='ee-k'>PERM_ACT:</span><span class='ee-v'>NW      04/20/1982</span></li><li><span class='ee-k'>PER_NAME:</span><span class='ee-v'>HERBERT WELLS</span></li><li><span class='ee-k'>PER_TYPE:</span><span class='ee-v'>INTERIM</span></li><li><span class='ee-k'>PermitNo:</span><span class='ee-v'>0320080</span></li><li><span class='ee-k'>QUAD_DESC:</span><span class='ee-v'>AULT</span></li><li><span class='ee-k'>REGION_DES:</span><span class='ee-v'>PRESTONSBURG</span></li><li><span class='ee-k'>Shape_Leng:</span><span class='ee-v'>3544.76506298</span></li><li><span class='ee-k'>Source:</span><span class='ee-v'>KGS Project</span></li><li><span class='ee-k'>Type_Flag:</span><span class='ee-v'>INACT</span></li></ul></li></ul></li></ul></li></ul></li></ul></div><script>function toggleHeader() {\n",
              "    const parent = this.parentElement;\n",
              "    parent.className = parent.className === \"ee-open\" ? \"ee-shut\" : \"ee-open\";\n",
              "}\n",
              "\n",
              "for (let c of document.getElementsByClassName(\"ee-toggle\")) {\n",
              "    c.onclick = toggleHeader;\n",
              "}</script></div>"
            ]
          },
          "metadata": {},
          "execution_count": 101
        }
      ]
    },
    {
      "cell_type": "code",
      "source": [
        "polygon.geom_type"
      ],
      "metadata": {
        "id": "RzjvrlxAC3z2",
        "outputId": "13054b9f-9486-4755-b0dd-3b71fb3a1b91",
        "colab": {
          "base_uri": "https://localhost:8080/",
          "height": 36
        }
      },
      "execution_count": 108,
      "outputs": [
        {
          "output_type": "execute_result",
          "data": {
            "text/plain": [
              "'LineString'"
            ],
            "application/vnd.google.colaboratory.intrinsic+json": {
              "type": "string"
            }
          },
          "metadata": {},
          "execution_count": 108
        }
      ]
    },
    {
      "cell_type": "code",
      "source": [
        "polygon.coords[:]"
      ],
      "metadata": {
        "id": "0c0bpFF4E8Iw",
        "outputId": "b9a620b3-6374-494a-a344-58206ed9e3be",
        "colab": {
          "base_uri": "https://localhost:8080/"
        }
      },
      "execution_count": 112,
      "outputs": [
        {
          "output_type": "execute_result",
          "data": {
            "text/plain": [
              "[(-82.82046212182186, 37.26077605417971),\n",
              " (-82.82045025316167, 37.26079362562038)]"
            ]
          },
          "metadata": {},
          "execution_count": 112
        }
      ]
    },
    {
      "cell_type": "code",
      "source": [
        "ee.Geometry.LineString(polygon)"
      ],
      "metadata": {
        "id": "B-KHVLkREgcp",
        "outputId": "41605470-9744-4942-f703-f9e83fb5ff40",
        "colab": {
          "base_uri": "https://localhost:8080/",
          "height": 330
        }
      },
      "execution_count": 110,
      "outputs": [
        {
          "output_type": "error",
          "ename": "TypeError",
          "evalue": "ignored",
          "traceback": [
            "\u001b[0;31m---------------------------------------------------------------------------\u001b[0m",
            "\u001b[0;31mTypeError\u001b[0m                                 Traceback (most recent call last)",
            "\u001b[0;32m<ipython-input-110-5607a8122a64>\u001b[0m in \u001b[0;36m<cell line: 1>\u001b[0;34m()\u001b[0m\n\u001b[0;32m----> 1\u001b[0;31m \u001b[0mee\u001b[0m\u001b[0;34m.\u001b[0m\u001b[0mGeometry\u001b[0m\u001b[0;34m.\u001b[0m\u001b[0mLineString\u001b[0m\u001b[0;34m(\u001b[0m\u001b[0mpolygon\u001b[0m\u001b[0;34m)\u001b[0m\u001b[0;34m\u001b[0m\u001b[0;34m\u001b[0m\u001b[0m\n\u001b[0m",
            "\u001b[0;32m/usr/local/lib/python3.10/dist-packages/ee/geometry.py\u001b[0m in \u001b[0;36mLineString\u001b[0;34m(coords, proj, geodesic, maxError, *args)\u001b[0m\n\u001b[1;32m    397\u001b[0m     all_args = Geometry._GetSpecifiedArgs((coords, proj, geodesic, maxError) +\n\u001b[1;32m    398\u001b[0m                                           args)\n\u001b[0;32m--> 399\u001b[0;31m     \u001b[0;32mreturn\u001b[0m \u001b[0mGeometry\u001b[0m\u001b[0;34m(\u001b[0m\u001b[0mGeometry\u001b[0m\u001b[0;34m.\u001b[0m\u001b[0m_parseArgs\u001b[0m\u001b[0;34m(\u001b[0m\u001b[0;34m'LineString'\u001b[0m\u001b[0;34m,\u001b[0m \u001b[0;36m2\u001b[0m\u001b[0;34m,\u001b[0m \u001b[0mall_args\u001b[0m\u001b[0;34m)\u001b[0m\u001b[0;34m)\u001b[0m\u001b[0;34m\u001b[0m\u001b[0;34m\u001b[0m\u001b[0m\n\u001b[0m\u001b[1;32m    400\u001b[0m \u001b[0;34m\u001b[0m\u001b[0m\n\u001b[1;32m    401\u001b[0m   \u001b[0;31m# pylint: disable=keyword-arg-before-vararg\u001b[0m\u001b[0;34m\u001b[0m\u001b[0;34m\u001b[0m\u001b[0m\n",
            "\u001b[0;32m/usr/local/lib/python3.10/dist-packages/ee/geometry.py\u001b[0m in \u001b[0;36m_parseArgs\u001b[0;34m(ctor_name, depth, args)\u001b[0m\n\u001b[1;32m    757\u001b[0m       \u001b[0;31m# Everything can be handled here, so check the depth and init this object.\u001b[0m\u001b[0;34m\u001b[0m\u001b[0;34m\u001b[0m\u001b[0m\n\u001b[1;32m    758\u001b[0m       \u001b[0mresult\u001b[0m\u001b[0;34m[\u001b[0m\u001b[0;34m'type'\u001b[0m\u001b[0;34m]\u001b[0m \u001b[0;34m=\u001b[0m \u001b[0mctor_name\u001b[0m\u001b[0;34m\u001b[0m\u001b[0;34m\u001b[0m\u001b[0m\n\u001b[0;32m--> 759\u001b[0;31m       \u001b[0mresult\u001b[0m\u001b[0;34m[\u001b[0m\u001b[0;34m'coordinates'\u001b[0m\u001b[0;34m]\u001b[0m \u001b[0;34m=\u001b[0m \u001b[0mGeometry\u001b[0m\u001b[0;34m.\u001b[0m\u001b[0m_fixDepth\u001b[0m\u001b[0;34m(\u001b[0m\u001b[0mdepth\u001b[0m\u001b[0;34m,\u001b[0m \u001b[0mresult\u001b[0m\u001b[0;34m[\u001b[0m\u001b[0;34m'coordinates'\u001b[0m\u001b[0;34m]\u001b[0m\u001b[0;34m)\u001b[0m\u001b[0;34m\u001b[0m\u001b[0;34m\u001b[0m\u001b[0m\n\u001b[0m\u001b[1;32m    760\u001b[0m       \u001b[0;31m# Enable evenOdd by default for any kind of polygon.\u001b[0m\u001b[0;34m\u001b[0m\u001b[0;34m\u001b[0m\u001b[0m\n\u001b[1;32m    761\u001b[0m       if ('evenOdd' not in result and\n",
            "\u001b[0;32m/usr/local/lib/python3.10/dist-packages/ee/geometry.py\u001b[0m in \u001b[0;36m_fixDepth\u001b[0;34m(depth, coords)\u001b[0m\n\u001b[1;32m    804\u001b[0m \u001b[0;34m\u001b[0m\u001b[0m\n\u001b[1;32m    805\u001b[0m     \u001b[0;31m# Handle a list of numbers.\u001b[0m\u001b[0;34m\u001b[0m\u001b[0;34m\u001b[0m\u001b[0m\n\u001b[0;32m--> 806\u001b[0;31m     \u001b[0;32mif\u001b[0m \u001b[0mall\u001b[0m\u001b[0;34m(\u001b[0m\u001b[0misinstance\u001b[0m\u001b[0;34m(\u001b[0m\u001b[0mi\u001b[0m\u001b[0;34m,\u001b[0m \u001b[0mnumbers\u001b[0m\u001b[0;34m.\u001b[0m\u001b[0mNumber\u001b[0m\u001b[0;34m)\u001b[0m \u001b[0;32mfor\u001b[0m \u001b[0mi\u001b[0m \u001b[0;32min\u001b[0m \u001b[0mcoords\u001b[0m\u001b[0;34m)\u001b[0m\u001b[0;34m:\u001b[0m\u001b[0;34m\u001b[0m\u001b[0;34m\u001b[0m\u001b[0m\n\u001b[0m\u001b[1;32m    807\u001b[0m       \u001b[0mcoords\u001b[0m \u001b[0;34m=\u001b[0m \u001b[0mGeometry\u001b[0m\u001b[0;34m.\u001b[0m\u001b[0m_coordinatesToLine\u001b[0m\u001b[0;34m(\u001b[0m\u001b[0mcoords\u001b[0m\u001b[0;34m)\u001b[0m\u001b[0;34m\u001b[0m\u001b[0;34m\u001b[0m\u001b[0m\n\u001b[1;32m    808\u001b[0m \u001b[0;34m\u001b[0m\u001b[0m\n",
            "\u001b[0;31mTypeError\u001b[0m: 'LineString' object is not iterable"
          ]
        }
      ]
    },
    {
      "cell_type": "code",
      "source": [
        "df = pd.DataFrame()\n",
        "\n",
        "i=2\n",
        "# Initial date of interest (inclusive).\n",
        "i_date = '2021-01-01'\n",
        "# Final date of interest (exclusive).\n",
        "f_date = '2021-01-31'\n",
        "\n",
        "df_contructor = []\n",
        "while i<len(mines_exploded):\n",
        "\n",
        "        fil_mines = mines.iloc[[i]]\n",
        "        region = eec.gdfToFc(fil_mines)\n",
        "        # Get dynamic world image collection by asset ID\n",
        "        dc = ee.ImageCollection('GOOGLE/DYNAMICWORLD/V1').filterBounds(region).filterDate(i_date, f_date)\n",
        "\n",
        "        # get band names, equal to column names\n",
        "        bandnames = dc.first().bandNames().getInfo()[:-1]\n",
        "\n",
        "        polygon = mines_exploded['geometry'].values[i]\n",
        "\n",
        "        if polygon.geom_type == 'Polygon':\n",
        "          # Extract the coordinates from the polygon\n",
        "          coordinates = polygon.exterior.coords[:]\n",
        "\n",
        "          # Create an ee.Geometry object from the coordinates\n",
        "          polygon = ee.Geometry.MultiPolygon(coordinates)\n",
        "\n",
        "          # Set the maxError parameter\n",
        "          max_error = 1  # Specify your desired maxError value\n",
        "\n",
        "          # Project the geometry coordinates\n",
        "          projected_polygon = polygon.transform('EPSG:4326', max_error)\n",
        "\n",
        "        elif polygon.geom_type == 'LineString':\n",
        "          coordinates = polygon.coords[:]\n",
        "          polygon = ee.Geometry.LineString(coordinates)\n",
        "\n",
        "        #decrease scale to get more rows of data/granularity\n",
        "        ac = dc.getRegion(projected_polygon, scale=100 ).getInfo()\n",
        "        df_constructor =pd.DataFrame(ac)\n",
        "\n",
        "        df_constructor.columns = df_constructor.iloc[0]\n",
        "        df_constructor = df_constructor.tail(-1)\n",
        "        df_constructor['Company'] = mines_exploded['PER_NAME'].values[i]\n",
        "        df = df.append(df_constructor)\n",
        "\n",
        "        print(mines_exploded['PER_NAME'].values[i])\n",
        "        i+=1\n",
        ""
      ],
      "metadata": {
        "colab": {
          "base_uri": "https://localhost:8080/"
        },
        "id": "mF-5U_Qzmibl",
        "outputId": "20e8238f-785b-4733-fd9d-91036eed6f66"
      },
      "execution_count": null,
      "outputs": [
        {
          "output_type": "stream",
          "name": "stderr",
          "text": [
            "<ipython-input-114-ff1b4ce29f6f>:46: FutureWarning: The frame.append method is deprecated and will be removed from pandas in a future version. Use pandas.concat instead.\n",
            "  df = df.append(df_constructor)\n"
          ]
        },
        {
          "output_type": "stream",
          "name": "stdout",
          "text": [
            "B & C ENERGY INC\n"
          ]
        },
        {
          "output_type": "stream",
          "name": "stderr",
          "text": [
            "<ipython-input-114-ff1b4ce29f6f>:46: FutureWarning: The frame.append method is deprecated and will be removed from pandas in a future version. Use pandas.concat instead.\n",
            "  df = df.append(df_constructor)\n"
          ]
        },
        {
          "output_type": "stream",
          "name": "stdout",
          "text": [
            "B & C ENERGY INC\n"
          ]
        },
        {
          "output_type": "stream",
          "name": "stderr",
          "text": [
            "<ipython-input-114-ff1b4ce29f6f>:46: FutureWarning: The frame.append method is deprecated and will be removed from pandas in a future version. Use pandas.concat instead.\n",
            "  df = df.append(df_constructor)\n"
          ]
        },
        {
          "output_type": "stream",
          "name": "stdout",
          "text": [
            "B & C ENERGY INC\n"
          ]
        }
      ]
    },
    {
      "cell_type": "code",
      "source": [
        "df"
      ],
      "metadata": {
        "id": "SS6SCh6mCBm6"
      },
      "execution_count": null,
      "outputs": []
    },
    {
      "cell_type": "code",
      "source": [
        "df['Company'].unique()"
      ],
      "metadata": {
        "id": "Y4rPgrH0RW3n"
      },
      "execution_count": null,
      "outputs": []
    },
    {
      "cell_type": "code",
      "source": [
        "#https://stackoverflow.com/questions/55659835/trying-to-separate-polygon-data-into-x-and-y-coordinates-but-get-error-multip\n",
        "\n",
        "import geopandas as gpd\n",
        "from shapely.geometry import Polygon, LineString, MultiLineString\n",
        "\n",
        "def getPolyCoords(row, geom, coord_type):\n",
        "    \"\"\"\n",
        "    Returns the coordinates ('x|y') of edges/vertices of a Polygon/others\n",
        "    Args:\n",
        "    - row: the row object from a geodataframe; i.e.   df.loc[1]\n",
        "    - geom: the name of \"geometry\" column, usually \"geometry\"\n",
        "    - coord_type: 'x', or 'y'\n",
        "    ...\n",
        "    Valid geometrie types 'Polygon', 'Point', 'LineString', 'MultiLineString', 'MultiPolygon'\n",
        "    \"\"\"\n",
        "\n",
        "    # Parse the geometries and grab the coordinate\n",
        "    geometry = row[geom]\n",
        "    #print(geometry.type)\n",
        "\n",
        "    if geometry.type=='Polygon':\n",
        "        if coord_type == 'x':\n",
        "            # Get the x coordinates of the exterior\n",
        "            # Interior is more complex: xxx.interiors[0].coords.xy[0]\n",
        "            return list( geometry.exterior.coords.xy[0] )\n",
        "        elif coord_type == 'y':\n",
        "            # Get the y coordinates of the exterior\n",
        "            return list( geometry.exterior.coords.xy[1] )\n",
        "\n",
        "    if geometry.type in ['Point', 'LineString']:\n",
        "        if coord_type == 'x':\n",
        "            return list( geometry.xy[0] )\n",
        "        elif coord_type == 'y':\n",
        "            return list( geometry.xy[1] )\n",
        "\n",
        "    if geometry.type=='MultiLineString':\n",
        "        all_xy = []\n",
        "        # updated code, using .geoms\n",
        "        for ea in geometry.geoms:\n",
        "         all_xy = []"
      ],
      "metadata": {
        "id": "ofbuQN06C5OK"
      },
      "execution_count": null,
      "outputs": []
    },
    {
      "cell_type": "code",
      "source": [
        "from functools import singledispatch\n",
        "from itertools import chain\n",
        "from typing import (List,\n",
        "                    Tuple,\n",
        "                    TypeVar)\n",
        "\n",
        "from shapely.geometry import (GeometryCollection,\n",
        "                              LinearRing,\n",
        "                              LineString,\n",
        "                              Point,\n",
        "                              Polygon)\n",
        "from shapely.geometry.base import (BaseGeometry,\n",
        "                                   BaseMultipartGeometry)\n",
        "\n",
        "Geometry = TypeVar('Geometry', bound=BaseGeometry)\n",
        "\n",
        "\n",
        "@singledispatch\n",
        "def to_coords(geometry: Geometry) -> List[Tuple[float, float]]:\n",
        "    \"\"\"Returns a list of unique vertices of a given geometry object.\"\"\"\n",
        "    raise NotImplementedError(f\"Unsupported Geometry {type(geometry)}\")\n",
        "\n",
        "\n",
        "@to_coords.register\n",
        "def _(geometry: Point):\n",
        "    return [(geometry.x, geometry.y)]\n",
        "\n",
        "\n",
        "@to_coords.register\n",
        "def _(geometry: LineString):\n",
        "    return list(geometry.coords)\n",
        "\n",
        "\n",
        "@to_coords.register\n",
        "def _(geometry: LinearRing):\n",
        "    return list(geometry.coords[:-1])\n",
        "\n",
        "\n",
        "@to_coords.register\n",
        "def _(geometry: BaseMultipartGeometry):\n",
        "    return list(set(chain.from_iterable(map(to_coords, geometry))))\n",
        "\n",
        "\n",
        "@to_coords.register\n",
        "def _(geometry: Polygon):\n",
        "    return to_coords(GeometryCollection([geometry.exterior, *geometry.interiors]))"
      ],
      "metadata": {
        "id": "t5r14R0YFq-J"
      },
      "execution_count": null,
      "outputs": []
    },
    {
      "cell_type": "code",
      "source": [
        "import shapely as sh\n",
        "\n",
        "def get_coords_from_polygon(shape):\n",
        "    coords = set()\n",
        "\n",
        "    if isinstance(shape, sh.geometry.Polygon):\n",
        "        coords.update(shape.exterior.coords[:-1])\n",
        "        for linearring in shape.interiors:\n",
        "            coords.update(linearring.coords[:-1])\n",
        "    elif isinstance(shape, sh.geometry.MultiPolygon):\n",
        "        for polygon in shape:\n",
        "            coords.update(get_coords_from_polygon(polygon))\n",
        "\n",
        "    return coords"
      ],
      "metadata": {
        "id": "_46x06nKGXvE"
      },
      "execution_count": null,
      "outputs": []
    },
    {
      "cell_type": "code",
      "source": [
        "# prompt: get coordinates fro mines_exploded['geometry'].values[i] where it is multipolygon\n",
        "\n",
        "def get_coords_from_polygon(shape):\n",
        "    coords = set()\n",
        "\n",
        "    if isinstance(shape, sh.geometry.Polygon):\n",
        "        coords.update(shape.exterior.coords[:-1])\n",
        "        for linearring in shape.interiors:\n",
        "            coords.update(linearring.coords[:-1])\n",
        "    elif isinstance(shape, sh.geometry.MultiPolygon):\n",
        "        for polygon in shape:\n",
        "            coords.update(get_coords_from_polygon(polygon))\n",
        "\n",
        "    return coords\n",
        "\n",
        "mines_geometry = mines_exploded['geometry'].values[i]\n",
        "coords = get_coords_from_polygon(mines_geometry)\n"
      ],
      "metadata": {
        "id": "aCUG9bfNLFZk"
      },
      "execution_count": null,
      "outputs": []
    },
    {
      "cell_type": "code",
      "source": [
        "coordinates"
      ],
      "metadata": {
        "id": "gZuVFGOxNksI"
      },
      "execution_count": null,
      "outputs": []
    },
    {
      "cell_type": "code",
      "source": [
        "df"
      ],
      "metadata": {
        "id": "f0UKwDpNjeN5"
      },
      "execution_count": null,
      "outputs": []
    },
    {
      "cell_type": "code",
      "source": [
        "from google.colab import files\n",
        "df.to_csv('Kentucky_mines.csv', encoding = 'utf-8-sig')\n",
        "files.download('Kentucky_mines.csv')"
      ],
      "metadata": {
        "id": "iNDiMqbuGQjv"
      },
      "execution_count": null,
      "outputs": []
    }
  ],
  "metadata": {
    "colab": {
      "provenance": [],
      "machine_shape": "hm",
      "include_colab_link": true
    },
    "kernelspec": {
      "display_name": "Python 3",
      "name": "python3"
    }
  },
  "nbformat": 4,
  "nbformat_minor": 0
}