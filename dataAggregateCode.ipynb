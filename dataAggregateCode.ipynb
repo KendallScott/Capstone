{
 "cells": [
  {
   "cell_type": "code",
   "execution_count": 2,
   "metadata": {},
   "outputs": [],
   "source": [
    "import pandas as pd"
   ]
  },
  {
   "cell_type": "code",
   "execution_count": 3,
   "metadata": {},
   "outputs": [
    {
     "name": "stderr",
     "output_type": "stream",
     "text": [
      "/Users/taddbackus/opt/anaconda3/lib/python3.9/site-packages/IPython/core/interactiveshell.py:3505: DtypeWarning: Columns (17) have mixed types.Specify dtype option on import or set low_memory=False.\n",
      "  exec(code_obj, self.user_global_ns, self.user_ns)\n"
     ]
    }
   ],
   "source": [
    "ky2023_1 = pd.read_csv('/Users/taddbackus/School/Capstone/Data/earthEngine/kyV2.csv')\n",
    "ky2023_2 = pd.read_csv('/Users/taddbackus/School/Capstone/Data/earthEngine/kyV3.csv')\n",
    "ky2021_1 = pd.read_csv('/Users/taddbackus/School/Capstone/Data/earthEngine/ky2021V3.csv')"
   ]
  },
  {
   "cell_type": "code",
   "execution_count": 4,
   "metadata": {},
   "outputs": [],
   "source": [
    "def highest_prob_area(df):\n",
    "    maxDF = df.groupby('mine_id').agg({'water':['max'],\n",
    "                                   'trees':['max'],\n",
    "                                   'grass':['max'],\n",
    "                                   'flooded_vegetation':['max'],\n",
    "                                   'crops':['max'],\n",
    "                                   'shrub_and_scrub':['max'],\n",
    "                                   'built':['max'],\n",
    "                                   'bare':['max']\n",
    "                                   ,'snow_and_ice':['max']})\n",
    "    return maxDF\n",
    "\n",
    "def sum_prob_area(df):\n",
    "    sumDF = df.groupby('mine_id').agg({'water':['sum'],\n",
    "                                   'trees':['sum'],\n",
    "                                   'grass':['sum'],\n",
    "                                   'flooded_vegetation':['sum'],\n",
    "                                   'crops':['sum'],\n",
    "                                   'shrub_and_scrub':['sum'],\n",
    "                                   'built':['sum'],\n",
    "                                   'bare':['sum']\n",
    "                                   ,'snow_and_ice':['sum']})\n",
    "    return sumDF"
   ]
  },
  {
   "cell_type": "markdown",
   "metadata": {},
   "source": [
    "I went on the assumption that the first dataset you sent with the mine ids was area 1 and the one with (6) at the end was area 2.   \n",
    "Also, that the first 2 were for July 2023, and that the 3rd one was for area 1 in July 2021.   \n",
    "If any of these are wrong let me know and I'll fix the names."
   ]
  },
  {
   "cell_type": "code",
   "execution_count": 5,
   "metadata": {},
   "outputs": [],
   "source": [
    "ky_2023_1_max = highest_prob_area(ky2023_1)\n",
    "ky_2023_2_max = highest_prob_area(ky2023_2)\n",
    "ky_2021_1_max = highest_prob_area(ky2021_1)"
   ]
  },
  {
   "cell_type": "code",
   "execution_count": 6,
   "metadata": {},
   "outputs": [],
   "source": [
    "ky_2023_1_sum = sum_prob_area(ky2023_1)\n",
    "ky_2023_2_sum = sum_prob_area(ky2023_2)\n",
    "ky_2021_1_sum = sum_prob_area(ky2021_1)"
   ]
  },
  {
   "cell_type": "markdown",
   "metadata": {},
   "source": [
    "These functions group by mineId and find either the highest value in each column for matching IDs or sum them together.   \n",
    "In theory this should allow us to join back into the original to get name, date, etc. or just merge back into the appVoices data.   \n",
    "We could also just create a date column easily to add the date of 7-2023 or 7-2021 pretty easily since the format seems weird on the ouput from earth engine"
   ]
  }
 ],
 "metadata": {
  "kernelspec": {
   "display_name": "base",
   "language": "python",
   "name": "python3"
  },
  "language_info": {
   "codemirror_mode": {
    "name": "ipython",
    "version": 3
   },
   "file_extension": ".py",
   "mimetype": "text/x-python",
   "name": "python",
   "nbconvert_exporter": "python",
   "pygments_lexer": "ipython3",
   "version": "3.9.7"
  },
  "orig_nbformat": 4
 },
 "nbformat": 4,
 "nbformat_minor": 2
}
