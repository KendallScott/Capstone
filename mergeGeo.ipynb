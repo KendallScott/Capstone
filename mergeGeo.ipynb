{
 "cells": [
  {
   "cell_type": "code",
   "execution_count": 66,
   "metadata": {},
   "outputs": [],
   "source": [
    "import pandas as pd\n",
    "import geopandas\n",
    "import requests"
   ]
  },
  {
   "cell_type": "code",
   "execution_count": 71,
   "metadata": {},
   "outputs": [],
   "source": [
    "wvFile = r'/Users/taddbackus/School/Capstone/Data/appVoices/WV_Released_mines.geojson'\n",
    "tnFile = r'/Users/taddbackus/School/Capstone/Data/appVoices/TN_Released_mines.geojson'\n",
    "#tnFile = requests.get('https://raw.github.com/taddbackus/capstone/blob/c5871171b835c3d38c7c60ea76832265bf7a2c4e/TN_Released_mines.geojson').content\n",
    "vaFile = r'/Users/taddbackus/School/Capstone/Data/appVoices/TN_Released_mines.geojson'\n",
    "kyFile = r'/Users/taddbackus/School/Capstone/Data/appVoices/KY_Released_mines.geojson'"
   ]
  },
  {
   "cell_type": "code",
   "execution_count": 72,
   "metadata": {},
   "outputs": [],
   "source": [
    "wvDF = geopandas.read_file(wvFile)\n",
    "tnDF = geopandas.read_file(tnFile)\n",
    "vaDF = geopandas.read_file(vaFile)\n",
    "kyDF = geopandas.read_file(kyFile)"
   ]
  },
  {
   "cell_type": "code",
   "execution_count": 39,
   "metadata": {},
   "outputs": [
    {
     "name": "stdout",
     "output_type": "stream",
     "text": [
      "id\n",
      "ACRES_CURR\n",
      "ACRES_DIST\n",
      "ACRES_ORIG\n",
      "ACRES_RECL\n",
      "ACTIVE_VIO\n",
      "COMMENTS\n",
      "EXPIRE_DAT\n",
      "FACILITY_N\n",
      "ISSUE_DATE\n",
      "LAST_UPDAT\n",
      "MAPDATE\n",
      "MAPTYPE\n",
      "MA_AREA\n",
      "MA_AUGER\n",
      "MA_CONTOUR\n",
      "MA_HAULROA\n",
      "MA_IMPOUND\n",
      "MA_LOADOUT\n",
      "MA_LONGWAL\n",
      "MA_MTNTOP\n",
      "MA_PREPPLA\n",
      "MA_REFUSE\n",
      "MA_ROCKFIL\n",
      "MA_ROOMPIL\n",
      "MA_STEEPSL\n",
      "MA_TIPPLE\n",
      "MDATE\n",
      "MSTATUS\n",
      "OBJECTID\n",
      "OPERATOR\n",
      "PERMITTEE\n",
      "PERMIT_ID\n",
      "PMLU1\n",
      "PMLU2\n",
      "PSTATUS\n",
      "SHAPE_Area\n",
      "SHAPE_Leng\n",
      "TOTAL_VIO\n",
      "WEBLINK1\n",
      "geometry\n"
     ]
    }
   ],
   "source": [
    "for col in wvDF:\n",
    "    print(col)\n",
    "wvMines = wvDF[['id',\n",
    "                'ACRES_CURR',\n",
    "                'ACRES_DIST',\n",
    "                'ACRES_ORIG',\n",
    "                'ACRES_RECL',\n",
    "                'ACTIVE_VIO',\n",
    "                'EXPIRE_DAT',\n",
    "                'FACILITY_N',\n",
    "                'ISSUE_DATE',\n",
    "                'MAPDATE',\n",
    "                'MSTATUS',\n",
    "                'OPERATOR',\n",
    "                'PERMITTEE',\n",
    "                'PERMIT_ID',\n",
    "                'TOTAL_VIO',\n",
    "                'SHAPE_Area',\n",
    "                'SHAPE_Leng',\n",
    "                'geometry']].copy()\n",
    "wvMines['State'] = 'WV'\n",
    "wvMines['national_i'] = ''"
   ]
  },
  {
   "cell_type": "code",
   "execution_count": 29,
   "metadata": {},
   "outputs": [
    {
     "name": "stdout",
     "output_type": "stream",
     "text": [
      "id\n",
      "Shape_Area\n",
      "Shape_Le_1\n",
      "area_mine\n",
      "auger\n",
      "calculated\n",
      "coal_bed_n\n",
      "coalmine_o\n",
      "comment\n",
      "company\n",
      "contact\n",
      "contour\n",
      "highwall\n",
      "informatio\n",
      "inspectabl\n",
      "layer\n",
      "mine_name\n",
      "mountainto\n",
      "msha_id\n",
      "national_i\n",
      "path\n",
      "permit_a_2\n",
      "permit_app\n",
      "permit_id\n",
      "permittee\n",
      "post_smcra\n",
      "reported_a\n",
      "shape_Leng\n",
      "state_trib\n",
      "steep_slop\n",
      "geometry\n"
     ]
    }
   ],
   "source": [
    "for col in tnDF:\n",
    "    print(col)\n",
    "tnMines = tnDF[['id',\n",
    "                'Shape_Area',\n",
    "                'Shape_Le_1',\n",
    "                'company',\n",
    "                'mine_name',\n",
    "                'national_i',\n",
    "                'permit_a_2',\n",
    "                'permit_id',\n",
    "                'permittee',\n",
    "                'geometry']].copy()\n",
    "tnMines['State'] = 'TN'"
   ]
  },
  {
   "cell_type": "code",
   "execution_count": 28,
   "metadata": {},
   "outputs": [
    {
     "name": "stdout",
     "output_type": "stream",
     "text": [
      "id\n",
      "Shape_Area\n",
      "Shape_Le_1\n",
      "area_mine\n",
      "auger\n",
      "calculated\n",
      "coal_bed_n\n",
      "coalmine_o\n",
      "comment\n",
      "company\n",
      "contact\n",
      "contour\n",
      "highwall\n",
      "informatio\n",
      "inspectabl\n",
      "layer\n",
      "mine_name\n",
      "mountainto\n",
      "msha_id\n",
      "national_i\n",
      "path\n",
      "permit_a_2\n",
      "permit_app\n",
      "permit_id\n",
      "permittee\n",
      "post_smcra\n",
      "reported_a\n",
      "shape_Leng\n",
      "state_trib\n",
      "steep_slop\n",
      "geometry\n"
     ]
    }
   ],
   "source": [
    "for col in vaDF.columns:\n",
    "    print(col)\n",
    "vaMines = vaDF[['id',\n",
    "                'Shape_Area',\n",
    "                'Shape_Le_1',\n",
    "                'company',\n",
    "                'mine_name',\n",
    "                'national_i',\n",
    "                'permit_a_2',\n",
    "                'permit_id',\n",
    "                'permittee',\n",
    "                'geometry']].copy()\n",
    "vaMines['State'] = 'VA'"
   ]
  },
  {
   "cell_type": "code",
   "execution_count": 27,
   "metadata": {},
   "outputs": [
    {
     "name": "stdout",
     "output_type": "stream",
     "text": [
      "id\n",
      "ACT_INAC\n",
      "Calc_Acres\n",
      "Contact\n",
      "DATE_ISS\n",
      "FeatCLS\n",
      "MINE_STATU\n",
      "National_I\n",
      "ORIG_PERM\n",
      "PERM_ACT\n",
      "PER_NAME\n",
      "PER_TYPE\n",
      "PermitNo\n",
      "QUAD_DESC\n",
      "REGION_DES\n",
      "Shape_Leng\n",
      "Source\n",
      "Type_Flag\n",
      "geometry\n",
      "                         id       DATE_ISS MINE_STATU National_I ORIG_PERM  \\\n",
      "0      00000000000000001111  1141718400000         FF  KY8640180   8640180   \n",
      "1      00000000000000001112  1141718400000         FF  KY8640180   8640180   \n",
      "2      00000000000000001f4d   374486400000         FF  KY0130119   0130119   \n",
      "3      00000000000000002b96   322732800000         FF  KY1005000   1005000   \n",
      "4      00000000000000001d20   455871600000         FF  KY9180010   9180010   \n",
      "...                     ...            ...        ...        ...       ...   \n",
      "12601  0000000000000000025a   225619200000         XX  KY545876X   545876X   \n",
      "12602  00000000000000002e38   278582400000         XX  KY2660005   2660005   \n",
      "12603  00000000000000000472   255254400000         XX  KY686977X   686977X   \n",
      "12604  0000000000000000308a   166863600000         XX  KY388574X   388574X   \n",
      "12605  000000000000000004fc   262598400000         XX  KY710477X   710477X   \n",
      "\n",
      "                                                geometry State  \n",
      "0      POLYGON ((-82.96438 38.04585, -82.96352 38.045...    KY  \n",
      "1      GEOMETRYCOLLECTION (LINESTRING (-82.95661 38.0...    KY  \n",
      "2      POLYGON ((-83.52908 37.35024, -83.52889 37.349...    KY  \n",
      "3      POLYGON ((-84.37338 37.00735, -84.37334 37.007...    KY  \n",
      "4      POLYGON ((-84.14509 36.91530, -84.14500 36.914...    KY  \n",
      "...                                                  ...   ...  \n",
      "12601  POLYGON ((-82.43439 37.45060, -82.43382 37.450...    KY  \n",
      "12602  POLYGON ((-83.26042 37.14537, -83.26032 37.144...    KY  \n",
      "12603  MULTIPOLYGON (((-84.00080 36.74794, -84.00077 ...    KY  \n",
      "12604  MULTIPOLYGON (((-83.95358 36.79714, -83.95352 ...    KY  \n",
      "12605  POLYGON ((-83.05177 36.85208, -83.05165 36.852...    KY  \n",
      "\n",
      "[12606 rows x 7 columns]\n"
     ]
    }
   ],
   "source": [
    "for col in kyDF:\n",
    "    print(col)\n",
    "kyMines = kyDF[['id',\n",
    "                'DATE_ISS',\n",
    "                'MINE_STATU',\n",
    "                'National_I',\n",
    "                'ORIG_PERM',\n",
    "                'geometry']].copy()\n",
    "kyMines['State'] = 'KY'"
   ]
  },
  {
   "cell_type": "code",
   "execution_count": 58,
   "metadata": {},
   "outputs": [],
   "source": [
    "kyMerge = kyMines[['id',\n",
    "           'National_I',\n",
    "           'ORIG_PERM',\n",
    "           'geometry',\n",
    "           'State']].copy()\n",
    "vaMerge = vaMines[['id',\n",
    "            'national_i',\n",
    "            'permit_id',\n",
    "            'geometry',\n",
    "            'State']].copy()\n",
    "tnMerge = tnMines[['id',\n",
    "            'national_i',\n",
    "            'permit_id',\n",
    "            'geometry',\n",
    "            'State']].copy()\n",
    "wvMerge = wvMines[['id',\n",
    "            'national_i',\n",
    "            'PERMIT_ID',\n",
    "            'geometry',\n",
    "            'State']].copy()\n"
   ]
  },
  {
   "cell_type": "code",
   "execution_count": 59,
   "metadata": {},
   "outputs": [],
   "source": [
    "kyMerge.rename(columns={'National_I':'NationalID','ORIG_PERM':'PermitID'},inplace=True)\n",
    "vaMerge.rename(columns={'national_i':'NationalID','permit_id':'PermitID'},inplace=True)\n",
    "tnMerge.rename(columns={'national_i':'NationalID','permit_id':'PermitID'},inplace=True)\n",
    "wvMerge.rename(columns={'national_i':'NationalID','PERMIT_ID':'PermitID'},inplace=True)\n"
   ]
  },
  {
   "cell_type": "code",
   "execution_count": 61,
   "metadata": {},
   "outputs": [
    {
     "name": "stdout",
     "output_type": "stream",
     "text": [
      "                        id NationalID PermitID  \\\n",
      "0     00000000000000001111  KY8640180  8640180   \n",
      "1     00000000000000001112  KY8640180  8640180   \n",
      "2     00000000000000001f4d  KY0130119  0130119   \n",
      "3     00000000000000002b96  KY1005000  1005000   \n",
      "4     00000000000000001d20  KY9180010  9180010   \n",
      "...                    ...        ...      ...   \n",
      "2398  000000000000000007d5             S007385   \n",
      "2399  00000000000000000869             S009482   \n",
      "2400  000000000000000008bf             S304791   \n",
      "2401  000000000000000008ea             S300694   \n",
      "2402  00000000000000000958             S303686   \n",
      "\n",
      "                                               geometry State  \n",
      "0     POLYGON ((-82.96438 38.04585, -82.96352 38.045...    KY  \n",
      "1     GEOMETRYCOLLECTION (LINESTRING (-82.95661 38.0...    KY  \n",
      "2     POLYGON ((-83.52908 37.35024, -83.52889 37.349...    KY  \n",
      "3     POLYGON ((-84.37338 37.00735, -84.37334 37.007...    KY  \n",
      "4     POLYGON ((-84.14509 36.91530, -84.14500 36.914...    KY  \n",
      "...                                                 ...   ...  \n",
      "2398  MULTIPOLYGON (((-81.15050 38.32330, -81.15048 ...    WV  \n",
      "2399  MULTIPOLYGON (((-81.95029 37.76892, -81.95026 ...    WV  \n",
      "2400  POLYGON ((-81.14862 37.63991, -81.14837 37.639...    WV  \n",
      "2401  POLYGON ((-81.29431 37.75895, -81.29425 37.758...    WV  \n",
      "2402  MULTIPOLYGON (((-81.10462 38.27694, -81.10460 ...    WV  \n",
      "\n",
      "[15319 rows x 5 columns]\n"
     ]
    }
   ],
   "source": [
    "minesDF = pd.concat([kyMerge,vaMerge,tnMerge,wvMerge])\n",
    "print(minesDF)"
   ]
  }
 ],
 "metadata": {
  "kernelspec": {
   "display_name": "base",
   "language": "python",
   "name": "python3"
  },
  "language_info": {
   "codemirror_mode": {
    "name": "ipython",
    "version": 3
   },
   "file_extension": ".py",
   "mimetype": "text/x-python",
   "name": "python",
   "nbconvert_exporter": "python",
   "pygments_lexer": "ipython3",
   "version": "3.9.7"
  },
  "orig_nbformat": 4
 },
 "nbformat": 4,
 "nbformat_minor": 2
}
