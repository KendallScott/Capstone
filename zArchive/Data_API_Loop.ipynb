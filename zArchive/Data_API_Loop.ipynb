{
  "cells": [
    {
      "cell_type": "markdown",
      "metadata": {
        "id": "view-in-github",
        "colab_type": "text"
      },
      "source": [
        "<a href=\"https://colab.research.google.com/github/taddbackus/capstone/blob/main/Archive/Data_API_Loop.ipynb\" target=\"_parent\"><img src=\"https://colab.research.google.com/assets/colab-badge.svg\" alt=\"Open In Colab\"/></a>"
      ]
    },
    {
      "cell_type": "markdown",
      "source": [
        "References:\n",
        "https://geemap.org/notebooks/114_dynamic_world/\n"
      ],
      "metadata": {
        "id": "hp9FD5C5hoUK"
      }
    },
    {
      "cell_type": "markdown",
      "metadata": {
        "id": "0CDbvN6Zoefb"
      },
      "source": [
        "# Imports and Setup"
      ]
    },
    {
      "cell_type": "code",
      "execution_count": 1,
      "metadata": {
        "id": "JN_NZz2XtgKm",
        "colab": {
          "base_uri": "https://localhost:8080/"
        },
        "outputId": "6db4accd-48af-4ee9-e1f8-b36750d56ada"
      },
      "outputs": [
        {
          "output_type": "stream",
          "name": "stdout",
          "text": [
            "\u001b[2K     \u001b[90m━━━━━━━━━━━━━━━━━━━━━━━━━━━━━━━━━━━━━━━\u001b[0m \u001b[32m135.7/135.7 kB\u001b[0m \u001b[31m3.0 MB/s\u001b[0m eta \u001b[36m0:00:00\u001b[0m\n",
            "\u001b[2K     \u001b[90m━━━━━━━━━━━━━━━━━━━━━━━━━━━━━━━━━━━━━━━━\u001b[0m \u001b[32m11.0/11.0 MB\u001b[0m \u001b[31m91.6 MB/s\u001b[0m eta \u001b[36m0:00:00\u001b[0m\n",
            "\u001b[2K     \u001b[90m━━━━━━━━━━━━━━━━━━━━━━━━━━━━━━━━━━━━━━━━\u001b[0m \u001b[32m79.8/79.8 kB\u001b[0m \u001b[31m9.0 MB/s\u001b[0m eta \u001b[36m0:00:00\u001b[0m\n",
            "\u001b[?25h"
          ]
        }
      ],
      "source": [
        "!pip -q install --upgrade folium\n",
        "!pip -q install geopandas\n",
        "!pip -q install geojson\n",
        "!pip -q install eeconvert"
      ]
    },
    {
      "cell_type": "code",
      "source": [
        "# reminder that if you are installing libraries in a Google Colab instance you will be prompted to restart your kernal\n",
        "\n",
        "try:\n",
        "    import geemap, ee\n",
        "except ModuleNotFoundError:\n",
        "    if 'google.colab' in str(get_ipython()):\n",
        "        print(\"package not found, installing w/ pip in Google Colab...\")\n",
        "        !pip install geemap\n",
        "    else:\n",
        "        print(\"package not found, installing w/ conda...\")\n",
        "        !conda install mamba -c conda-forge -y\n",
        "        !mamba install geemap -c conda-forge -y\n",
        "    import geemap, ee"
      ],
      "metadata": {
        "id": "zlt8QS2h2UqR",
        "colab": {
          "base_uri": "https://localhost:8080/"
        },
        "outputId": "ffe2fbfd-3ceb-401e-f257-9e397cb22bf0"
      },
      "execution_count": 2,
      "outputs": [
        {
          "output_type": "stream",
          "name": "stdout",
          "text": [
            "package not found, installing w/ pip in Google Colab...\n",
            "Collecting geemap\n",
            "  Downloading geemap-0.24.4-py2.py3-none-any.whl (2.2 MB)\n",
            "\u001b[2K     \u001b[90m━━━━━━━━━━━━━━━━━━━━━━━━━━━━━━━━━━━━━━━━\u001b[0m \u001b[32m2.2/2.2 MB\u001b[0m \u001b[31m21.6 MB/s\u001b[0m eta \u001b[36m0:00:00\u001b[0m\n",
            "\u001b[?25hCollecting bqplot (from geemap)\n",
            "  Downloading bqplot-0.12.40-py2.py3-none-any.whl (1.2 MB)\n",
            "\u001b[2K     \u001b[90m━━━━━━━━━━━━━━━━━━━━━━━━━━━━━━━━━━━━━━━━\u001b[0m \u001b[32m1.2/1.2 MB\u001b[0m \u001b[31m43.7 MB/s\u001b[0m eta \u001b[36m0:00:00\u001b[0m\n",
            "\u001b[?25hCollecting colour (from geemap)\n",
            "  Downloading colour-0.1.5-py2.py3-none-any.whl (23 kB)\n",
            "Requirement already satisfied: earthengine-api>=0.1.347 in /usr/local/lib/python3.10/dist-packages (from geemap) (0.1.358)\n",
            "Collecting eerepr>=0.0.4 (from geemap)\n",
            "  Downloading eerepr-0.0.4-py3-none-any.whl (9.7 kB)\n",
            "Requirement already satisfied: folium>=0.13.0 in /usr/local/lib/python3.10/dist-packages (from geemap) (0.14.0)\n",
            "Collecting geocoder (from geemap)\n",
            "  Downloading geocoder-1.38.1-py2.py3-none-any.whl (98 kB)\n",
            "\u001b[2K     \u001b[90m━━━━━━━━━━━━━━━━━━━━━━━━━━━━━━━━━━━━━━━━\u001b[0m \u001b[32m98.6/98.6 kB\u001b[0m \u001b[31m12.6 MB/s\u001b[0m eta \u001b[36m0:00:00\u001b[0m\n",
            "\u001b[?25hCollecting ipyevents (from geemap)\n",
            "  Downloading ipyevents-2.0.1-py2.py3-none-any.whl (130 kB)\n",
            "\u001b[2K     \u001b[90m━━━━━━━━━━━━━━━━━━━━━━━━━━━━━━━━━━━━━━\u001b[0m \u001b[32m130.5/130.5 kB\u001b[0m \u001b[31m14.8 MB/s\u001b[0m eta \u001b[36m0:00:00\u001b[0m\n",
            "\u001b[?25hCollecting ipyfilechooser>=0.6.0 (from geemap)\n",
            "  Downloading ipyfilechooser-0.6.0-py3-none-any.whl (11 kB)\n",
            "Collecting ipyleaflet>=0.17.0 (from geemap)\n",
            "  Downloading ipyleaflet-0.17.3-py3-none-any.whl (3.4 MB)\n",
            "\u001b[2K     \u001b[90m━━━━━━━━━━━━━━━━━━━━━━━━━━━━━━━━━━━━━━━━\u001b[0m \u001b[32m3.4/3.4 MB\u001b[0m \u001b[31m44.3 MB/s\u001b[0m eta \u001b[36m0:00:00\u001b[0m\n",
            "\u001b[?25hCollecting ipytree (from geemap)\n",
            "  Downloading ipytree-0.2.2-py2.py3-none-any.whl (1.3 MB)\n",
            "\u001b[2K     \u001b[90m━━━━━━━━━━━━━━━━━━━━━━━━━━━━━━━━━━━━━━━━\u001b[0m \u001b[32m1.3/1.3 MB\u001b[0m \u001b[31m53.6 MB/s\u001b[0m eta \u001b[36m0:00:00\u001b[0m\n",
            "\u001b[?25hRequirement already satisfied: matplotlib in /usr/local/lib/python3.10/dist-packages (from geemap) (3.7.1)\n",
            "Requirement already satisfied: numpy in /usr/local/lib/python3.10/dist-packages (from geemap) (1.22.4)\n",
            "Requirement already satisfied: pandas in /usr/local/lib/python3.10/dist-packages (from geemap) (1.5.3)\n",
            "Requirement already satisfied: plotly in /usr/local/lib/python3.10/dist-packages (from geemap) (5.13.1)\n",
            "Collecting pyperclip (from geemap)\n",
            "  Downloading pyperclip-1.8.2.tar.gz (20 kB)\n",
            "  Preparing metadata (setup.py) ... \u001b[?25l\u001b[?25hdone\n",
            "Collecting pyshp>=2.1.3 (from geemap)\n",
            "  Downloading pyshp-2.3.1-py2.py3-none-any.whl (46 kB)\n",
            "\u001b[2K     \u001b[90m━━━━━━━━━━━━━━━━━━━━━━━━━━━━━━━━━━━━━━━━\u001b[0m \u001b[32m46.5/46.5 kB\u001b[0m \u001b[31m4.9 MB/s\u001b[0m eta \u001b[36m0:00:00\u001b[0m\n",
            "\u001b[?25hCollecting python-box (from geemap)\n",
            "  Downloading python_box-7.0.1-cp310-cp310-manylinux_2_5_x86_64.manylinux1_x86_64.manylinux_2_12_x86_64.manylinux2010_x86_64.whl (3.2 MB)\n",
            "\u001b[2K     \u001b[90m━━━━━━━━━━━━━━━━━━━━━━━━━━━━━━━━━━━━━━━━\u001b[0m \u001b[32m3.2/3.2 MB\u001b[0m \u001b[31m83.6 MB/s\u001b[0m eta \u001b[36m0:00:00\u001b[0m\n",
            "\u001b[?25hCollecting scooby (from geemap)\n",
            "  Downloading scooby-0.7.2-py3-none-any.whl (16 kB)\n",
            "Requirement already satisfied: google-cloud-storage in /usr/local/lib/python3.10/dist-packages (from earthengine-api>=0.1.347->geemap) (2.8.0)\n",
            "Requirement already satisfied: google-api-python-client>=1.12.1 in /usr/local/lib/python3.10/dist-packages (from earthengine-api>=0.1.347->geemap) (2.84.0)\n",
            "Requirement already satisfied: google-auth>=1.4.1 in /usr/local/lib/python3.10/dist-packages (from earthengine-api>=0.1.347->geemap) (2.17.3)\n",
            "Requirement already satisfied: google-auth-httplib2>=0.0.3 in /usr/local/lib/python3.10/dist-packages (from earthengine-api>=0.1.347->geemap) (0.1.0)\n",
            "Requirement already satisfied: httplib2<1dev,>=0.9.2 in /usr/local/lib/python3.10/dist-packages (from earthengine-api>=0.1.347->geemap) (0.21.0)\n",
            "Requirement already satisfied: requests in /usr/local/lib/python3.10/dist-packages (from earthengine-api>=0.1.347->geemap) (2.27.1)\n",
            "Requirement already satisfied: branca>=0.6.0 in /usr/local/lib/python3.10/dist-packages (from folium>=0.13.0->geemap) (0.6.0)\n",
            "Requirement already satisfied: jinja2>=2.9 in /usr/local/lib/python3.10/dist-packages (from folium>=0.13.0->geemap) (3.1.2)\n",
            "Requirement already satisfied: ipywidgets in /usr/local/lib/python3.10/dist-packages (from ipyfilechooser>=0.6.0->geemap) (7.7.1)\n",
            "Collecting traittypes<3,>=0.2.1 (from ipyleaflet>=0.17.0->geemap)\n",
            "  Downloading traittypes-0.2.1-py2.py3-none-any.whl (8.6 kB)\n",
            "Collecting xyzservices>=2021.8.1 (from ipyleaflet>=0.17.0->geemap)\n",
            "  Downloading xyzservices-2023.7.0-py3-none-any.whl (56 kB)\n",
            "\u001b[2K     \u001b[90m━━━━━━━━━━━━━━━━━━━━━━━━━━━━━━━━━━━━━━━━\u001b[0m \u001b[32m56.7/56.7 kB\u001b[0m \u001b[31m6.2 MB/s\u001b[0m eta \u001b[36m0:00:00\u001b[0m\n",
            "\u001b[?25hRequirement already satisfied: traitlets>=4.3.0 in /usr/local/lib/python3.10/dist-packages (from bqplot->geemap) (5.7.1)\n",
            "Requirement already satisfied: python-dateutil>=2.8.1 in /usr/local/lib/python3.10/dist-packages (from pandas->geemap) (2.8.2)\n",
            "Requirement already satisfied: pytz>=2020.1 in /usr/local/lib/python3.10/dist-packages (from pandas->geemap) (2022.7.1)\n",
            "Requirement already satisfied: click in /usr/local/lib/python3.10/dist-packages (from geocoder->geemap) (8.1.6)\n",
            "Requirement already satisfied: future in /usr/local/lib/python3.10/dist-packages (from geocoder->geemap) (0.18.3)\n",
            "Collecting ratelim (from geocoder->geemap)\n",
            "  Downloading ratelim-0.1.6-py2.py3-none-any.whl (4.0 kB)\n",
            "Requirement already satisfied: six in /usr/local/lib/python3.10/dist-packages (from geocoder->geemap) (1.16.0)\n",
            "Requirement already satisfied: contourpy>=1.0.1 in /usr/local/lib/python3.10/dist-packages (from matplotlib->geemap) (1.1.0)\n",
            "Requirement already satisfied: cycler>=0.10 in /usr/local/lib/python3.10/dist-packages (from matplotlib->geemap) (0.11.0)\n",
            "Requirement already satisfied: fonttools>=4.22.0 in /usr/local/lib/python3.10/dist-packages (from matplotlib->geemap) (4.41.0)\n",
            "Requirement already satisfied: kiwisolver>=1.0.1 in /usr/local/lib/python3.10/dist-packages (from matplotlib->geemap) (1.4.4)\n",
            "Requirement already satisfied: packaging>=20.0 in /usr/local/lib/python3.10/dist-packages (from matplotlib->geemap) (23.1)\n",
            "Requirement already satisfied: pillow>=6.2.0 in /usr/local/lib/python3.10/dist-packages (from matplotlib->geemap) (8.4.0)\n",
            "Requirement already satisfied: pyparsing>=2.3.1 in /usr/local/lib/python3.10/dist-packages (from matplotlib->geemap) (3.1.0)\n",
            "Requirement already satisfied: tenacity>=6.2.0 in /usr/local/lib/python3.10/dist-packages (from plotly->geemap) (8.2.2)\n",
            "Requirement already satisfied: google-api-core!=2.0.*,!=2.1.*,!=2.2.*,!=2.3.0,<3.0.0dev,>=1.31.5 in /usr/local/lib/python3.10/dist-packages (from google-api-python-client>=1.12.1->earthengine-api>=0.1.347->geemap) (2.11.1)\n",
            "Requirement already satisfied: uritemplate<5,>=3.0.1 in /usr/local/lib/python3.10/dist-packages (from google-api-python-client>=1.12.1->earthengine-api>=0.1.347->geemap) (4.1.1)\n",
            "Requirement already satisfied: cachetools<6.0,>=2.0.0 in /usr/local/lib/python3.10/dist-packages (from google-auth>=1.4.1->earthengine-api>=0.1.347->geemap) (5.3.1)\n",
            "Requirement already satisfied: pyasn1-modules>=0.2.1 in /usr/local/lib/python3.10/dist-packages (from google-auth>=1.4.1->earthengine-api>=0.1.347->geemap) (0.3.0)\n",
            "Requirement already satisfied: rsa<5,>=3.1.4 in /usr/local/lib/python3.10/dist-packages (from google-auth>=1.4.1->earthengine-api>=0.1.347->geemap) (4.9)\n",
            "Requirement already satisfied: ipykernel>=4.5.1 in /usr/local/lib/python3.10/dist-packages (from ipywidgets->ipyfilechooser>=0.6.0->geemap) (5.5.6)\n",
            "Requirement already satisfied: ipython-genutils~=0.2.0 in /usr/local/lib/python3.10/dist-packages (from ipywidgets->ipyfilechooser>=0.6.0->geemap) (0.2.0)\n",
            "Requirement already satisfied: widgetsnbextension~=3.6.0 in /usr/local/lib/python3.10/dist-packages (from ipywidgets->ipyfilechooser>=0.6.0->geemap) (3.6.4)\n",
            "Requirement already satisfied: ipython>=4.0.0 in /usr/local/lib/python3.10/dist-packages (from ipywidgets->ipyfilechooser>=0.6.0->geemap) (7.34.0)\n",
            "Requirement already satisfied: jupyterlab-widgets>=1.0.0 in /usr/local/lib/python3.10/dist-packages (from ipywidgets->ipyfilechooser>=0.6.0->geemap) (3.0.8)\n",
            "Requirement already satisfied: MarkupSafe>=2.0 in /usr/local/lib/python3.10/dist-packages (from jinja2>=2.9->folium>=0.13.0->geemap) (2.1.3)\n",
            "Requirement already satisfied: google-cloud-core<3.0dev,>=2.3.0 in /usr/local/lib/python3.10/dist-packages (from google-cloud-storage->earthengine-api>=0.1.347->geemap) (2.3.3)\n",
            "Requirement already satisfied: google-resumable-media>=2.3.2 in /usr/local/lib/python3.10/dist-packages (from google-cloud-storage->earthengine-api>=0.1.347->geemap) (2.5.0)\n",
            "Requirement already satisfied: urllib3<1.27,>=1.21.1 in /usr/local/lib/python3.10/dist-packages (from requests->earthengine-api>=0.1.347->geemap) (1.26.16)\n",
            "Requirement already satisfied: certifi>=2017.4.17 in /usr/local/lib/python3.10/dist-packages (from requests->earthengine-api>=0.1.347->geemap) (2023.5.7)\n",
            "Requirement already satisfied: charset-normalizer~=2.0.0 in /usr/local/lib/python3.10/dist-packages (from requests->earthengine-api>=0.1.347->geemap) (2.0.12)\n",
            "Requirement already satisfied: idna<4,>=2.5 in /usr/local/lib/python3.10/dist-packages (from requests->earthengine-api>=0.1.347->geemap) (3.4)\n",
            "Requirement already satisfied: decorator in /usr/local/lib/python3.10/dist-packages (from ratelim->geocoder->geemap) (4.4.2)\n",
            "Requirement already satisfied: googleapis-common-protos<2.0.dev0,>=1.56.2 in /usr/local/lib/python3.10/dist-packages (from google-api-core!=2.0.*,!=2.1.*,!=2.2.*,!=2.3.0,<3.0.0dev,>=1.31.5->google-api-python-client>=1.12.1->earthengine-api>=0.1.347->geemap) (1.59.1)\n",
            "Requirement already satisfied: protobuf!=3.20.0,!=3.20.1,!=4.21.0,!=4.21.1,!=4.21.2,!=4.21.3,!=4.21.4,!=4.21.5,<5.0.0.dev0,>=3.19.5 in /usr/local/lib/python3.10/dist-packages (from google-api-core!=2.0.*,!=2.1.*,!=2.2.*,!=2.3.0,<3.0.0dev,>=1.31.5->google-api-python-client>=1.12.1->earthengine-api>=0.1.347->geemap) (3.20.3)\n",
            "Requirement already satisfied: google-crc32c<2.0dev,>=1.0 in /usr/local/lib/python3.10/dist-packages (from google-resumable-media>=2.3.2->google-cloud-storage->earthengine-api>=0.1.347->geemap) (1.5.0)\n",
            "Requirement already satisfied: jupyter-client in /usr/local/lib/python3.10/dist-packages (from ipykernel>=4.5.1->ipywidgets->ipyfilechooser>=0.6.0->geemap) (6.1.12)\n",
            "Requirement already satisfied: tornado>=4.2 in /usr/local/lib/python3.10/dist-packages (from ipykernel>=4.5.1->ipywidgets->ipyfilechooser>=0.6.0->geemap) (6.3.1)\n",
            "Requirement already satisfied: setuptools>=18.5 in /usr/local/lib/python3.10/dist-packages (from ipython>=4.0.0->ipywidgets->ipyfilechooser>=0.6.0->geemap) (67.7.2)\n",
            "Collecting jedi>=0.16 (from ipython>=4.0.0->ipywidgets->ipyfilechooser>=0.6.0->geemap)\n",
            "  Downloading jedi-0.18.2-py2.py3-none-any.whl (1.6 MB)\n",
            "\u001b[2K     \u001b[90m━━━━━━━━━━━━━━━━━━━━━━━━━━━━━━━━━━━━━━━━\u001b[0m \u001b[32m1.6/1.6 MB\u001b[0m \u001b[31m75.9 MB/s\u001b[0m eta \u001b[36m0:00:00\u001b[0m\n",
            "\u001b[?25hRequirement already satisfied: pickleshare in /usr/local/lib/python3.10/dist-packages (from ipython>=4.0.0->ipywidgets->ipyfilechooser>=0.6.0->geemap) (0.7.5)\n",
            "Requirement already satisfied: prompt-toolkit!=3.0.0,!=3.0.1,<3.1.0,>=2.0.0 in /usr/local/lib/python3.10/dist-packages (from ipython>=4.0.0->ipywidgets->ipyfilechooser>=0.6.0->geemap) (3.0.39)\n",
            "Requirement already satisfied: pygments in /usr/local/lib/python3.10/dist-packages (from ipython>=4.0.0->ipywidgets->ipyfilechooser>=0.6.0->geemap) (2.14.0)\n",
            "Requirement already satisfied: backcall in /usr/local/lib/python3.10/dist-packages (from ipython>=4.0.0->ipywidgets->ipyfilechooser>=0.6.0->geemap) (0.2.0)\n",
            "Requirement already satisfied: matplotlib-inline in /usr/local/lib/python3.10/dist-packages (from ipython>=4.0.0->ipywidgets->ipyfilechooser>=0.6.0->geemap) (0.1.6)\n",
            "Requirement already satisfied: pexpect>4.3 in /usr/local/lib/python3.10/dist-packages (from ipython>=4.0.0->ipywidgets->ipyfilechooser>=0.6.0->geemap) (4.8.0)\n",
            "Requirement already satisfied: pyasn1<0.6.0,>=0.4.6 in /usr/local/lib/python3.10/dist-packages (from pyasn1-modules>=0.2.1->google-auth>=1.4.1->earthengine-api>=0.1.347->geemap) (0.5.0)\n",
            "Requirement already satisfied: notebook>=4.4.1 in /usr/local/lib/python3.10/dist-packages (from widgetsnbextension~=3.6.0->ipywidgets->ipyfilechooser>=0.6.0->geemap) (6.4.8)\n",
            "Requirement already satisfied: parso<0.9.0,>=0.8.0 in /usr/local/lib/python3.10/dist-packages (from jedi>=0.16->ipython>=4.0.0->ipywidgets->ipyfilechooser>=0.6.0->geemap) (0.8.3)\n",
            "Requirement already satisfied: pyzmq>=17 in /usr/local/lib/python3.10/dist-packages (from notebook>=4.4.1->widgetsnbextension~=3.6.0->ipywidgets->ipyfilechooser>=0.6.0->geemap) (23.2.1)\n",
            "Requirement already satisfied: argon2-cffi in /usr/local/lib/python3.10/dist-packages (from notebook>=4.4.1->widgetsnbextension~=3.6.0->ipywidgets->ipyfilechooser>=0.6.0->geemap) (21.3.0)\n",
            "Requirement already satisfied: jupyter-core>=4.6.1 in /usr/local/lib/python3.10/dist-packages (from notebook>=4.4.1->widgetsnbextension~=3.6.0->ipywidgets->ipyfilechooser>=0.6.0->geemap) (5.3.1)\n",
            "Requirement already satisfied: nbformat in /usr/local/lib/python3.10/dist-packages (from notebook>=4.4.1->widgetsnbextension~=3.6.0->ipywidgets->ipyfilechooser>=0.6.0->geemap) (5.9.1)\n",
            "Requirement already satisfied: nbconvert in /usr/local/lib/python3.10/dist-packages (from notebook>=4.4.1->widgetsnbextension~=3.6.0->ipywidgets->ipyfilechooser>=0.6.0->geemap) (6.5.4)\n",
            "Requirement already satisfied: nest-asyncio>=1.5 in /usr/local/lib/python3.10/dist-packages (from notebook>=4.4.1->widgetsnbextension~=3.6.0->ipywidgets->ipyfilechooser>=0.6.0->geemap) (1.5.6)\n",
            "Requirement already satisfied: Send2Trash>=1.8.0 in /usr/local/lib/python3.10/dist-packages (from notebook>=4.4.1->widgetsnbextension~=3.6.0->ipywidgets->ipyfilechooser>=0.6.0->geemap) (1.8.2)\n",
            "Requirement already satisfied: terminado>=0.8.3 in /usr/local/lib/python3.10/dist-packages (from notebook>=4.4.1->widgetsnbextension~=3.6.0->ipywidgets->ipyfilechooser>=0.6.0->geemap) (0.17.1)\n",
            "Requirement already satisfied: prometheus-client in /usr/local/lib/python3.10/dist-packages (from notebook>=4.4.1->widgetsnbextension~=3.6.0->ipywidgets->ipyfilechooser>=0.6.0->geemap) (0.17.1)\n",
            "Requirement already satisfied: ptyprocess>=0.5 in /usr/local/lib/python3.10/dist-packages (from pexpect>4.3->ipython>=4.0.0->ipywidgets->ipyfilechooser>=0.6.0->geemap) (0.7.0)\n",
            "Requirement already satisfied: wcwidth in /usr/local/lib/python3.10/dist-packages (from prompt-toolkit!=3.0.0,!=3.0.1,<3.1.0,>=2.0.0->ipython>=4.0.0->ipywidgets->ipyfilechooser>=0.6.0->geemap) (0.2.6)\n",
            "Requirement already satisfied: platformdirs>=2.5 in /usr/local/lib/python3.10/dist-packages (from jupyter-core>=4.6.1->notebook>=4.4.1->widgetsnbextension~=3.6.0->ipywidgets->ipyfilechooser>=0.6.0->geemap) (3.9.1)\n",
            "Requirement already satisfied: argon2-cffi-bindings in /usr/local/lib/python3.10/dist-packages (from argon2-cffi->notebook>=4.4.1->widgetsnbextension~=3.6.0->ipywidgets->ipyfilechooser>=0.6.0->geemap) (21.2.0)\n",
            "Requirement already satisfied: lxml in /usr/local/lib/python3.10/dist-packages (from nbconvert->notebook>=4.4.1->widgetsnbextension~=3.6.0->ipywidgets->ipyfilechooser>=0.6.0->geemap) (4.9.3)\n",
            "Requirement already satisfied: beautifulsoup4 in /usr/local/lib/python3.10/dist-packages (from nbconvert->notebook>=4.4.1->widgetsnbextension~=3.6.0->ipywidgets->ipyfilechooser>=0.6.0->geemap) (4.11.2)\n",
            "Requirement already satisfied: bleach in /usr/local/lib/python3.10/dist-packages (from nbconvert->notebook>=4.4.1->widgetsnbextension~=3.6.0->ipywidgets->ipyfilechooser>=0.6.0->geemap) (6.0.0)\n",
            "Requirement already satisfied: defusedxml in /usr/local/lib/python3.10/dist-packages (from nbconvert->notebook>=4.4.1->widgetsnbextension~=3.6.0->ipywidgets->ipyfilechooser>=0.6.0->geemap) (0.7.1)\n",
            "Requirement already satisfied: entrypoints>=0.2.2 in /usr/local/lib/python3.10/dist-packages (from nbconvert->notebook>=4.4.1->widgetsnbextension~=3.6.0->ipywidgets->ipyfilechooser>=0.6.0->geemap) (0.4)\n",
            "Requirement already satisfied: jupyterlab-pygments in /usr/local/lib/python3.10/dist-packages (from nbconvert->notebook>=4.4.1->widgetsnbextension~=3.6.0->ipywidgets->ipyfilechooser>=0.6.0->geemap) (0.2.2)\n",
            "Requirement already satisfied: mistune<2,>=0.8.1 in /usr/local/lib/python3.10/dist-packages (from nbconvert->notebook>=4.4.1->widgetsnbextension~=3.6.0->ipywidgets->ipyfilechooser>=0.6.0->geemap) (0.8.4)\n",
            "Requirement already satisfied: nbclient>=0.5.0 in /usr/local/lib/python3.10/dist-packages (from nbconvert->notebook>=4.4.1->widgetsnbextension~=3.6.0->ipywidgets->ipyfilechooser>=0.6.0->geemap) (0.8.0)\n",
            "Requirement already satisfied: pandocfilters>=1.4.1 in /usr/local/lib/python3.10/dist-packages (from nbconvert->notebook>=4.4.1->widgetsnbextension~=3.6.0->ipywidgets->ipyfilechooser>=0.6.0->geemap) (1.5.0)\n",
            "Requirement already satisfied: tinycss2 in /usr/local/lib/python3.10/dist-packages (from nbconvert->notebook>=4.4.1->widgetsnbextension~=3.6.0->ipywidgets->ipyfilechooser>=0.6.0->geemap) (1.2.1)\n",
            "Requirement already satisfied: fastjsonschema in /usr/local/lib/python3.10/dist-packages (from nbformat->notebook>=4.4.1->widgetsnbextension~=3.6.0->ipywidgets->ipyfilechooser>=0.6.0->geemap) (2.17.1)\n",
            "Requirement already satisfied: jsonschema>=2.6 in /usr/local/lib/python3.10/dist-packages (from nbformat->notebook>=4.4.1->widgetsnbextension~=3.6.0->ipywidgets->ipyfilechooser>=0.6.0->geemap) (4.3.3)\n",
            "Requirement already satisfied: attrs>=17.4.0 in /usr/local/lib/python3.10/dist-packages (from jsonschema>=2.6->nbformat->notebook>=4.4.1->widgetsnbextension~=3.6.0->ipywidgets->ipyfilechooser>=0.6.0->geemap) (23.1.0)\n",
            "Requirement already satisfied: pyrsistent!=0.17.0,!=0.17.1,!=0.17.2,>=0.14.0 in /usr/local/lib/python3.10/dist-packages (from jsonschema>=2.6->nbformat->notebook>=4.4.1->widgetsnbextension~=3.6.0->ipywidgets->ipyfilechooser>=0.6.0->geemap) (0.19.3)\n",
            "Requirement already satisfied: cffi>=1.0.1 in /usr/local/lib/python3.10/dist-packages (from argon2-cffi-bindings->argon2-cffi->notebook>=4.4.1->widgetsnbextension~=3.6.0->ipywidgets->ipyfilechooser>=0.6.0->geemap) (1.15.1)\n",
            "Requirement already satisfied: soupsieve>1.2 in /usr/local/lib/python3.10/dist-packages (from beautifulsoup4->nbconvert->notebook>=4.4.1->widgetsnbextension~=3.6.0->ipywidgets->ipyfilechooser>=0.6.0->geemap) (2.4.1)\n",
            "Requirement already satisfied: webencodings in /usr/local/lib/python3.10/dist-packages (from bleach->nbconvert->notebook>=4.4.1->widgetsnbextension~=3.6.0->ipywidgets->ipyfilechooser>=0.6.0->geemap) (0.5.1)\n",
            "Requirement already satisfied: pycparser in /usr/local/lib/python3.10/dist-packages (from cffi>=1.0.1->argon2-cffi-bindings->argon2-cffi->notebook>=4.4.1->widgetsnbextension~=3.6.0->ipywidgets->ipyfilechooser>=0.6.0->geemap) (2.21)\n",
            "Building wheels for collected packages: pyperclip\n",
            "  Building wheel for pyperclip (setup.py) ... \u001b[?25l\u001b[?25hdone\n",
            "  Created wheel for pyperclip: filename=pyperclip-1.8.2-py3-none-any.whl size=11124 sha256=0f25975a8bafc9abdafeba0a7b6cb775b4e1f5e99d0c7533bc83b6893d47eeb5\n",
            "  Stored in directory: /root/.cache/pip/wheels/04/24/fe/140a94a7f1036003ede94579e6b4227fe96c840c6f4dcbe307\n",
            "Successfully built pyperclip\n",
            "Installing collected packages: pyperclip, colour, xyzservices, traittypes, scooby, ratelim, python-box, pyshp, jedi, geocoder, eerepr, ipytree, ipyleaflet, ipyfilechooser, ipyevents, bqplot, geemap\n",
            "Successfully installed bqplot-0.12.40 colour-0.1.5 eerepr-0.0.4 geemap-0.24.4 geocoder-1.38.1 ipyevents-2.0.1 ipyfilechooser-0.6.0 ipyleaflet-0.17.3 ipytree-0.2.2 jedi-0.18.2 pyperclip-1.8.2 pyshp-2.3.1 python-box-7.0.1 ratelim-0.1.6 scooby-0.7.2 traittypes-0.2.1 xyzservices-2023.7.0\n"
          ]
        }
      ]
    },
    {
      "cell_type": "code",
      "source": [
        "pip install eemont"
      ],
      "metadata": {
        "colab": {
          "base_uri": "https://localhost:8080/"
        },
        "id": "Kod3W2guawtR",
        "outputId": "82fd90d9-771a-4760-8f38-34d6eaed383e"
      },
      "execution_count": 3,
      "outputs": [
        {
          "output_type": "stream",
          "name": "stdout",
          "text": [
            "Collecting eemont\n",
            "  Downloading eemont-0.3.6.tar.gz (134 kB)\n",
            "\u001b[2K     \u001b[90m━━━━━━━━━━━━━━━━━━━━━━━━━━━━━━━━━━━━━━━\u001b[0m \u001b[32m134.7/134.7 kB\u001b[0m \u001b[31m3.3 MB/s\u001b[0m eta \u001b[36m0:00:00\u001b[0m\n",
            "\u001b[?25h  Preparing metadata (setup.py) ... \u001b[?25l\u001b[?25hdone\n",
            "Requirement already satisfied: beautifulsoup4 in /usr/local/lib/python3.10/dist-packages (from eemont) (4.11.2)\n",
            "Requirement already satisfied: earthengine-api in /usr/local/lib/python3.10/dist-packages (from eemont) (0.1.358)\n",
            "Collecting ee_extra>=0.0.15 (from eemont)\n",
            "  Downloading ee_extra-0.0.15.tar.gz (224 kB)\n",
            "\u001b[2K     \u001b[90m━━━━━━━━━━━━━━━━━━━━━━━━━━━━━━━━━━━━━━\u001b[0m \u001b[32m224.7/224.7 kB\u001b[0m \u001b[31m14.6 MB/s\u001b[0m eta \u001b[36m0:00:00\u001b[0m\n",
            "\u001b[?25h  Preparing metadata (setup.py) ... \u001b[?25l\u001b[?25hdone\n",
            "Requirement already satisfied: numpy in /usr/local/lib/python3.10/dist-packages (from eemont) (1.22.4)\n",
            "Requirement already satisfied: pandas in /usr/local/lib/python3.10/dist-packages (from eemont) (1.5.3)\n",
            "Requirement already satisfied: python-box>=6.0.0 in /usr/local/lib/python3.10/dist-packages (from eemont) (7.0.1)\n",
            "Requirement already satisfied: geopy in /usr/local/lib/python3.10/dist-packages (from eemont) (2.3.0)\n",
            "Requirement already satisfied: requests in /usr/local/lib/python3.10/dist-packages (from eemont) (2.27.1)\n",
            "Requirement already satisfied: soupsieve>1.2 in /usr/local/lib/python3.10/dist-packages (from beautifulsoup4->eemont) (2.4.1)\n",
            "Requirement already satisfied: google-cloud-storage in /usr/local/lib/python3.10/dist-packages (from earthengine-api->eemont) (2.8.0)\n",
            "Requirement already satisfied: google-api-python-client>=1.12.1 in /usr/local/lib/python3.10/dist-packages (from earthengine-api->eemont) (2.84.0)\n",
            "Requirement already satisfied: google-auth>=1.4.1 in /usr/local/lib/python3.10/dist-packages (from earthengine-api->eemont) (2.17.3)\n",
            "Requirement already satisfied: google-auth-httplib2>=0.0.3 in /usr/local/lib/python3.10/dist-packages (from earthengine-api->eemont) (0.1.0)\n",
            "Requirement already satisfied: httplib2<1dev,>=0.9.2 in /usr/local/lib/python3.10/dist-packages (from earthengine-api->eemont) (0.21.0)\n",
            "Requirement already satisfied: geographiclib<3,>=1.52 in /usr/local/lib/python3.10/dist-packages (from geopy->eemont) (2.0)\n",
            "Requirement already satisfied: python-dateutil>=2.8.1 in /usr/local/lib/python3.10/dist-packages (from pandas->eemont) (2.8.2)\n",
            "Requirement already satisfied: pytz>=2020.1 in /usr/local/lib/python3.10/dist-packages (from pandas->eemont) (2022.7.1)\n",
            "Requirement already satisfied: urllib3<1.27,>=1.21.1 in /usr/local/lib/python3.10/dist-packages (from requests->eemont) (1.26.16)\n",
            "Requirement already satisfied: certifi>=2017.4.17 in /usr/local/lib/python3.10/dist-packages (from requests->eemont) (2023.5.7)\n",
            "Requirement already satisfied: charset-normalizer~=2.0.0 in /usr/local/lib/python3.10/dist-packages (from requests->eemont) (2.0.12)\n",
            "Requirement already satisfied: idna<4,>=2.5 in /usr/local/lib/python3.10/dist-packages (from requests->eemont) (3.4)\n",
            "Requirement already satisfied: google-api-core!=2.0.*,!=2.1.*,!=2.2.*,!=2.3.0,<3.0.0dev,>=1.31.5 in /usr/local/lib/python3.10/dist-packages (from google-api-python-client>=1.12.1->earthengine-api->eemont) (2.11.1)\n",
            "Requirement already satisfied: uritemplate<5,>=3.0.1 in /usr/local/lib/python3.10/dist-packages (from google-api-python-client>=1.12.1->earthengine-api->eemont) (4.1.1)\n",
            "Requirement already satisfied: cachetools<6.0,>=2.0.0 in /usr/local/lib/python3.10/dist-packages (from google-auth>=1.4.1->earthengine-api->eemont) (5.3.1)\n",
            "Requirement already satisfied: pyasn1-modules>=0.2.1 in /usr/local/lib/python3.10/dist-packages (from google-auth>=1.4.1->earthengine-api->eemont) (0.3.0)\n",
            "Requirement already satisfied: six>=1.9.0 in /usr/local/lib/python3.10/dist-packages (from google-auth>=1.4.1->earthengine-api->eemont) (1.16.0)\n",
            "Requirement already satisfied: rsa<5,>=3.1.4 in /usr/local/lib/python3.10/dist-packages (from google-auth>=1.4.1->earthengine-api->eemont) (4.9)\n",
            "Requirement already satisfied: pyparsing!=3.0.0,!=3.0.1,!=3.0.2,!=3.0.3,<4,>=2.4.2 in /usr/local/lib/python3.10/dist-packages (from httplib2<1dev,>=0.9.2->earthengine-api->eemont) (3.1.0)\n",
            "Requirement already satisfied: google-cloud-core<3.0dev,>=2.3.0 in /usr/local/lib/python3.10/dist-packages (from google-cloud-storage->earthengine-api->eemont) (2.3.3)\n",
            "Requirement already satisfied: google-resumable-media>=2.3.2 in /usr/local/lib/python3.10/dist-packages (from google-cloud-storage->earthengine-api->eemont) (2.5.0)\n",
            "Requirement already satisfied: googleapis-common-protos<2.0.dev0,>=1.56.2 in /usr/local/lib/python3.10/dist-packages (from google-api-core!=2.0.*,!=2.1.*,!=2.2.*,!=2.3.0,<3.0.0dev,>=1.31.5->google-api-python-client>=1.12.1->earthengine-api->eemont) (1.59.1)\n",
            "Requirement already satisfied: protobuf!=3.20.0,!=3.20.1,!=4.21.0,!=4.21.1,!=4.21.2,!=4.21.3,!=4.21.4,!=4.21.5,<5.0.0.dev0,>=3.19.5 in /usr/local/lib/python3.10/dist-packages (from google-api-core!=2.0.*,!=2.1.*,!=2.2.*,!=2.3.0,<3.0.0dev,>=1.31.5->google-api-python-client>=1.12.1->earthengine-api->eemont) (3.20.3)\n",
            "Requirement already satisfied: google-crc32c<2.0dev,>=1.0 in /usr/local/lib/python3.10/dist-packages (from google-resumable-media>=2.3.2->google-cloud-storage->earthengine-api->eemont) (1.5.0)\n",
            "Requirement already satisfied: pyasn1<0.6.0,>=0.4.6 in /usr/local/lib/python3.10/dist-packages (from pyasn1-modules>=0.2.1->google-auth>=1.4.1->earthengine-api->eemont) (0.5.0)\n",
            "Building wheels for collected packages: eemont, ee_extra\n",
            "  Building wheel for eemont (setup.py) ... \u001b[?25l\u001b[?25hdone\n",
            "  Created wheel for eemont: filename=eemont-0.3.6-py3-none-any.whl size=135743 sha256=12fa1dbbe6893ed8adaa3504b146b258dc4d691d59caca76abcc2d72480ff4f6\n",
            "  Stored in directory: /root/.cache/pip/wheels/c2/79/2c/4fed17c3d3b466bbf4fe5872eec11f189147043b01152a4f75\n",
            "  Building wheel for ee_extra (setup.py) ... \u001b[?25l\u001b[?25hdone\n",
            "  Created wheel for ee_extra: filename=ee_extra-0.0.15-py3-none-any.whl size=236757 sha256=68199f95873116c4a2c801aaf92220575cc9e70d367ed1f0ef23a0f6db99d790\n",
            "  Stored in directory: /root/.cache/pip/wheels/29/96/0e/4e36b0dfd85e16867723df739294c0aa45a65b191adac4d959\n",
            "Successfully built eemont ee_extra\n",
            "Installing collected packages: ee_extra, eemont\n",
            "Successfully installed ee_extra-0.0.15 eemont-0.3.6\n"
          ]
        }
      ]
    },
    {
      "cell_type": "code",
      "execution_count": 4,
      "metadata": {
        "id": "Ew3_MrrGslr4"
      },
      "outputs": [],
      "source": [
        "# Standard imports\n",
        "import requests\n",
        "import json\n",
        "\n",
        "import pandas as pd\n",
        "import numpy as np\n",
        "from PIL import Image\n",
        "\n",
        "# Geospatial processing packages\n",
        "import geopandas as gpd\n",
        "import geojson\n",
        "\n",
        "import shapely\n",
        "from shapely.geometry import box\n",
        "\n",
        "# Mapping and plotting libraries\n",
        "import matplotlib.pyplot as plt\n",
        "import matplotlib.colors as cl\n",
        "import ee\n",
        "import eeconvert as eec\n",
        "import geemap\n",
        "import folium\n",
        "import eemont\n",
        "\n",
        "import geopandas as gpd\n",
        "from shapely.geometry import shape"
      ]
    },
    {
      "cell_type": "markdown",
      "metadata": {
        "id": "u7UQeErEItTQ"
      },
      "source": [
        "### Mount Drive"
      ]
    },
    {
      "cell_type": "code",
      "execution_count": 6,
      "metadata": {
        "colab": {
          "base_uri": "https://localhost:8080/"
        },
        "id": "IQvQCFgfIsoo",
        "outputId": "8a075b1f-40ad-46fc-b47b-69ee47cf0e46"
      },
      "outputs": [
        {
          "output_type": "stream",
          "name": "stdout",
          "text": [
            "Mounted at /content/drive\n"
          ]
        }
      ],
      "source": [
        "from google.colab import drive\n",
        "drive.mount('/content/drive', force_remount=True)"
      ]
    },
    {
      "cell_type": "markdown",
      "metadata": {
        "id": "N8JfmJxa043J"
      },
      "source": [
        "### Authenticate Google Earth Engine\n",
        "Make sure you have signed up for access to Google Earth Engine at https://signup.earthengine.google.com/#!/. Once your request has been approved, you should be able to access Google Earth Engine at https://code.earthengine.google.com/."
      ]
    },
    {
      "cell_type": "code",
      "execution_count": 7,
      "metadata": {
        "id": "w5nXj4Fo03Wr",
        "outputId": "df919696-5f67-4e1f-d473-d258b59581eb",
        "colab": {
          "base_uri": "https://localhost:8080/"
        }
      },
      "outputs": [
        {
          "output_type": "stream",
          "name": "stdout",
          "text": [
            "To authorize access needed by Earth Engine, open the following URL in a web browser and follow the instructions. If the web browser does not start automatically, please manually browse the URL below.\n",
            "\n",
            "    https://code.earthengine.google.com/client-auth?scopes=https%3A//www.googleapis.com/auth/earthengine%20https%3A//www.googleapis.com/auth/devstorage.full_control&request_id=Gi8RTYeyS1kwgg9y9ANNMOFWARvgfIAelqhCECY90JI&tc=rg_fvtwwesY72mbaDtR3bU6APMXp_IPLVt2VNt-elWs&cc=kSIV82ZtjZ6RsG_7rsfQ-t1uDT1qF4iTTOZ9BtRPML4\n",
            "\n",
            "The authorization workflow will generate a code, which you should paste in the box below.\n",
            "Enter verification code: 4/1AZEOvhWIBRcHli2G2vmbPy-hu8UrFfjpM1pg3tfEGGNPP4zAw7vNM7tQGXw\n",
            "\n",
            "Successfully saved authorization token.\n"
          ]
        }
      ],
      "source": [
        "ee.Authenticate()\n",
        "ee.Initialize()"
      ]
    },
    {
      "cell_type": "code",
      "execution_count": 45,
      "metadata": {
        "colab": {
          "base_uri": "https://localhost:8080/"
        },
        "id": "Oh_8NeAcs3qS",
        "outputId": "e69da65c-60b1-4a80-e40c-de5c77334653"
      },
      "outputs": [
        {
          "output_type": "stream",
          "name": "stdout",
          "text": [
            "Data dimensions: (12606, 19)\n"
          ]
        }
      ],
      "source": [
        "# Read the GeoJSON file\n",
        "mines = gpd.read_file('/content/drive/MyDrive/KY_Released_mines.geojson')\n",
        "\n",
        "# Read data using GeoPandas\n",
        "print(\"Data dimensions: {}\".format(mines.shape))\n",
        "mines = mines.head(100)"
      ]
    },
    {
      "cell_type": "code",
      "source": [
        "# Get the shape geometry\n",
        "region = eec.gdfToFc(mines)"
      ],
      "metadata": {
        "id": "kjyXG3tT-4u0"
      },
      "execution_count": 46,
      "outputs": []
    },
    {
      "cell_type": "code",
      "source": [
        "df = pd.DataFrame()"
      ],
      "metadata": {
        "id": "dH1jh_i6ijGx"
      },
      "execution_count": 47,
      "outputs": []
    },
    {
      "cell_type": "code",
      "source": [
        "mines_exploded= mines.explode()\n",
        "mines_exploded"
      ],
      "metadata": {
        "colab": {
          "base_uri": "https://localhost:8080/",
          "height": 1000
        },
        "id": "Iq8ynnoyipua",
        "outputId": "b7ce9012-2e46-44c1-81d9-0aa61be5ea86"
      },
      "execution_count": 48,
      "outputs": [
        {
          "output_type": "stream",
          "name": "stderr",
          "text": [
            "<ipython-input-48-86b5dc24b419>:1: FutureWarning: Currently, index_parts defaults to True, but in the future, it will default to False to be consistent with Pandas. Use `index_parts=True` to keep the current behavior and True/False to silence the warning.\n",
            "  mines_exploded= mines.explode()\n"
          ]
        },
        {
          "output_type": "execute_result",
          "data": {
            "text/plain": [
              "                        id  ACT_INAC  Calc_Acres                      Contact  \\\n",
              "0  0  00000000000000001111  Released  294.302954  KY Division of Mine Permits   \n",
              "1  0  00000000000000001112  Released  305.739886  KY Division of Mine Permits   \n",
              "   1  00000000000000001112  Released  305.739886  KY Division of Mine Permits   \n",
              "   2  00000000000000001112  Released  305.739886  KY Division of Mine Permits   \n",
              "   3  00000000000000001112  Released  305.739886  KY Division of Mine Permits   \n",
              "...                    ...       ...         ...                          ...   \n",
              "98 0  00000000000000002fce  Released    8.517380  KY Division of Mine Permits   \n",
              "   1  00000000000000002fce  Released    8.517380  KY Division of Mine Permits   \n",
              "   2  00000000000000002fce  Released    8.517380  KY Division of Mine Permits   \n",
              "99 0  00000000000000000079  Released    2.865622  KY Division of Mine Permits   \n",
              "   1  00000000000000000079  Released    2.865622  KY Division of Mine Permits   \n",
              "\n",
              "           DATE_ISS FeatCLS MINE_STATU National_I ORIG_PERM  \\\n",
              "0  0  1141718400000      SF         FF  KY8640180   8640180   \n",
              "1  0  1141718400000      SF         FF  KY8640180   8640180   \n",
              "   1  1141718400000      SF         FF  KY8640180   8640180   \n",
              "   2  1141718400000      SF         FF  KY8640180   8640180   \n",
              "   3  1141718400000      SF         FF  KY8640180   8640180   \n",
              "...             ...     ...        ...        ...       ...   \n",
              "98 0   292665600000      SF         FF  KY2985281   2985281   \n",
              "   1   292665600000      SF         FF  KY2985281   2985281   \n",
              "   2   292665600000      SF         FF  KY2985281   2985281   \n",
              "99 0   203065200000      SF         FF  KY463875X   463875X   \n",
              "   1   203065200000      SF         FF  KY463875X   463875X   \n",
              "\n",
              "                                               PERM_ACT              PER_NAME  \\\n",
              "0  0  SU      03/07/2013  AM   1  05/12/2011  RN   1...      B & C ENERGY INC   \n",
              "1  0  SU      03/07/2013  AM   1  05/12/2011  RN   1...      B & C ENERGY INC   \n",
              "   1  SU      03/07/2013  AM   1  05/12/2011  RN   1...      B & C ENERGY INC   \n",
              "   2  SU      03/07/2013  AM   1  05/12/2011  RN   1...      B & C ENERGY INC   \n",
              "   3  SU      03/07/2013  AM   1  05/12/2011  RN   1...      B & C ENERGY INC   \n",
              "...                                                 ...                   ...   \n",
              "98 0             AM      07/09/1982  NW      04/11/1979  BIG BUCK COAL CO INC   \n",
              "   1             AM      07/09/1982  NW      04/11/1979  BIG BUCK COAL CO INC   \n",
              "   2             AM      07/09/1982  NW      04/11/1979  BIG BUCK COAL CO INC   \n",
              "99 0                                 NW      06/08/1976         STUMP COAL CO   \n",
              "   1                                 NW      06/08/1976         STUMP COAL CO   \n",
              "\n",
              "       PER_TYPE PermitNo QUAD_DESC    REGION_DES    Shape_Leng       Source  \\\n",
              "0  0  PERMANENT  8640180     MAZIE  PRESTONSBURG  53267.493940         CHIA   \n",
              "1  0  PERMANENT  8640180     MAZIE  PRESTONSBURG  92560.008796        KYDMP   \n",
              "   1  PERMANENT  8640180     MAZIE  PRESTONSBURG  92560.008796        KYDMP   \n",
              "   2  PERMANENT  8640180     MAZIE  PRESTONSBURG  92560.008796        KYDMP   \n",
              "   3  PERMANENT  8640180     MAZIE  PRESTONSBURG  92560.008796        KYDMP   \n",
              "...         ...      ...       ...           ...           ...          ...   \n",
              "98 0    INTERIM  2985281      META     PIKEVILLE   8557.271248  KGS Project   \n",
              "   1    INTERIM  2985281      META     PIKEVILLE   8557.271248  KGS Project   \n",
              "   2    INTERIM  2985281      META     PIKEVILLE   8557.271248  KGS Project   \n",
              "99 0    PRE LAW  463875X      MILO  PRESTONSBURG   6756.042724  KGS Project   \n",
              "   1    PRE LAW  463875X      MILO  PRESTONSBURG   6756.042724  KGS Project   \n",
              "\n",
              "     Type_Flag                                           geometry  \n",
              "0  0      TRNS  POLYGON ((-82.96438 38.04585, -82.96352 38.045...  \n",
              "1  0      TRNS  LINESTRING (-82.95661 38.04524, -82.95662 38.0...  \n",
              "   1      TRNS  POLYGON ((-82.96448 38.04613, -82.96335 38.045...  \n",
              "   2      TRNS  POLYGON ((-82.96034 38.04565, -82.96033 38.045...  \n",
              "   3      TRNS  POLYGON ((-82.95562 38.04975, -82.95548 38.049...  \n",
              "...        ...                                                ...  \n",
              "98 0     INACT  POLYGON ((-82.42700 37.55508, -82.42654 37.554...  \n",
              "   1     INACT  POLYGON ((-82.42563 37.55100, -82.42585 37.550...  \n",
              "   2     INACT  POLYGON ((-82.42934 37.55570, -82.42901 37.555...  \n",
              "99 0     INACT  POLYGON ((-82.56836 37.97116, -82.56771 37.971...  \n",
              "   1     INACT  POLYGON ((-82.56845 37.97095, -82.56841 37.970...  \n",
              "\n",
              "[195 rows x 19 columns]"
            ],
            "text/html": [
              "\n",
              "\n",
              "  <div id=\"df-4d8f7d55-0a8a-4ceb-94c2-590831e53cbe\">\n",
              "    <div class=\"colab-df-container\">\n",
              "      <div>\n",
              "<style scoped>\n",
              "    .dataframe tbody tr th:only-of-type {\n",
              "        vertical-align: middle;\n",
              "    }\n",
              "\n",
              "    .dataframe tbody tr th {\n",
              "        vertical-align: top;\n",
              "    }\n",
              "\n",
              "    .dataframe thead th {\n",
              "        text-align: right;\n",
              "    }\n",
              "</style>\n",
              "<table border=\"1\" class=\"dataframe\">\n",
              "  <thead>\n",
              "    <tr style=\"text-align: right;\">\n",
              "      <th></th>\n",
              "      <th></th>\n",
              "      <th>id</th>\n",
              "      <th>ACT_INAC</th>\n",
              "      <th>Calc_Acres</th>\n",
              "      <th>Contact</th>\n",
              "      <th>DATE_ISS</th>\n",
              "      <th>FeatCLS</th>\n",
              "      <th>MINE_STATU</th>\n",
              "      <th>National_I</th>\n",
              "      <th>ORIG_PERM</th>\n",
              "      <th>PERM_ACT</th>\n",
              "      <th>PER_NAME</th>\n",
              "      <th>PER_TYPE</th>\n",
              "      <th>PermitNo</th>\n",
              "      <th>QUAD_DESC</th>\n",
              "      <th>REGION_DES</th>\n",
              "      <th>Shape_Leng</th>\n",
              "      <th>Source</th>\n",
              "      <th>Type_Flag</th>\n",
              "      <th>geometry</th>\n",
              "    </tr>\n",
              "  </thead>\n",
              "  <tbody>\n",
              "    <tr>\n",
              "      <th>0</th>\n",
              "      <th>0</th>\n",
              "      <td>00000000000000001111</td>\n",
              "      <td>Released</td>\n",
              "      <td>294.302954</td>\n",
              "      <td>KY Division of Mine Permits</td>\n",
              "      <td>1141718400000</td>\n",
              "      <td>SF</td>\n",
              "      <td>FF</td>\n",
              "      <td>KY8640180</td>\n",
              "      <td>8640180</td>\n",
              "      <td>SU      03/07/2013  AM   1  05/12/2011  RN   1...</td>\n",
              "      <td>B &amp; C ENERGY INC</td>\n",
              "      <td>PERMANENT</td>\n",
              "      <td>8640180</td>\n",
              "      <td>MAZIE</td>\n",
              "      <td>PRESTONSBURG</td>\n",
              "      <td>53267.493940</td>\n",
              "      <td>CHIA</td>\n",
              "      <td>TRNS</td>\n",
              "      <td>POLYGON ((-82.96438 38.04585, -82.96352 38.045...</td>\n",
              "    </tr>\n",
              "    <tr>\n",
              "      <th rowspan=\"4\" valign=\"top\">1</th>\n",
              "      <th>0</th>\n",
              "      <td>00000000000000001112</td>\n",
              "      <td>Released</td>\n",
              "      <td>305.739886</td>\n",
              "      <td>KY Division of Mine Permits</td>\n",
              "      <td>1141718400000</td>\n",
              "      <td>SF</td>\n",
              "      <td>FF</td>\n",
              "      <td>KY8640180</td>\n",
              "      <td>8640180</td>\n",
              "      <td>SU      03/07/2013  AM   1  05/12/2011  RN   1...</td>\n",
              "      <td>B &amp; C ENERGY INC</td>\n",
              "      <td>PERMANENT</td>\n",
              "      <td>8640180</td>\n",
              "      <td>MAZIE</td>\n",
              "      <td>PRESTONSBURG</td>\n",
              "      <td>92560.008796</td>\n",
              "      <td>KYDMP</td>\n",
              "      <td>TRNS</td>\n",
              "      <td>LINESTRING (-82.95661 38.04524, -82.95662 38.0...</td>\n",
              "    </tr>\n",
              "    <tr>\n",
              "      <th>1</th>\n",
              "      <td>00000000000000001112</td>\n",
              "      <td>Released</td>\n",
              "      <td>305.739886</td>\n",
              "      <td>KY Division of Mine Permits</td>\n",
              "      <td>1141718400000</td>\n",
              "      <td>SF</td>\n",
              "      <td>FF</td>\n",
              "      <td>KY8640180</td>\n",
              "      <td>8640180</td>\n",
              "      <td>SU      03/07/2013  AM   1  05/12/2011  RN   1...</td>\n",
              "      <td>B &amp; C ENERGY INC</td>\n",
              "      <td>PERMANENT</td>\n",
              "      <td>8640180</td>\n",
              "      <td>MAZIE</td>\n",
              "      <td>PRESTONSBURG</td>\n",
              "      <td>92560.008796</td>\n",
              "      <td>KYDMP</td>\n",
              "      <td>TRNS</td>\n",
              "      <td>POLYGON ((-82.96448 38.04613, -82.96335 38.045...</td>\n",
              "    </tr>\n",
              "    <tr>\n",
              "      <th>2</th>\n",
              "      <td>00000000000000001112</td>\n",
              "      <td>Released</td>\n",
              "      <td>305.739886</td>\n",
              "      <td>KY Division of Mine Permits</td>\n",
              "      <td>1141718400000</td>\n",
              "      <td>SF</td>\n",
              "      <td>FF</td>\n",
              "      <td>KY8640180</td>\n",
              "      <td>8640180</td>\n",
              "      <td>SU      03/07/2013  AM   1  05/12/2011  RN   1...</td>\n",
              "      <td>B &amp; C ENERGY INC</td>\n",
              "      <td>PERMANENT</td>\n",
              "      <td>8640180</td>\n",
              "      <td>MAZIE</td>\n",
              "      <td>PRESTONSBURG</td>\n",
              "      <td>92560.008796</td>\n",
              "      <td>KYDMP</td>\n",
              "      <td>TRNS</td>\n",
              "      <td>POLYGON ((-82.96034 38.04565, -82.96033 38.045...</td>\n",
              "    </tr>\n",
              "    <tr>\n",
              "      <th>3</th>\n",
              "      <td>00000000000000001112</td>\n",
              "      <td>Released</td>\n",
              "      <td>305.739886</td>\n",
              "      <td>KY Division of Mine Permits</td>\n",
              "      <td>1141718400000</td>\n",
              "      <td>SF</td>\n",
              "      <td>FF</td>\n",
              "      <td>KY8640180</td>\n",
              "      <td>8640180</td>\n",
              "      <td>SU      03/07/2013  AM   1  05/12/2011  RN   1...</td>\n",
              "      <td>B &amp; C ENERGY INC</td>\n",
              "      <td>PERMANENT</td>\n",
              "      <td>8640180</td>\n",
              "      <td>MAZIE</td>\n",
              "      <td>PRESTONSBURG</td>\n",
              "      <td>92560.008796</td>\n",
              "      <td>KYDMP</td>\n",
              "      <td>TRNS</td>\n",
              "      <td>POLYGON ((-82.95562 38.04975, -82.95548 38.049...</td>\n",
              "    </tr>\n",
              "    <tr>\n",
              "      <th>...</th>\n",
              "      <th>...</th>\n",
              "      <td>...</td>\n",
              "      <td>...</td>\n",
              "      <td>...</td>\n",
              "      <td>...</td>\n",
              "      <td>...</td>\n",
              "      <td>...</td>\n",
              "      <td>...</td>\n",
              "      <td>...</td>\n",
              "      <td>...</td>\n",
              "      <td>...</td>\n",
              "      <td>...</td>\n",
              "      <td>...</td>\n",
              "      <td>...</td>\n",
              "      <td>...</td>\n",
              "      <td>...</td>\n",
              "      <td>...</td>\n",
              "      <td>...</td>\n",
              "      <td>...</td>\n",
              "      <td>...</td>\n",
              "    </tr>\n",
              "    <tr>\n",
              "      <th rowspan=\"3\" valign=\"top\">98</th>\n",
              "      <th>0</th>\n",
              "      <td>00000000000000002fce</td>\n",
              "      <td>Released</td>\n",
              "      <td>8.517380</td>\n",
              "      <td>KY Division of Mine Permits</td>\n",
              "      <td>292665600000</td>\n",
              "      <td>SF</td>\n",
              "      <td>FF</td>\n",
              "      <td>KY2985281</td>\n",
              "      <td>2985281</td>\n",
              "      <td>AM      07/09/1982  NW      04/11/1979</td>\n",
              "      <td>BIG BUCK COAL CO INC</td>\n",
              "      <td>INTERIM</td>\n",
              "      <td>2985281</td>\n",
              "      <td>META</td>\n",
              "      <td>PIKEVILLE</td>\n",
              "      <td>8557.271248</td>\n",
              "      <td>KGS Project</td>\n",
              "      <td>INACT</td>\n",
              "      <td>POLYGON ((-82.42700 37.55508, -82.42654 37.554...</td>\n",
              "    </tr>\n",
              "    <tr>\n",
              "      <th>1</th>\n",
              "      <td>00000000000000002fce</td>\n",
              "      <td>Released</td>\n",
              "      <td>8.517380</td>\n",
              "      <td>KY Division of Mine Permits</td>\n",
              "      <td>292665600000</td>\n",
              "      <td>SF</td>\n",
              "      <td>FF</td>\n",
              "      <td>KY2985281</td>\n",
              "      <td>2985281</td>\n",
              "      <td>AM      07/09/1982  NW      04/11/1979</td>\n",
              "      <td>BIG BUCK COAL CO INC</td>\n",
              "      <td>INTERIM</td>\n",
              "      <td>2985281</td>\n",
              "      <td>META</td>\n",
              "      <td>PIKEVILLE</td>\n",
              "      <td>8557.271248</td>\n",
              "      <td>KGS Project</td>\n",
              "      <td>INACT</td>\n",
              "      <td>POLYGON ((-82.42563 37.55100, -82.42585 37.550...</td>\n",
              "    </tr>\n",
              "    <tr>\n",
              "      <th>2</th>\n",
              "      <td>00000000000000002fce</td>\n",
              "      <td>Released</td>\n",
              "      <td>8.517380</td>\n",
              "      <td>KY Division of Mine Permits</td>\n",
              "      <td>292665600000</td>\n",
              "      <td>SF</td>\n",
              "      <td>FF</td>\n",
              "      <td>KY2985281</td>\n",
              "      <td>2985281</td>\n",
              "      <td>AM      07/09/1982  NW      04/11/1979</td>\n",
              "      <td>BIG BUCK COAL CO INC</td>\n",
              "      <td>INTERIM</td>\n",
              "      <td>2985281</td>\n",
              "      <td>META</td>\n",
              "      <td>PIKEVILLE</td>\n",
              "      <td>8557.271248</td>\n",
              "      <td>KGS Project</td>\n",
              "      <td>INACT</td>\n",
              "      <td>POLYGON ((-82.42934 37.55570, -82.42901 37.555...</td>\n",
              "    </tr>\n",
              "    <tr>\n",
              "      <th rowspan=\"2\" valign=\"top\">99</th>\n",
              "      <th>0</th>\n",
              "      <td>00000000000000000079</td>\n",
              "      <td>Released</td>\n",
              "      <td>2.865622</td>\n",
              "      <td>KY Division of Mine Permits</td>\n",
              "      <td>203065200000</td>\n",
              "      <td>SF</td>\n",
              "      <td>FF</td>\n",
              "      <td>KY463875X</td>\n",
              "      <td>463875X</td>\n",
              "      <td>NW      06/08/1976</td>\n",
              "      <td>STUMP COAL CO</td>\n",
              "      <td>PRE LAW</td>\n",
              "      <td>463875X</td>\n",
              "      <td>MILO</td>\n",
              "      <td>PRESTONSBURG</td>\n",
              "      <td>6756.042724</td>\n",
              "      <td>KGS Project</td>\n",
              "      <td>INACT</td>\n",
              "      <td>POLYGON ((-82.56836 37.97116, -82.56771 37.971...</td>\n",
              "    </tr>\n",
              "    <tr>\n",
              "      <th>1</th>\n",
              "      <td>00000000000000000079</td>\n",
              "      <td>Released</td>\n",
              "      <td>2.865622</td>\n",
              "      <td>KY Division of Mine Permits</td>\n",
              "      <td>203065200000</td>\n",
              "      <td>SF</td>\n",
              "      <td>FF</td>\n",
              "      <td>KY463875X</td>\n",
              "      <td>463875X</td>\n",
              "      <td>NW      06/08/1976</td>\n",
              "      <td>STUMP COAL CO</td>\n",
              "      <td>PRE LAW</td>\n",
              "      <td>463875X</td>\n",
              "      <td>MILO</td>\n",
              "      <td>PRESTONSBURG</td>\n",
              "      <td>6756.042724</td>\n",
              "      <td>KGS Project</td>\n",
              "      <td>INACT</td>\n",
              "      <td>POLYGON ((-82.56845 37.97095, -82.56841 37.970...</td>\n",
              "    </tr>\n",
              "  </tbody>\n",
              "</table>\n",
              "<p>195 rows × 19 columns</p>\n",
              "</div>\n",
              "      <button class=\"colab-df-convert\" onclick=\"convertToInteractive('df-4d8f7d55-0a8a-4ceb-94c2-590831e53cbe')\"\n",
              "              title=\"Convert this dataframe to an interactive table.\"\n",
              "              style=\"display:none;\">\n",
              "\n",
              "  <svg xmlns=\"http://www.w3.org/2000/svg\" height=\"24px\"viewBox=\"0 0 24 24\"\n",
              "       width=\"24px\">\n",
              "    <path d=\"M0 0h24v24H0V0z\" fill=\"none\"/>\n",
              "    <path d=\"M18.56 5.44l.94 2.06.94-2.06 2.06-.94-2.06-.94-.94-2.06-.94 2.06-2.06.94zm-11 1L8.5 8.5l.94-2.06 2.06-.94-2.06-.94L8.5 2.5l-.94 2.06-2.06.94zm10 10l.94 2.06.94-2.06 2.06-.94-2.06-.94-.94-2.06-.94 2.06-2.06.94z\"/><path d=\"M17.41 7.96l-1.37-1.37c-.4-.4-.92-.59-1.43-.59-.52 0-1.04.2-1.43.59L10.3 9.45l-7.72 7.72c-.78.78-.78 2.05 0 2.83L4 21.41c.39.39.9.59 1.41.59.51 0 1.02-.2 1.41-.59l7.78-7.78 2.81-2.81c.8-.78.8-2.07 0-2.86zM5.41 20L4 18.59l7.72-7.72 1.47 1.35L5.41 20z\"/>\n",
              "  </svg>\n",
              "      </button>\n",
              "\n",
              "\n",
              "\n",
              "    <div id=\"df-da9939a0-bc8c-4c78-95bd-f51367da6c0b\">\n",
              "      <button class=\"colab-df-quickchart\" onclick=\"quickchart('df-da9939a0-bc8c-4c78-95bd-f51367da6c0b')\"\n",
              "              title=\"Suggest charts.\"\n",
              "              style=\"display:none;\">\n",
              "\n",
              "<svg xmlns=\"http://www.w3.org/2000/svg\" height=\"24px\"viewBox=\"0 0 24 24\"\n",
              "     width=\"24px\">\n",
              "    <g>\n",
              "        <path d=\"M19 3H5c-1.1 0-2 .9-2 2v14c0 1.1.9 2 2 2h14c1.1 0 2-.9 2-2V5c0-1.1-.9-2-2-2zM9 17H7v-7h2v7zm4 0h-2V7h2v10zm4 0h-2v-4h2v4z\"/>\n",
              "    </g>\n",
              "</svg>\n",
              "      </button>\n",
              "    </div>\n",
              "\n",
              "<style>\n",
              "  .colab-df-quickchart {\n",
              "    background-color: #E8F0FE;\n",
              "    border: none;\n",
              "    border-radius: 50%;\n",
              "    cursor: pointer;\n",
              "    display: none;\n",
              "    fill: #1967D2;\n",
              "    height: 32px;\n",
              "    padding: 0 0 0 0;\n",
              "    width: 32px;\n",
              "  }\n",
              "\n",
              "  .colab-df-quickchart:hover {\n",
              "    background-color: #E2EBFA;\n",
              "    box-shadow: 0px 1px 2px rgba(60, 64, 67, 0.3), 0px 1px 3px 1px rgba(60, 64, 67, 0.15);\n",
              "    fill: #174EA6;\n",
              "  }\n",
              "\n",
              "  [theme=dark] .colab-df-quickchart {\n",
              "    background-color: #3B4455;\n",
              "    fill: #D2E3FC;\n",
              "  }\n",
              "\n",
              "  [theme=dark] .colab-df-quickchart:hover {\n",
              "    background-color: #434B5C;\n",
              "    box-shadow: 0px 1px 3px 1px rgba(0, 0, 0, 0.15);\n",
              "    filter: drop-shadow(0px 1px 2px rgba(0, 0, 0, 0.3));\n",
              "    fill: #FFFFFF;\n",
              "  }\n",
              "</style>\n",
              "\n",
              "    <script>\n",
              "      async function quickchart(key) {\n",
              "        const containerElement = document.querySelector('#' + key);\n",
              "        const charts = await google.colab.kernel.invokeFunction(\n",
              "            'suggestCharts', [key], {});\n",
              "      }\n",
              "    </script>\n",
              "\n",
              "      <script>\n",
              "\n",
              "function displayQuickchartButton(domScope) {\n",
              "  let quickchartButtonEl =\n",
              "    domScope.querySelector('#df-da9939a0-bc8c-4c78-95bd-f51367da6c0b button.colab-df-quickchart');\n",
              "  quickchartButtonEl.style.display =\n",
              "    google.colab.kernel.accessAllowed ? 'block' : 'none';\n",
              "}\n",
              "\n",
              "        displayQuickchartButton(document);\n",
              "      </script>\n",
              "      <style>\n",
              "    .colab-df-container {\n",
              "      display:flex;\n",
              "      flex-wrap:wrap;\n",
              "      gap: 12px;\n",
              "    }\n",
              "\n",
              "    .colab-df-convert {\n",
              "      background-color: #E8F0FE;\n",
              "      border: none;\n",
              "      border-radius: 50%;\n",
              "      cursor: pointer;\n",
              "      display: none;\n",
              "      fill: #1967D2;\n",
              "      height: 32px;\n",
              "      padding: 0 0 0 0;\n",
              "      width: 32px;\n",
              "    }\n",
              "\n",
              "    .colab-df-convert:hover {\n",
              "      background-color: #E2EBFA;\n",
              "      box-shadow: 0px 1px 2px rgba(60, 64, 67, 0.3), 0px 1px 3px 1px rgba(60, 64, 67, 0.15);\n",
              "      fill: #174EA6;\n",
              "    }\n",
              "\n",
              "    [theme=dark] .colab-df-convert {\n",
              "      background-color: #3B4455;\n",
              "      fill: #D2E3FC;\n",
              "    }\n",
              "\n",
              "    [theme=dark] .colab-df-convert:hover {\n",
              "      background-color: #434B5C;\n",
              "      box-shadow: 0px 1px 3px 1px rgba(0, 0, 0, 0.15);\n",
              "      filter: drop-shadow(0px 1px 2px rgba(0, 0, 0, 0.3));\n",
              "      fill: #FFFFFF;\n",
              "    }\n",
              "  </style>\n",
              "\n",
              "      <script>\n",
              "        const buttonEl =\n",
              "          document.querySelector('#df-4d8f7d55-0a8a-4ceb-94c2-590831e53cbe button.colab-df-convert');\n",
              "        buttonEl.style.display =\n",
              "          google.colab.kernel.accessAllowed ? 'block' : 'none';\n",
              "\n",
              "        async function convertToInteractive(key) {\n",
              "          const element = document.querySelector('#df-4d8f7d55-0a8a-4ceb-94c2-590831e53cbe');\n",
              "          const dataTable =\n",
              "            await google.colab.kernel.invokeFunction('convertToInteractive',\n",
              "                                                     [key], {});\n",
              "          if (!dataTable) return;\n",
              "\n",
              "          const docLinkHtml = 'Like what you see? Visit the ' +\n",
              "            '<a target=\"_blank\" href=https://colab.research.google.com/notebooks/data_table.ipynb>data table notebook</a>'\n",
              "            + ' to learn more about interactive tables.';\n",
              "          element.innerHTML = '';\n",
              "          dataTable['output_type'] = 'display_data';\n",
              "          await google.colab.output.renderOutput(dataTable, element);\n",
              "          const docLink = document.createElement('div');\n",
              "          docLink.innerHTML = docLinkHtml;\n",
              "          element.appendChild(docLink);\n",
              "        }\n",
              "      </script>\n",
              "    </div>\n",
              "  </div>\n"
            ]
          },
          "metadata": {},
          "execution_count": 48
        }
      ]
    },
    {
      "cell_type": "code",
      "source": [
        "# Get the shape geometry\n",
        "region = eec.gdfToFc(mines_exploded)"
      ],
      "metadata": {
        "id": "O61r7-XbIZdg"
      },
      "execution_count": 49,
      "outputs": []
    },
    {
      "cell_type": "code",
      "source": [
        "mines_exploded['Type'] = mines_exploded['geometry'].type"
      ],
      "metadata": {
        "id": "JxAPdEqDTvKf"
      },
      "execution_count": 52,
      "outputs": []
    },
    {
      "cell_type": "code",
      "source": [
        "#filtering to Polygon only\n",
        "mines_Polygon = mines_exploded[mines_exploded.Type == 'Polygon']"
      ],
      "metadata": {
        "id": "zpPzT8OvUjJX"
      },
      "execution_count": 53,
      "outputs": []
    },
    {
      "cell_type": "code",
      "source": [
        "i=0\n",
        "\n",
        "# Initial date of interest (inclusive).\n",
        "i_date = '2021-01-01'\n",
        "# Final date of interest (exclusive).\n",
        "f_date = '2021-01-15'\n",
        "\n",
        "df_contructor = []\n",
        "while i<=len(mines_Polygon):\n",
        "        # Get dynamic world image collection by asset ID\n",
        "        dc = ee.ImageCollection('GOOGLE/DYNAMICWORLD/V1').filterBounds(region).filterDate(i_date, f_date)\n",
        "\n",
        "        # get band names, equal to column names\n",
        "        bandnames = dc.first().bandNames().getInfo()[:-1]\n",
        "\n",
        "        polygon = mines_Polygon['geometry'].values[i]\n",
        "\n",
        "        # Extract the coordinates from the polygon\n",
        "        coordinates = polygon.exterior.coords[:]\n",
        "\n",
        "        # Create an ee.Geometry object from the coordinates\n",
        "        polygon = ee.Geometry.MultiPolygon(coordinates)\n",
        "\n",
        "        # Set the maxError parameter\n",
        "        max_error = 1  # Specify your desired maxError value\n",
        "\n",
        "        # Project the geometry coordinates\n",
        "        projected_polygon = polygon.transform('EPSG:4326', max_error)\n",
        "\n",
        "        #decrease scale to get more rows of data/granularity\n",
        "        ac = dc.getRegion(projected_polygon, scale=100 ).getInfo()\n",
        "        df_constructor =pd.DataFrame(ac)\n",
        "\n",
        "        df_constructor.columns = df_constructor.iloc[0]\n",
        "        df_constructor = df_constructor.tail(-1)\n",
        "        df_constructor['Contact'] = mines_exploded['Contact'].values[i]\n",
        "        df = df.append(df_constructor)\n",
        "\n",
        "        print(mines_exploded['Contact'].values[i])\n",
        "        i+=1"
      ],
      "metadata": {
        "colab": {
          "base_uri": "https://localhost:8080/"
        },
        "id": "mF-5U_Qzmibl",
        "outputId": "597aa8b3-985b-4368-db62-550e4b47a0b1"
      },
      "execution_count": null,
      "outputs": [
        {
          "output_type": "stream",
          "name": "stderr",
          "text": [
            "<ipython-input-54-11806397ca7b>:37: FutureWarning: The frame.append method is deprecated and will be removed from pandas in a future version. Use pandas.concat instead.\n",
            "  df = df.append(df_constructor)\n"
          ]
        },
        {
          "output_type": "stream",
          "name": "stdout",
          "text": [
            "KY Division of Mine Permits\n"
          ]
        },
        {
          "output_type": "stream",
          "name": "stderr",
          "text": [
            "<ipython-input-54-11806397ca7b>:37: FutureWarning: The frame.append method is deprecated and will be removed from pandas in a future version. Use pandas.concat instead.\n",
            "  df = df.append(df_constructor)\n"
          ]
        },
        {
          "output_type": "stream",
          "name": "stdout",
          "text": [
            "KY Division of Mine Permits\n"
          ]
        },
        {
          "output_type": "stream",
          "name": "stderr",
          "text": [
            "<ipython-input-54-11806397ca7b>:37: FutureWarning: The frame.append method is deprecated and will be removed from pandas in a future version. Use pandas.concat instead.\n",
            "  df = df.append(df_constructor)\n"
          ]
        },
        {
          "output_type": "stream",
          "name": "stdout",
          "text": [
            "KY Division of Mine Permits\n"
          ]
        },
        {
          "output_type": "stream",
          "name": "stderr",
          "text": [
            "<ipython-input-54-11806397ca7b>:37: FutureWarning: The frame.append method is deprecated and will be removed from pandas in a future version. Use pandas.concat instead.\n",
            "  df = df.append(df_constructor)\n"
          ]
        },
        {
          "output_type": "stream",
          "name": "stdout",
          "text": [
            "KY Division of Mine Permits\n"
          ]
        },
        {
          "output_type": "stream",
          "name": "stderr",
          "text": [
            "<ipython-input-54-11806397ca7b>:37: FutureWarning: The frame.append method is deprecated and will be removed from pandas in a future version. Use pandas.concat instead.\n",
            "  df = df.append(df_constructor)\n"
          ]
        },
        {
          "output_type": "stream",
          "name": "stdout",
          "text": [
            "KY Division of Mine Permits\n"
          ]
        }
      ]
    },
    {
      "cell_type": "code",
      "source": [
        "mines_Polygon"
      ],
      "metadata": {
        "id": "AsZewSwCUCUb"
      },
      "execution_count": null,
      "outputs": []
    },
    {
      "cell_type": "code",
      "source": [
        "df"
      ],
      "metadata": {
        "id": "Y4rPgrH0RW3n"
      },
      "execution_count": null,
      "outputs": []
    },
    {
      "cell_type": "code",
      "source": [
        "#https://stackoverflow.com/questions/55659835/trying-to-separate-polygon-data-into-x-and-y-coordinates-but-get-error-multip\n",
        "\n",
        "import geopandas as gpd\n",
        "from shapely.geometry import Polygon, LineString, MultiLineString\n",
        "\n",
        "def getPolyCoords(row, geom, coord_type):\n",
        "    \"\"\"\n",
        "    Returns the coordinates ('x|y') of edges/vertices of a Polygon/others\n",
        "    Args:\n",
        "    - row: the row object from a geodataframe; i.e.   df.loc[1]\n",
        "    - geom: the name of \"geometry\" column, usually \"geometry\"\n",
        "    - coord_type: 'x', or 'y'\n",
        "    ...\n",
        "    Valid geometrie types 'Polygon', 'Point', 'LineString', 'MultiLineString', 'MultiPolygon'\n",
        "    \"\"\"\n",
        "\n",
        "    # Parse the geometries and grab the coordinate\n",
        "    geometry = row[geom]\n",
        "    #print(geometry.type)\n",
        "\n",
        "    if geometry.type=='Polygon':\n",
        "        if coord_type == 'x':\n",
        "            # Get the x coordinates of the exterior\n",
        "            # Interior is more complex: xxx.interiors[0].coords.xy[0]\n",
        "            return list( geometry.exterior.coords.xy[0] )\n",
        "        elif coord_type == 'y':\n",
        "            # Get the y coordinates of the exterior\n",
        "            return list( geometry.exterior.coords.xy[1] )\n",
        "\n",
        "    if geometry.type in ['Point', 'LineString']:\n",
        "        if coord_type == 'x':\n",
        "            return list( geometry.xy[0] )\n",
        "        elif coord_type == 'y':\n",
        "            return list( geometry.xy[1] )\n",
        "\n",
        "    if geometry.type=='MultiLineString':\n",
        "        all_xy = []\n",
        "        # updated code, using .geoms\n",
        "        for ea in geometry.geoms:\n",
        "         all_xy = []"
      ],
      "metadata": {
        "id": "ofbuQN06C5OK"
      },
      "execution_count": null,
      "outputs": []
    },
    {
      "cell_type": "code",
      "source": [
        "from functools import singledispatch\n",
        "from itertools import chain\n",
        "from typing import (List,\n",
        "                    Tuple,\n",
        "                    TypeVar)\n",
        "\n",
        "from shapely.geometry import (GeometryCollection,\n",
        "                              LinearRing,\n",
        "                              LineString,\n",
        "                              Point,\n",
        "                              Polygon)\n",
        "from shapely.geometry.base import (BaseGeometry,\n",
        "                                   BaseMultipartGeometry)\n",
        "\n",
        "Geometry = TypeVar('Geometry', bound=BaseGeometry)\n",
        "\n",
        "\n",
        "@singledispatch\n",
        "def to_coords(geometry: Geometry) -> List[Tuple[float, float]]:\n",
        "    \"\"\"Returns a list of unique vertices of a given geometry object.\"\"\"\n",
        "    raise NotImplementedError(f\"Unsupported Geometry {type(geometry)}\")\n",
        "\n",
        "\n",
        "@to_coords.register\n",
        "def _(geometry: Point):\n",
        "    return [(geometry.x, geometry.y)]\n",
        "\n",
        "\n",
        "@to_coords.register\n",
        "def _(geometry: LineString):\n",
        "    return list(geometry.coords)\n",
        "\n",
        "\n",
        "@to_coords.register\n",
        "def _(geometry: LinearRing):\n",
        "    return list(geometry.coords[:-1])\n",
        "\n",
        "\n",
        "@to_coords.register\n",
        "def _(geometry: BaseMultipartGeometry):\n",
        "    return list(set(chain.from_iterable(map(to_coords, geometry))))\n",
        "\n",
        "\n",
        "@to_coords.register\n",
        "def _(geometry: Polygon):\n",
        "    return to_coords(GeometryCollection([geometry.exterior, *geometry.interiors]))"
      ],
      "metadata": {
        "id": "t5r14R0YFq-J"
      },
      "execution_count": null,
      "outputs": []
    },
    {
      "cell_type": "code",
      "source": [
        "import shapely as sh\n",
        "\n",
        "def get_coords_from_polygon(shape):\n",
        "    coords = set()\n",
        "\n",
        "    if isinstance(shape, sh.geometry.Polygon):\n",
        "        coords.update(shape.exterior.coords[:-1])\n",
        "        for linearring in shape.interiors:\n",
        "            coords.update(linearring.coords[:-1])\n",
        "    elif isinstance(shape, sh.geometry.MultiPolygon):\n",
        "        for polygon in shape:\n",
        "            coords.update(get_coords_from_polygon(polygon))\n",
        "\n",
        "    return coords"
      ],
      "metadata": {
        "id": "_46x06nKGXvE"
      },
      "execution_count": 17,
      "outputs": []
    },
    {
      "cell_type": "code",
      "source": [
        "# prompt: get coordinates fro mines_exploded['geometry'].values[i] where it is multipolygon\n",
        "\n",
        "def get_coords_from_polygon(shape):\n",
        "    coords = set()\n",
        "\n",
        "    if isinstance(shape, sh.geometry.Polygon):\n",
        "        coords.update(shape.exterior.coords[:-1])\n",
        "        for linearring in shape.interiors:\n",
        "            coords.update(linearring.coords[:-1])\n",
        "    elif isinstance(shape, sh.geometry.MultiPolygon):\n",
        "        for polygon in shape:\n",
        "            coords.update(get_coords_from_polygon(polygon))\n",
        "\n",
        "    return coords\n",
        "\n",
        "mines_geometry = mines_exploded['geometry'].values[i]\n",
        "coords = get_coords_from_polygon(mines_geometry)\n"
      ],
      "metadata": {
        "id": "aCUG9bfNLFZk"
      },
      "execution_count": 18,
      "outputs": []
    },
    {
      "cell_type": "code",
      "source": [
        "coordinates"
      ],
      "metadata": {
        "id": "gZuVFGOxNksI"
      },
      "execution_count": null,
      "outputs": []
    },
    {
      "cell_type": "code",
      "source": [
        "df"
      ],
      "metadata": {
        "id": "f0UKwDpNjeN5"
      },
      "execution_count": null,
      "outputs": []
    },
    {
      "cell_type": "code",
      "source": [
        "from google.colab import files\n",
        "df.to_csv('Kentucky_mines.csv', encoding = 'utf-8-sig')\n",
        "files.download('Kentucky_mines.csv')"
      ],
      "metadata": {
        "id": "iNDiMqbuGQjv"
      },
      "execution_count": null,
      "outputs": []
    }
  ],
  "metadata": {
    "colab": {
      "provenance": [],
      "machine_shape": "hm",
      "include_colab_link": true
    },
    "kernelspec": {
      "display_name": "Python 3",
      "name": "python3"
    }
  },
  "nbformat": 4,
  "nbformat_minor": 0
}
