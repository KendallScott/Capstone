{
  "cells": [
    {
      "cell_type": "markdown",
      "metadata": {
        "id": "view-in-github",
        "colab_type": "text"
      },
      "source": [
        "<a href=\"https://colab.research.google.com/github/taddbackus/capstone/blob/main/Working%20RNN/Data_Cleanup.ipynb\" target=\"_parent\"><img src=\"https://colab.research.google.com/assets/colab-badge.svg\" alt=\"Open In Colab\"/></a>"
      ]
    },
    {
      "cell_type": "code",
      "execution_count": 2,
      "id": "383d7425",
      "metadata": {
        "id": "383d7425",
        "colab": {
          "base_uri": "https://localhost:8080/"
        },
        "outputId": "56c95488-8c10-4602-c12d-26016e875fd6"
      },
      "outputs": [
        {
          "output_type": "stream",
          "name": "stdout",
          "text": [
            "Mounted at /content/drive\n"
          ]
        }
      ],
      "source": [
        "import os\n",
        "import numpy as np\n",
        "import pandas as pd\n",
        "\n",
        "# Geospatial processing packages\n",
        "import geopandas as gpd\n",
        "\n",
        "from google.colab import drive\n",
        "drive.mount('/content/drive', force_remount=True)"
      ]
    },
    {
      "cell_type": "markdown",
      "source": [
        "### Loading dataframe on current active/and closed coal mines"
      ],
      "metadata": {
        "id": "qRMwXOYY459O"
      },
      "id": "qRMwXOYY459O"
    },
    {
      "cell_type": "code",
      "source": [
        "#join in overall info\n",
        "# Read the GeoJSON file\n",
        "mines = gpd.read_file('/content/drive/MyDrive/OSMRE_GEOMINE_GEOJSON.geojson')\n",
        "mines = pd.DataFrame(mines)\n",
        "mines = mines[['company',\n",
        "               'coalmine_op_status',\n",
        "               'mine_name',\n",
        "               'permit_id',\n",
        "               'national_id',\n",
        "               'coal_bed_names',\n",
        "               'inspectable_unit_status',\n",
        "                'post_smcra',\n",
        "               'reported_area',\n",
        "               'permit_application_type',\n",
        "               'permit_application_date',\n",
        "               'permit_approval_date',\n",
        "               'edit_date',\n",
        "               'area_mine',\n",
        "               'contour',\n",
        "               'mountaintop',\n",
        "               'steep_slope',\n",
        "               'highwall',\n",
        "               'auger',\n",
        "               'contact']].drop_duplicates()\n",
        "\n",
        "#replace empty strings with NAN\n",
        "mines = mines.replace(r'^\\s*$', np.nan, regex=True)\n"
      ],
      "metadata": {
        "id": "hWcBnXuNnHsf"
      },
      "id": "hWcBnXuNnHsf",
      "execution_count": 13,
      "outputs": []
    },
    {
      "cell_type": "code",
      "source": [
        "### Appending the number of unique companies per permit_id to dataframe\n",
        "Company_check = mines[['permit_id', 'company']].groupby(['permit_id']).nunique().sort_values('company', ascending=False)\n",
        "Company_check = Company_check.rename(columns={\"company\": \"Number_company_to_permit_id\"})\n",
        "Company_check[Company_check['Number_company_to_permit_id']>1]\n",
        "mines = pd.merge(mines, Company_check,  how='left', left_on=['permit_id'], right_on = ['permit_id'])\n",
        "\n",
        "### Adding in State column to mines df\n",
        "mines['State'] = mines['national_id'].str.slice(0, 2)\n",
        "mines['State'].unique()\n",
        "mines = mines[mines['State']. isin(['KY', 'TN', 'WV'])]\n",
        "mines['State'] = mines['State'].str.lower()"
      ],
      "metadata": {
        "id": "quruAVZVvh89"
      },
      "id": "quruAVZVvh89",
      "execution_count": 14,
      "outputs": []
    },
    {
      "cell_type": "code",
      "source": [
        "mines['edit_month'] = mines['edit_date'].astype(str).str.slice(5, 7)\n",
        "mines['edit_year'] = mines['edit_date'].astype(str).str.slice(0,4)\n",
        "mines = mines.drop(columns='edit_date')\n",
        "mines['permit_weekday'] = mines['permit_approval_date'].dt.day_name()\n",
        "mines['permit_approval_month'] = mines['permit_approval_date'].astype(str).str.slice(5, 7)\n",
        "mines['permit_approval_year'] = mines['permit_approval_date'].astype(str).str.slice(0,4)\n",
        "mines = mines.drop(columns='permit_approval_date')\n",
        "mines['permit_application_year'] =  mines['permit_application_date'].astype(str).str.slice(0,4)\n",
        "mines = mines.drop(columns='permit_application_date')"
      ],
      "metadata": {
        "id": "otZH1dh7VJzq"
      },
      "id": "otZH1dh7VJzq",
      "execution_count": 15,
      "outputs": []
    },
    {
      "cell_type": "code",
      "source": [
        "mines.columns"
      ],
      "metadata": {
        "colab": {
          "base_uri": "https://localhost:8080/"
        },
        "id": "IiA_v_mGfTEC",
        "outputId": "185d6fd9-37e5-4aab-a654-ab91c36d1e0b"
      },
      "id": "IiA_v_mGfTEC",
      "execution_count": 6,
      "outputs": [
        {
          "output_type": "execute_result",
          "data": {
            "text/plain": [
              "Index(['company', 'coalmine_op_status', 'mine_name', 'permit_id',\n",
              "       'national_id', 'coal_bed_names', 'inspectable_unit_status',\n",
              "       'post_smcra', 'reported_area', 'permit_application_type', 'area_mine',\n",
              "       'contour', 'mountaintop', 'steep_slope', 'highwall', 'auger', 'contact',\n",
              "       'Number_company_to_permit_id', 'State', 'edit_month', 'edit_year',\n",
              "       'permit_weekday', 'permit_approval_month', 'permit_approval_year',\n",
              "       'permit_application_year'],\n",
              "      dtype='object')"
            ]
          },
          "metadata": {},
          "execution_count": 6
        }
      ]
    },
    {
      "cell_type": "code",
      "source": [
        "#mines = pd.get_dummies(mines, columns=['mountaintop'])\n",
        "#mines = pd.get_dummies(mines, columns=['area_mine'])\n",
        "#mines = pd.get_dummies(mines, columns=['highwall'])\n",
        "#mines = pd.get_dummies(mines, columns=['steep_slope'])\n",
        "#mines = pd.get_dummies(mines, columns=['coalmine_op_status'])\n"
      ],
      "metadata": {
        "id": "xaLE4oF2fayr"
      },
      "id": "xaLE4oF2fayr",
      "execution_count": 7,
      "outputs": []
    },
    {
      "cell_type": "markdown",
      "source": [
        "### Loading dataframes from google earth engine queries"
      ],
      "metadata": {
        "id": "nVmlhwZM5AiS"
      },
      "id": "nVmlhwZM5AiS"
    },
    {
      "cell_type": "code",
      "source": [
        "directory_path = '/content/drive/MyDrive/Mines_Data/'\n",
        "directory_files = os.listdir(directory_path)\n",
        "\n",
        "df = pd.DataFrame()\n",
        "z=0\n",
        "for i in directory_files:\n",
        "    df_file = pd.read_csv(os.path.join(directory_path, i), encoding = 'ISO-8859-1',low_memory=False)\n",
        "    df_file['year'] = directory_files[z]\n",
        "    df_file['year'] = df_file['year'].str.slice(3, 7)\n",
        "    df_file['end_date'] = df_file['year']+'-07-31'\n",
        "    df_file['start_date'] = df_file['year']+'-07-01'\n",
        "    df_file['start_date'] = pd.to_datetime(df_file['start_date'])\n",
        "    df_file['end_date'] = pd.to_datetime(df_file['end_date'])\n",
        "\n",
        "    df_file['State'] = directory_files[z]\n",
        "    df_file['State'] = df_file['State'].str.slice(0, 2)\n",
        "\n",
        "    df = pd.concat([df, df_file])\n",
        "\n",
        "    z+=1\n"
      ],
      "metadata": {
        "id": "_F3AzfK6nLfi"
      },
      "id": "_F3AzfK6nLfi",
      "execution_count": 3,
      "outputs": []
    },
    {
      "cell_type": "markdown",
      "source": [
        "### aggregating to averages of land class(the probability) classes"
      ],
      "metadata": {
        "id": "NL1BtDdT5F20"
      },
      "id": "NL1BtDdT5F20"
    },
    {
      "cell_type": "code",
      "source": [
        "df[['orig_perm_id', 'start_date', 'mine_id', 'Company', 'State']].groupby([ 'State']).count().reset_index()\n"
      ],
      "metadata": {
        "colab": {
          "base_uri": "https://localhost:8080/",
          "height": 143
        },
        "id": "KHILmBBb58VM",
        "outputId": "e12b84ac-3af0-4612-fc19-28091083d876"
      },
      "id": "KHILmBBb58VM",
      "execution_count": 4,
      "outputs": [
        {
          "output_type": "execute_result",
          "data": {
            "text/plain": [
              "  State  orig_perm_id  start_date  mine_id  Company\n",
              "0    ky       1269188     1269188  1269188  1269188\n",
              "1    tn         14618       14618    14618    14618\n",
              "2    wv         75001       75001    75001    75001"
            ],
            "text/html": [
              "\n",
              "  <div id=\"df-972d7781-fbf8-4f00-8451-9a705541bbd7\" class=\"colab-df-container\">\n",
              "    <div>\n",
              "<style scoped>\n",
              "    .dataframe tbody tr th:only-of-type {\n",
              "        vertical-align: middle;\n",
              "    }\n",
              "\n",
              "    .dataframe tbody tr th {\n",
              "        vertical-align: top;\n",
              "    }\n",
              "\n",
              "    .dataframe thead th {\n",
              "        text-align: right;\n",
              "    }\n",
              "</style>\n",
              "<table border=\"1\" class=\"dataframe\">\n",
              "  <thead>\n",
              "    <tr style=\"text-align: right;\">\n",
              "      <th></th>\n",
              "      <th>State</th>\n",
              "      <th>orig_perm_id</th>\n",
              "      <th>start_date</th>\n",
              "      <th>mine_id</th>\n",
              "      <th>Company</th>\n",
              "    </tr>\n",
              "  </thead>\n",
              "  <tbody>\n",
              "    <tr>\n",
              "      <th>0</th>\n",
              "      <td>ky</td>\n",
              "      <td>1269188</td>\n",
              "      <td>1269188</td>\n",
              "      <td>1269188</td>\n",
              "      <td>1269188</td>\n",
              "    </tr>\n",
              "    <tr>\n",
              "      <th>1</th>\n",
              "      <td>tn</td>\n",
              "      <td>14618</td>\n",
              "      <td>14618</td>\n",
              "      <td>14618</td>\n",
              "      <td>14618</td>\n",
              "    </tr>\n",
              "    <tr>\n",
              "      <th>2</th>\n",
              "      <td>wv</td>\n",
              "      <td>75001</td>\n",
              "      <td>75001</td>\n",
              "      <td>75001</td>\n",
              "      <td>75001</td>\n",
              "    </tr>\n",
              "  </tbody>\n",
              "</table>\n",
              "</div>\n",
              "    <div class=\"colab-df-buttons\">\n",
              "\n",
              "  <div class=\"colab-df-container\">\n",
              "    <button class=\"colab-df-convert\" onclick=\"convertToInteractive('df-972d7781-fbf8-4f00-8451-9a705541bbd7')\"\n",
              "            title=\"Convert this dataframe to an interactive table.\"\n",
              "            style=\"display:none;\">\n",
              "\n",
              "  <svg xmlns=\"http://www.w3.org/2000/svg\" height=\"24px\" viewBox=\"0 -960 960 960\">\n",
              "    <path d=\"M120-120v-720h720v720H120Zm60-500h600v-160H180v160Zm220 220h160v-160H400v160Zm0 220h160v-160H400v160ZM180-400h160v-160H180v160Zm440 0h160v-160H620v160ZM180-180h160v-160H180v160Zm440 0h160v-160H620v160Z\"/>\n",
              "  </svg>\n",
              "    </button>\n",
              "\n",
              "  <style>\n",
              "    .colab-df-container {\n",
              "      display:flex;\n",
              "      gap: 12px;\n",
              "    }\n",
              "\n",
              "    .colab-df-convert {\n",
              "      background-color: #E8F0FE;\n",
              "      border: none;\n",
              "      border-radius: 50%;\n",
              "      cursor: pointer;\n",
              "      display: none;\n",
              "      fill: #1967D2;\n",
              "      height: 32px;\n",
              "      padding: 0 0 0 0;\n",
              "      width: 32px;\n",
              "    }\n",
              "\n",
              "    .colab-df-convert:hover {\n",
              "      background-color: #E2EBFA;\n",
              "      box-shadow: 0px 1px 2px rgba(60, 64, 67, 0.3), 0px 1px 3px 1px rgba(60, 64, 67, 0.15);\n",
              "      fill: #174EA6;\n",
              "    }\n",
              "\n",
              "    .colab-df-buttons div {\n",
              "      margin-bottom: 4px;\n",
              "    }\n",
              "\n",
              "    [theme=dark] .colab-df-convert {\n",
              "      background-color: #3B4455;\n",
              "      fill: #D2E3FC;\n",
              "    }\n",
              "\n",
              "    [theme=dark] .colab-df-convert:hover {\n",
              "      background-color: #434B5C;\n",
              "      box-shadow: 0px 1px 3px 1px rgba(0, 0, 0, 0.15);\n",
              "      filter: drop-shadow(0px 1px 2px rgba(0, 0, 0, 0.3));\n",
              "      fill: #FFFFFF;\n",
              "    }\n",
              "  </style>\n",
              "\n",
              "    <script>\n",
              "      const buttonEl =\n",
              "        document.querySelector('#df-972d7781-fbf8-4f00-8451-9a705541bbd7 button.colab-df-convert');\n",
              "      buttonEl.style.display =\n",
              "        google.colab.kernel.accessAllowed ? 'block' : 'none';\n",
              "\n",
              "      async function convertToInteractive(key) {\n",
              "        const element = document.querySelector('#df-972d7781-fbf8-4f00-8451-9a705541bbd7');\n",
              "        const dataTable =\n",
              "          await google.colab.kernel.invokeFunction('convertToInteractive',\n",
              "                                                    [key], {});\n",
              "        if (!dataTable) return;\n",
              "\n",
              "        const docLinkHtml = 'Like what you see? Visit the ' +\n",
              "          '<a target=\"_blank\" href=https://colab.research.google.com/notebooks/data_table.ipynb>data table notebook</a>'\n",
              "          + ' to learn more about interactive tables.';\n",
              "        element.innerHTML = '';\n",
              "        dataTable['output_type'] = 'display_data';\n",
              "        await google.colab.output.renderOutput(dataTable, element);\n",
              "        const docLink = document.createElement('div');\n",
              "        docLink.innerHTML = docLinkHtml;\n",
              "        element.appendChild(docLink);\n",
              "      }\n",
              "    </script>\n",
              "  </div>\n",
              "\n",
              "\n",
              "<div id=\"df-3e5f08de-c44b-47b2-8980-07295b9f8658\">\n",
              "  <button class=\"colab-df-quickchart\" onclick=\"quickchart('df-3e5f08de-c44b-47b2-8980-07295b9f8658')\"\n",
              "            title=\"Suggest charts.\"\n",
              "            style=\"display:none;\">\n",
              "\n",
              "<svg xmlns=\"http://www.w3.org/2000/svg\" height=\"24px\"viewBox=\"0 0 24 24\"\n",
              "     width=\"24px\">\n",
              "    <g>\n",
              "        <path d=\"M19 3H5c-1.1 0-2 .9-2 2v14c0 1.1.9 2 2 2h14c1.1 0 2-.9 2-2V5c0-1.1-.9-2-2-2zM9 17H7v-7h2v7zm4 0h-2V7h2v10zm4 0h-2v-4h2v4z\"/>\n",
              "    </g>\n",
              "</svg>\n",
              "  </button>\n",
              "\n",
              "<style>\n",
              "  .colab-df-quickchart {\n",
              "      --bg-color: #E8F0FE;\n",
              "      --fill-color: #1967D2;\n",
              "      --hover-bg-color: #E2EBFA;\n",
              "      --hover-fill-color: #174EA6;\n",
              "      --disabled-fill-color: #AAA;\n",
              "      --disabled-bg-color: #DDD;\n",
              "  }\n",
              "\n",
              "  [theme=dark] .colab-df-quickchart {\n",
              "      --bg-color: #3B4455;\n",
              "      --fill-color: #D2E3FC;\n",
              "      --hover-bg-color: #434B5C;\n",
              "      --hover-fill-color: #FFFFFF;\n",
              "      --disabled-bg-color: #3B4455;\n",
              "      --disabled-fill-color: #666;\n",
              "  }\n",
              "\n",
              "  .colab-df-quickchart {\n",
              "    background-color: var(--bg-color);\n",
              "    border: none;\n",
              "    border-radius: 50%;\n",
              "    cursor: pointer;\n",
              "    display: none;\n",
              "    fill: var(--fill-color);\n",
              "    height: 32px;\n",
              "    padding: 0;\n",
              "    width: 32px;\n",
              "  }\n",
              "\n",
              "  .colab-df-quickchart:hover {\n",
              "    background-color: var(--hover-bg-color);\n",
              "    box-shadow: 0 1px 2px rgba(60, 64, 67, 0.3), 0 1px 3px 1px rgba(60, 64, 67, 0.15);\n",
              "    fill: var(--button-hover-fill-color);\n",
              "  }\n",
              "\n",
              "  .colab-df-quickchart-complete:disabled,\n",
              "  .colab-df-quickchart-complete:disabled:hover {\n",
              "    background-color: var(--disabled-bg-color);\n",
              "    fill: var(--disabled-fill-color);\n",
              "    box-shadow: none;\n",
              "  }\n",
              "\n",
              "  .colab-df-spinner {\n",
              "    border: 2px solid var(--fill-color);\n",
              "    border-color: transparent;\n",
              "    border-bottom-color: var(--fill-color);\n",
              "    animation:\n",
              "      spin 1s steps(1) infinite;\n",
              "  }\n",
              "\n",
              "  @keyframes spin {\n",
              "    0% {\n",
              "      border-color: transparent;\n",
              "      border-bottom-color: var(--fill-color);\n",
              "      border-left-color: var(--fill-color);\n",
              "    }\n",
              "    20% {\n",
              "      border-color: transparent;\n",
              "      border-left-color: var(--fill-color);\n",
              "      border-top-color: var(--fill-color);\n",
              "    }\n",
              "    30% {\n",
              "      border-color: transparent;\n",
              "      border-left-color: var(--fill-color);\n",
              "      border-top-color: var(--fill-color);\n",
              "      border-right-color: var(--fill-color);\n",
              "    }\n",
              "    40% {\n",
              "      border-color: transparent;\n",
              "      border-right-color: var(--fill-color);\n",
              "      border-top-color: var(--fill-color);\n",
              "    }\n",
              "    60% {\n",
              "      border-color: transparent;\n",
              "      border-right-color: var(--fill-color);\n",
              "    }\n",
              "    80% {\n",
              "      border-color: transparent;\n",
              "      border-right-color: var(--fill-color);\n",
              "      border-bottom-color: var(--fill-color);\n",
              "    }\n",
              "    90% {\n",
              "      border-color: transparent;\n",
              "      border-bottom-color: var(--fill-color);\n",
              "    }\n",
              "  }\n",
              "</style>\n",
              "\n",
              "  <script>\n",
              "    async function quickchart(key) {\n",
              "      const quickchartButtonEl =\n",
              "        document.querySelector('#' + key + ' button');\n",
              "      quickchartButtonEl.disabled = true;  // To prevent multiple clicks.\n",
              "      quickchartButtonEl.classList.add('colab-df-spinner');\n",
              "      try {\n",
              "        const charts = await google.colab.kernel.invokeFunction(\n",
              "            'suggestCharts', [key], {});\n",
              "      } catch (error) {\n",
              "        console.error('Error during call to suggestCharts:', error);\n",
              "      }\n",
              "      quickchartButtonEl.classList.remove('colab-df-spinner');\n",
              "      quickchartButtonEl.classList.add('colab-df-quickchart-complete');\n",
              "    }\n",
              "    (() => {\n",
              "      let quickchartButtonEl =\n",
              "        document.querySelector('#df-3e5f08de-c44b-47b2-8980-07295b9f8658 button');\n",
              "      quickchartButtonEl.style.display =\n",
              "        google.colab.kernel.accessAllowed ? 'block' : 'none';\n",
              "    })();\n",
              "  </script>\n",
              "</div>\n",
              "\n",
              "    </div>\n",
              "  </div>\n"
            ]
          },
          "metadata": {},
          "execution_count": 4
        }
      ]
    },
    {
      "cell_type": "code",
      "source": [
        "#mapping demo in python https://colab.research.google.com/github/QuantEcon/quantecon-notebooks-datascience/blob/master/applications/maps.ipynb#scrollTo=SI5i7rboSGFL&uniqifier=2\n",
        "# Read the downloaded file\n",
        "#419bdf\twater, #397d49\ttrees, #88b053\tgrass, #7a87c6\tflooded_vegetation, #e49635\tcrops, #dfc35a\tshrub_and_scrub, #c4281b\tbuilt, #a59b8f\tbare, #b39fe1\tsnow_and_ice\n",
        "\n",
        "label0 = df[['orig_perm_id', 'Company','mine_id','water', 'start_date', 'State']].groupby(['orig_perm_id', 'State','mine_id', 'start_date','Company']).mean().reset_index()\n",
        "label1 = df[['orig_perm_id', 'Company','mine_id', 'trees', 'start_date', 'State']].groupby(['orig_perm_id', 'State','mine_id','start_date', 'Company']).mean().reset_index()\n",
        "label2 = df[['orig_perm_id', 'Company','mine_id', 'grass', 'start_date', 'State']].groupby(['orig_perm_id', 'State','mine_id','start_date', 'Company']).mean().reset_index()\n",
        "label3 = df[['orig_perm_id', 'Company','mine_id','flooded_vegetation', 'start_date', 'State']].groupby(['orig_perm_id', 'State','mine_id', 'start_date', 'Company']).mean().reset_index()\n",
        "label4 = df[['orig_perm_id', 'Company','mine_id', 'crops', 'start_date', 'State']].groupby(['orig_perm_id', 'State', 'start_date','mine_id', 'Company']).mean().reset_index().drop_duplicates()\n",
        "label5 = df[['orig_perm_id', 'Company','mine_id', 'shrub_and_scrub', 'start_date', 'State']].groupby(['orig_perm_id', 'State', 'start_date', 'mine_id','Company']).mean().reset_index()\n",
        "label6 = df[['orig_perm_id', 'Company','mine_id', 'built', 'start_date', 'State']].groupby(['orig_perm_id', 'State', 'start_date','mine_id', 'Company']).mean().reset_index()\n",
        "label7 = df[['orig_perm_id', 'Company','mine_id', 'bare', 'start_date', 'State']].groupby(['orig_perm_id', 'State', 'start_date','mine_id', 'Company']).mean().reset_index()\n",
        "label8 = df[['orig_perm_id', 'Company','mine_id', 'snow_and_ice', 'start_date', 'State']].groupby(['orig_perm_id', 'State','start_date','mine_id', 'Company']).mean().reset_index()\n",
        "\n",
        "label0 =label0.drop_duplicates()\n",
        "label1 =label1.drop_duplicates()\n",
        "label2 =label2.drop_duplicates()\n",
        "label3 =label3.drop_duplicates()\n",
        "label4 =label4.drop_duplicates()\n",
        "label5 =label5.drop_duplicates()\n",
        "label6 =label6.drop_duplicates()\n",
        "label7 =label7.drop_duplicates()\n",
        "label8 =label8.drop_duplicates()\n",
        "\n",
        "group_df = df[['orig_perm_id', 'start_date', 'mine_id', 'Company', 'State']].groupby(['orig_perm_id', 'start_date', 'mine_id', 'State']).count().reset_index()\n",
        "group_df = group_df.drop_duplicates()\n",
        "group_df = group_df.rename(columns={\"Company\": \"Observations\"})\n",
        "df = pd.merge(df, group_df, on=['orig_perm_id', 'start_date', 'mine_id', 'State'], how='left').drop_duplicates()\n",
        "\n",
        "df = df[['Company', 'start_date', 'Observations', 'orig_perm_id', 'mine_id', 'State']].drop_duplicates()\n",
        "df = df.reset_index()\n",
        "df = df.drop(['index'], axis=1)\n",
        "\n",
        "### joining aggregated values back into main dataframe\n",
        "df = pd.merge(df, label0, on=['orig_perm_id', 'start_date', 'Company', 'State', 'mine_id'], how='left').drop_duplicates()\n",
        "df = pd.merge(df, label1, on=['orig_perm_id', 'start_date', 'Company', 'State', 'mine_id'], how='left').drop_duplicates()\n",
        "df = pd.merge(df, label2, on=['orig_perm_id', 'start_date', 'Company', 'State', 'mine_id'], how='left').drop_duplicates()\n",
        "df = pd.merge(df, label3, on=['orig_perm_id', 'start_date', 'Company', 'State', 'mine_id'], how='left').drop_duplicates()\n",
        "df = pd.merge(df, label4, on=['orig_perm_id', 'start_date', 'Company', 'State', 'mine_id'], how='left').drop_duplicates()\n",
        "df = pd.merge(df, label5, on=['orig_perm_id', 'start_date', 'Company', 'State', 'mine_id'], how='left').drop_duplicates()\n",
        "df = pd.merge(df, label6, on=['orig_perm_id', 'start_date', 'Company', 'State', 'mine_id'], how='left').drop_duplicates()\n",
        "df = pd.merge(df, label7, on=['orig_perm_id', 'start_date', 'Company', 'State', 'mine_id'], how='left').drop_duplicates()\n",
        "df = pd.merge(df, label8, on=['orig_perm_id', 'start_date', 'Company', 'State', 'mine_id'], how='left').drop_duplicates()\n",
        "\n",
        "df.fillna(0, inplace=True)\n",
        "df"
      ],
      "metadata": {
        "id": "CzjrKCNwne7C",
        "colab": {
          "base_uri": "https://localhost:8080/",
          "height": 704
        },
        "outputId": "4c6b56a2-d3e1-4f8d-fab3-ba1f24a61be0"
      },
      "id": "CzjrKCNwne7C",
      "execution_count": 5,
      "outputs": [
        {
          "output_type": "execute_result",
          "data": {
            "text/plain": [
              "                           Company start_date  Observations orig_perm_id  \\\n",
              "0                 B & C ENERGY INC 2023-07-01            45      8640180   \n",
              "1               RIDNER COAL CO INC 2023-07-01             4      9180010   \n",
              "2                    HERBERT WELLS 2023-07-01             2      0320080   \n",
              "3        MOUNT VICTORY COAL CO INC 2023-07-01            16      404774X   \n",
              "4             EVERGREEN MINING INC 2023-07-01            30      8260501   \n",
              "...                            ...        ...           ...          ...   \n",
              "32655           LO-MING COAL CORP. 2017-07-01             1      U502397   \n",
              "32656       APPALACHIAN FUELS, LLC 2017-07-01            67      S304188   \n",
              "32657  CHICOPEE COAL COMPANY, INC. 2017-07-01            10      S007385   \n",
              "32658           BELVA COAL COMPANY 2017-07-01            10      S009482   \n",
              "32659  CHICOPEE COAL COMPANY, INC. 2017-07-01             3      S303686   \n",
              "\n",
              "                    mine_id State     water     trees     grass  \\\n",
              "0      00000000000000001112    ky  0.031113  0.623011  0.059563   \n",
              "1      00000000000000001d20    ky  0.031869  0.698788  0.039705   \n",
              "2      000000000000000020c7    ky  0.032205  0.539393  0.055222   \n",
              "3      00000000000000003095    ky  0.033029  0.735718  0.038324   \n",
              "4      0000000000000000086a    ky  0.030702  0.743186  0.033933   \n",
              "...                     ...   ...       ...       ...       ...   \n",
              "32655  0000000000000000085a    wv  0.031039  0.587889  0.039089   \n",
              "32656  0000000000000000057b    wv  0.030835  0.739765  0.032717   \n",
              "32657  000000000000000007d5    wv  0.027965  0.710045  0.042984   \n",
              "32658  00000000000000000869    wv  0.036899  0.544176  0.040389   \n",
              "32659  00000000000000000958    wv  0.025448  0.760813  0.032092   \n",
              "\n",
              "       flooded_vegetation     crops  shrub_and_scrub     built      bare  \\\n",
              "0                0.032779  0.065345         0.062902  0.035015  0.032943   \n",
              "1                0.029274  0.039489         0.036189  0.033532  0.034271   \n",
              "2                0.030944  0.088415         0.041989  0.070858  0.030897   \n",
              "3                0.029872  0.033263         0.031299  0.029638  0.032630   \n",
              "4                0.027343  0.029957         0.035815  0.029723  0.036228   \n",
              "...                   ...       ...              ...       ...       ...   \n",
              "32655            0.025979  0.048085         0.042070  0.107876  0.037235   \n",
              "32656            0.027254  0.030536         0.037661  0.031239  0.037154   \n",
              "32657            0.025502  0.038912         0.048706  0.032311  0.033129   \n",
              "32658            0.030385  0.046551         0.055853  0.064093  0.120093   \n",
              "32659            0.023083  0.034072         0.031753  0.028695  0.031402   \n",
              "\n",
              "       snow_and_ice  \n",
              "0          0.036427  \n",
              "1          0.043253  \n",
              "2          0.037347  \n",
              "3          0.035219  \n",
              "4          0.032969  \n",
              "...             ...  \n",
              "32655      0.042496  \n",
              "32656      0.032554  \n",
              "32657      0.031919  \n",
              "32658      0.039626  \n",
              "32659      0.031918  \n",
              "\n",
              "[32660 rows x 15 columns]"
            ],
            "text/html": [
              "\n",
              "  <div id=\"df-4c802786-444d-4e8a-91e8-816a2f7336a1\" class=\"colab-df-container\">\n",
              "    <div>\n",
              "<style scoped>\n",
              "    .dataframe tbody tr th:only-of-type {\n",
              "        vertical-align: middle;\n",
              "    }\n",
              "\n",
              "    .dataframe tbody tr th {\n",
              "        vertical-align: top;\n",
              "    }\n",
              "\n",
              "    .dataframe thead th {\n",
              "        text-align: right;\n",
              "    }\n",
              "</style>\n",
              "<table border=\"1\" class=\"dataframe\">\n",
              "  <thead>\n",
              "    <tr style=\"text-align: right;\">\n",
              "      <th></th>\n",
              "      <th>Company</th>\n",
              "      <th>start_date</th>\n",
              "      <th>Observations</th>\n",
              "      <th>orig_perm_id</th>\n",
              "      <th>mine_id</th>\n",
              "      <th>State</th>\n",
              "      <th>water</th>\n",
              "      <th>trees</th>\n",
              "      <th>grass</th>\n",
              "      <th>flooded_vegetation</th>\n",
              "      <th>crops</th>\n",
              "      <th>shrub_and_scrub</th>\n",
              "      <th>built</th>\n",
              "      <th>bare</th>\n",
              "      <th>snow_and_ice</th>\n",
              "    </tr>\n",
              "  </thead>\n",
              "  <tbody>\n",
              "    <tr>\n",
              "      <th>0</th>\n",
              "      <td>B &amp; C ENERGY INC</td>\n",
              "      <td>2023-07-01</td>\n",
              "      <td>45</td>\n",
              "      <td>8640180</td>\n",
              "      <td>00000000000000001112</td>\n",
              "      <td>ky</td>\n",
              "      <td>0.031113</td>\n",
              "      <td>0.623011</td>\n",
              "      <td>0.059563</td>\n",
              "      <td>0.032779</td>\n",
              "      <td>0.065345</td>\n",
              "      <td>0.062902</td>\n",
              "      <td>0.035015</td>\n",
              "      <td>0.032943</td>\n",
              "      <td>0.036427</td>\n",
              "    </tr>\n",
              "    <tr>\n",
              "      <th>1</th>\n",
              "      <td>RIDNER COAL CO INC</td>\n",
              "      <td>2023-07-01</td>\n",
              "      <td>4</td>\n",
              "      <td>9180010</td>\n",
              "      <td>00000000000000001d20</td>\n",
              "      <td>ky</td>\n",
              "      <td>0.031869</td>\n",
              "      <td>0.698788</td>\n",
              "      <td>0.039705</td>\n",
              "      <td>0.029274</td>\n",
              "      <td>0.039489</td>\n",
              "      <td>0.036189</td>\n",
              "      <td>0.033532</td>\n",
              "      <td>0.034271</td>\n",
              "      <td>0.043253</td>\n",
              "    </tr>\n",
              "    <tr>\n",
              "      <th>2</th>\n",
              "      <td>HERBERT WELLS</td>\n",
              "      <td>2023-07-01</td>\n",
              "      <td>2</td>\n",
              "      <td>0320080</td>\n",
              "      <td>000000000000000020c7</td>\n",
              "      <td>ky</td>\n",
              "      <td>0.032205</td>\n",
              "      <td>0.539393</td>\n",
              "      <td>0.055222</td>\n",
              "      <td>0.030944</td>\n",
              "      <td>0.088415</td>\n",
              "      <td>0.041989</td>\n",
              "      <td>0.070858</td>\n",
              "      <td>0.030897</td>\n",
              "      <td>0.037347</td>\n",
              "    </tr>\n",
              "    <tr>\n",
              "      <th>3</th>\n",
              "      <td>MOUNT VICTORY COAL CO INC</td>\n",
              "      <td>2023-07-01</td>\n",
              "      <td>16</td>\n",
              "      <td>404774X</td>\n",
              "      <td>00000000000000003095</td>\n",
              "      <td>ky</td>\n",
              "      <td>0.033029</td>\n",
              "      <td>0.735718</td>\n",
              "      <td>0.038324</td>\n",
              "      <td>0.029872</td>\n",
              "      <td>0.033263</td>\n",
              "      <td>0.031299</td>\n",
              "      <td>0.029638</td>\n",
              "      <td>0.032630</td>\n",
              "      <td>0.035219</td>\n",
              "    </tr>\n",
              "    <tr>\n",
              "      <th>4</th>\n",
              "      <td>EVERGREEN MINING INC</td>\n",
              "      <td>2023-07-01</td>\n",
              "      <td>30</td>\n",
              "      <td>8260501</td>\n",
              "      <td>0000000000000000086a</td>\n",
              "      <td>ky</td>\n",
              "      <td>0.030702</td>\n",
              "      <td>0.743186</td>\n",
              "      <td>0.033933</td>\n",
              "      <td>0.027343</td>\n",
              "      <td>0.029957</td>\n",
              "      <td>0.035815</td>\n",
              "      <td>0.029723</td>\n",
              "      <td>0.036228</td>\n",
              "      <td>0.032969</td>\n",
              "    </tr>\n",
              "    <tr>\n",
              "      <th>...</th>\n",
              "      <td>...</td>\n",
              "      <td>...</td>\n",
              "      <td>...</td>\n",
              "      <td>...</td>\n",
              "      <td>...</td>\n",
              "      <td>...</td>\n",
              "      <td>...</td>\n",
              "      <td>...</td>\n",
              "      <td>...</td>\n",
              "      <td>...</td>\n",
              "      <td>...</td>\n",
              "      <td>...</td>\n",
              "      <td>...</td>\n",
              "      <td>...</td>\n",
              "      <td>...</td>\n",
              "    </tr>\n",
              "    <tr>\n",
              "      <th>32655</th>\n",
              "      <td>LO-MING COAL CORP.</td>\n",
              "      <td>2017-07-01</td>\n",
              "      <td>1</td>\n",
              "      <td>U502397</td>\n",
              "      <td>0000000000000000085a</td>\n",
              "      <td>wv</td>\n",
              "      <td>0.031039</td>\n",
              "      <td>0.587889</td>\n",
              "      <td>0.039089</td>\n",
              "      <td>0.025979</td>\n",
              "      <td>0.048085</td>\n",
              "      <td>0.042070</td>\n",
              "      <td>0.107876</td>\n",
              "      <td>0.037235</td>\n",
              "      <td>0.042496</td>\n",
              "    </tr>\n",
              "    <tr>\n",
              "      <th>32656</th>\n",
              "      <td>APPALACHIAN FUELS, LLC</td>\n",
              "      <td>2017-07-01</td>\n",
              "      <td>67</td>\n",
              "      <td>S304188</td>\n",
              "      <td>0000000000000000057b</td>\n",
              "      <td>wv</td>\n",
              "      <td>0.030835</td>\n",
              "      <td>0.739765</td>\n",
              "      <td>0.032717</td>\n",
              "      <td>0.027254</td>\n",
              "      <td>0.030536</td>\n",
              "      <td>0.037661</td>\n",
              "      <td>0.031239</td>\n",
              "      <td>0.037154</td>\n",
              "      <td>0.032554</td>\n",
              "    </tr>\n",
              "    <tr>\n",
              "      <th>32657</th>\n",
              "      <td>CHICOPEE COAL COMPANY, INC.</td>\n",
              "      <td>2017-07-01</td>\n",
              "      <td>10</td>\n",
              "      <td>S007385</td>\n",
              "      <td>000000000000000007d5</td>\n",
              "      <td>wv</td>\n",
              "      <td>0.027965</td>\n",
              "      <td>0.710045</td>\n",
              "      <td>0.042984</td>\n",
              "      <td>0.025502</td>\n",
              "      <td>0.038912</td>\n",
              "      <td>0.048706</td>\n",
              "      <td>0.032311</td>\n",
              "      <td>0.033129</td>\n",
              "      <td>0.031919</td>\n",
              "    </tr>\n",
              "    <tr>\n",
              "      <th>32658</th>\n",
              "      <td>BELVA COAL COMPANY</td>\n",
              "      <td>2017-07-01</td>\n",
              "      <td>10</td>\n",
              "      <td>S009482</td>\n",
              "      <td>00000000000000000869</td>\n",
              "      <td>wv</td>\n",
              "      <td>0.036899</td>\n",
              "      <td>0.544176</td>\n",
              "      <td>0.040389</td>\n",
              "      <td>0.030385</td>\n",
              "      <td>0.046551</td>\n",
              "      <td>0.055853</td>\n",
              "      <td>0.064093</td>\n",
              "      <td>0.120093</td>\n",
              "      <td>0.039626</td>\n",
              "    </tr>\n",
              "    <tr>\n",
              "      <th>32659</th>\n",
              "      <td>CHICOPEE COAL COMPANY, INC.</td>\n",
              "      <td>2017-07-01</td>\n",
              "      <td>3</td>\n",
              "      <td>S303686</td>\n",
              "      <td>00000000000000000958</td>\n",
              "      <td>wv</td>\n",
              "      <td>0.025448</td>\n",
              "      <td>0.760813</td>\n",
              "      <td>0.032092</td>\n",
              "      <td>0.023083</td>\n",
              "      <td>0.034072</td>\n",
              "      <td>0.031753</td>\n",
              "      <td>0.028695</td>\n",
              "      <td>0.031402</td>\n",
              "      <td>0.031918</td>\n",
              "    </tr>\n",
              "  </tbody>\n",
              "</table>\n",
              "<p>32660 rows × 15 columns</p>\n",
              "</div>\n",
              "    <div class=\"colab-df-buttons\">\n",
              "\n",
              "  <div class=\"colab-df-container\">\n",
              "    <button class=\"colab-df-convert\" onclick=\"convertToInteractive('df-4c802786-444d-4e8a-91e8-816a2f7336a1')\"\n",
              "            title=\"Convert this dataframe to an interactive table.\"\n",
              "            style=\"display:none;\">\n",
              "\n",
              "  <svg xmlns=\"http://www.w3.org/2000/svg\" height=\"24px\" viewBox=\"0 -960 960 960\">\n",
              "    <path d=\"M120-120v-720h720v720H120Zm60-500h600v-160H180v160Zm220 220h160v-160H400v160Zm0 220h160v-160H400v160ZM180-400h160v-160H180v160Zm440 0h160v-160H620v160ZM180-180h160v-160H180v160Zm440 0h160v-160H620v160Z\"/>\n",
              "  </svg>\n",
              "    </button>\n",
              "\n",
              "  <style>\n",
              "    .colab-df-container {\n",
              "      display:flex;\n",
              "      gap: 12px;\n",
              "    }\n",
              "\n",
              "    .colab-df-convert {\n",
              "      background-color: #E8F0FE;\n",
              "      border: none;\n",
              "      border-radius: 50%;\n",
              "      cursor: pointer;\n",
              "      display: none;\n",
              "      fill: #1967D2;\n",
              "      height: 32px;\n",
              "      padding: 0 0 0 0;\n",
              "      width: 32px;\n",
              "    }\n",
              "\n",
              "    .colab-df-convert:hover {\n",
              "      background-color: #E2EBFA;\n",
              "      box-shadow: 0px 1px 2px rgba(60, 64, 67, 0.3), 0px 1px 3px 1px rgba(60, 64, 67, 0.15);\n",
              "      fill: #174EA6;\n",
              "    }\n",
              "\n",
              "    .colab-df-buttons div {\n",
              "      margin-bottom: 4px;\n",
              "    }\n",
              "\n",
              "    [theme=dark] .colab-df-convert {\n",
              "      background-color: #3B4455;\n",
              "      fill: #D2E3FC;\n",
              "    }\n",
              "\n",
              "    [theme=dark] .colab-df-convert:hover {\n",
              "      background-color: #434B5C;\n",
              "      box-shadow: 0px 1px 3px 1px rgba(0, 0, 0, 0.15);\n",
              "      filter: drop-shadow(0px 1px 2px rgba(0, 0, 0, 0.3));\n",
              "      fill: #FFFFFF;\n",
              "    }\n",
              "  </style>\n",
              "\n",
              "    <script>\n",
              "      const buttonEl =\n",
              "        document.querySelector('#df-4c802786-444d-4e8a-91e8-816a2f7336a1 button.colab-df-convert');\n",
              "      buttonEl.style.display =\n",
              "        google.colab.kernel.accessAllowed ? 'block' : 'none';\n",
              "\n",
              "      async function convertToInteractive(key) {\n",
              "        const element = document.querySelector('#df-4c802786-444d-4e8a-91e8-816a2f7336a1');\n",
              "        const dataTable =\n",
              "          await google.colab.kernel.invokeFunction('convertToInteractive',\n",
              "                                                    [key], {});\n",
              "        if (!dataTable) return;\n",
              "\n",
              "        const docLinkHtml = 'Like what you see? Visit the ' +\n",
              "          '<a target=\"_blank\" href=https://colab.research.google.com/notebooks/data_table.ipynb>data table notebook</a>'\n",
              "          + ' to learn more about interactive tables.';\n",
              "        element.innerHTML = '';\n",
              "        dataTable['output_type'] = 'display_data';\n",
              "        await google.colab.output.renderOutput(dataTable, element);\n",
              "        const docLink = document.createElement('div');\n",
              "        docLink.innerHTML = docLinkHtml;\n",
              "        element.appendChild(docLink);\n",
              "      }\n",
              "    </script>\n",
              "  </div>\n",
              "\n",
              "\n",
              "<div id=\"df-a203afc8-c618-48ab-b6be-1734c5c4d28b\">\n",
              "  <button class=\"colab-df-quickchart\" onclick=\"quickchart('df-a203afc8-c618-48ab-b6be-1734c5c4d28b')\"\n",
              "            title=\"Suggest charts.\"\n",
              "            style=\"display:none;\">\n",
              "\n",
              "<svg xmlns=\"http://www.w3.org/2000/svg\" height=\"24px\"viewBox=\"0 0 24 24\"\n",
              "     width=\"24px\">\n",
              "    <g>\n",
              "        <path d=\"M19 3H5c-1.1 0-2 .9-2 2v14c0 1.1.9 2 2 2h14c1.1 0 2-.9 2-2V5c0-1.1-.9-2-2-2zM9 17H7v-7h2v7zm4 0h-2V7h2v10zm4 0h-2v-4h2v4z\"/>\n",
              "    </g>\n",
              "</svg>\n",
              "  </button>\n",
              "\n",
              "<style>\n",
              "  .colab-df-quickchart {\n",
              "      --bg-color: #E8F0FE;\n",
              "      --fill-color: #1967D2;\n",
              "      --hover-bg-color: #E2EBFA;\n",
              "      --hover-fill-color: #174EA6;\n",
              "      --disabled-fill-color: #AAA;\n",
              "      --disabled-bg-color: #DDD;\n",
              "  }\n",
              "\n",
              "  [theme=dark] .colab-df-quickchart {\n",
              "      --bg-color: #3B4455;\n",
              "      --fill-color: #D2E3FC;\n",
              "      --hover-bg-color: #434B5C;\n",
              "      --hover-fill-color: #FFFFFF;\n",
              "      --disabled-bg-color: #3B4455;\n",
              "      --disabled-fill-color: #666;\n",
              "  }\n",
              "\n",
              "  .colab-df-quickchart {\n",
              "    background-color: var(--bg-color);\n",
              "    border: none;\n",
              "    border-radius: 50%;\n",
              "    cursor: pointer;\n",
              "    display: none;\n",
              "    fill: var(--fill-color);\n",
              "    height: 32px;\n",
              "    padding: 0;\n",
              "    width: 32px;\n",
              "  }\n",
              "\n",
              "  .colab-df-quickchart:hover {\n",
              "    background-color: var(--hover-bg-color);\n",
              "    box-shadow: 0 1px 2px rgba(60, 64, 67, 0.3), 0 1px 3px 1px rgba(60, 64, 67, 0.15);\n",
              "    fill: var(--button-hover-fill-color);\n",
              "  }\n",
              "\n",
              "  .colab-df-quickchart-complete:disabled,\n",
              "  .colab-df-quickchart-complete:disabled:hover {\n",
              "    background-color: var(--disabled-bg-color);\n",
              "    fill: var(--disabled-fill-color);\n",
              "    box-shadow: none;\n",
              "  }\n",
              "\n",
              "  .colab-df-spinner {\n",
              "    border: 2px solid var(--fill-color);\n",
              "    border-color: transparent;\n",
              "    border-bottom-color: var(--fill-color);\n",
              "    animation:\n",
              "      spin 1s steps(1) infinite;\n",
              "  }\n",
              "\n",
              "  @keyframes spin {\n",
              "    0% {\n",
              "      border-color: transparent;\n",
              "      border-bottom-color: var(--fill-color);\n",
              "      border-left-color: var(--fill-color);\n",
              "    }\n",
              "    20% {\n",
              "      border-color: transparent;\n",
              "      border-left-color: var(--fill-color);\n",
              "      border-top-color: var(--fill-color);\n",
              "    }\n",
              "    30% {\n",
              "      border-color: transparent;\n",
              "      border-left-color: var(--fill-color);\n",
              "      border-top-color: var(--fill-color);\n",
              "      border-right-color: var(--fill-color);\n",
              "    }\n",
              "    40% {\n",
              "      border-color: transparent;\n",
              "      border-right-color: var(--fill-color);\n",
              "      border-top-color: var(--fill-color);\n",
              "    }\n",
              "    60% {\n",
              "      border-color: transparent;\n",
              "      border-right-color: var(--fill-color);\n",
              "    }\n",
              "    80% {\n",
              "      border-color: transparent;\n",
              "      border-right-color: var(--fill-color);\n",
              "      border-bottom-color: var(--fill-color);\n",
              "    }\n",
              "    90% {\n",
              "      border-color: transparent;\n",
              "      border-bottom-color: var(--fill-color);\n",
              "    }\n",
              "  }\n",
              "</style>\n",
              "\n",
              "  <script>\n",
              "    async function quickchart(key) {\n",
              "      const quickchartButtonEl =\n",
              "        document.querySelector('#' + key + ' button');\n",
              "      quickchartButtonEl.disabled = true;  // To prevent multiple clicks.\n",
              "      quickchartButtonEl.classList.add('colab-df-spinner');\n",
              "      try {\n",
              "        const charts = await google.colab.kernel.invokeFunction(\n",
              "            'suggestCharts', [key], {});\n",
              "      } catch (error) {\n",
              "        console.error('Error during call to suggestCharts:', error);\n",
              "      }\n",
              "      quickchartButtonEl.classList.remove('colab-df-spinner');\n",
              "      quickchartButtonEl.classList.add('colab-df-quickchart-complete');\n",
              "    }\n",
              "    (() => {\n",
              "      let quickchartButtonEl =\n",
              "        document.querySelector('#df-a203afc8-c618-48ab-b6be-1734c5c4d28b button');\n",
              "      quickchartButtonEl.style.display =\n",
              "        google.colab.kernel.accessAllowed ? 'block' : 'none';\n",
              "    })();\n",
              "  </script>\n",
              "</div>\n",
              "\n",
              "  <div id=\"id_59e41f11-4088-401c-bc31-9a4e5ad2be0e\">\n",
              "    <style>\n",
              "      .colab-df-generate {\n",
              "        background-color: #E8F0FE;\n",
              "        border: none;\n",
              "        border-radius: 50%;\n",
              "        cursor: pointer;\n",
              "        display: none;\n",
              "        fill: #1967D2;\n",
              "        height: 32px;\n",
              "        padding: 0 0 0 0;\n",
              "        width: 32px;\n",
              "      }\n",
              "\n",
              "      .colab-df-generate:hover {\n",
              "        background-color: #E2EBFA;\n",
              "        box-shadow: 0px 1px 2px rgba(60, 64, 67, 0.3), 0px 1px 3px 1px rgba(60, 64, 67, 0.15);\n",
              "        fill: #174EA6;\n",
              "      }\n",
              "\n",
              "      [theme=dark] .colab-df-generate {\n",
              "        background-color: #3B4455;\n",
              "        fill: #D2E3FC;\n",
              "      }\n",
              "\n",
              "      [theme=dark] .colab-df-generate:hover {\n",
              "        background-color: #434B5C;\n",
              "        box-shadow: 0px 1px 3px 1px rgba(0, 0, 0, 0.15);\n",
              "        filter: drop-shadow(0px 1px 2px rgba(0, 0, 0, 0.3));\n",
              "        fill: #FFFFFF;\n",
              "      }\n",
              "    </style>\n",
              "    <button class=\"colab-df-generate\" onclick=\"generateWithVariable('df')\"\n",
              "            title=\"Generate code using this dataframe.\"\n",
              "            style=\"display:none;\">\n",
              "\n",
              "  <svg xmlns=\"http://www.w3.org/2000/svg\" height=\"24px\"viewBox=\"0 0 24 24\"\n",
              "       width=\"24px\">\n",
              "    <path d=\"M7,19H8.4L18.45,9,17,7.55,7,17.6ZM5,21V16.75L18.45,3.32a2,2,0,0,1,2.83,0l1.4,1.43a1.91,1.91,0,0,1,.58,1.4,1.91,1.91,0,0,1-.58,1.4L9.25,21ZM18.45,9,17,7.55Zm-12,3A5.31,5.31,0,0,0,4.9,8.1,5.31,5.31,0,0,0,1,6.5,5.31,5.31,0,0,0,4.9,4.9,5.31,5.31,0,0,0,6.5,1,5.31,5.31,0,0,0,8.1,4.9,5.31,5.31,0,0,0,12,6.5,5.46,5.46,0,0,0,6.5,12Z\"/>\n",
              "  </svg>\n",
              "    </button>\n",
              "    <script>\n",
              "      (() => {\n",
              "      const buttonEl =\n",
              "        document.querySelector('#id_59e41f11-4088-401c-bc31-9a4e5ad2be0e button.colab-df-generate');\n",
              "      buttonEl.style.display =\n",
              "        google.colab.kernel.accessAllowed ? 'block' : 'none';\n",
              "\n",
              "      buttonEl.onclick = () => {\n",
              "        google.colab.notebook.generateWithVariable('df');\n",
              "      }\n",
              "      })();\n",
              "    </script>\n",
              "  </div>\n",
              "\n",
              "    </div>\n",
              "  </div>\n"
            ]
          },
          "metadata": {},
          "execution_count": 5
        }
      ]
    },
    {
      "cell_type": "markdown",
      "source": [
        "### Checking length before and after joining on permit_id"
      ],
      "metadata": {
        "id": "Rio56xef4QUT"
      },
      "id": "Rio56xef4QUT"
    },
    {
      "cell_type": "code",
      "source": [
        "len(df)"
      ],
      "metadata": {
        "colab": {
          "base_uri": "https://localhost:8080/"
        },
        "id": "PkS2YtjryHp_",
        "outputId": "c4311a14-22ff-40b4-f8c4-c4d41557e917"
      },
      "id": "PkS2YtjryHp_",
      "execution_count": 11,
      "outputs": [
        {
          "output_type": "execute_result",
          "data": {
            "text/plain": [
              "32660"
            ]
          },
          "metadata": {},
          "execution_count": 11
        }
      ]
    },
    {
      "cell_type": "markdown",
      "source": [
        "## 22 duplicates using permit_id"
      ],
      "metadata": {
        "id": "gTJa5aHz9Z4V"
      },
      "id": "gTJa5aHz9Z4V"
    },
    {
      "cell_type": "markdown",
      "source": [
        "### Checking mines with different company names for the same permit_id"
      ],
      "metadata": {
        "id": "qzueIWkZ4ePv"
      },
      "id": "qzueIWkZ4ePv"
    },
    {
      "cell_type": "code",
      "source": [
        "rogue_dupe_mine = mines[(mines['permit_id']=='80-156') & (mines['post_smcra']==1.0)]"
      ],
      "metadata": {
        "id": "wgYTePXjpvkH"
      },
      "id": "wgYTePXjpvkH",
      "execution_count": 16,
      "outputs": []
    },
    {
      "cell_type": "code",
      "source": [
        "rogue_dupe_mine"
      ],
      "metadata": {
        "colab": {
          "base_uri": "https://localhost:8080/",
          "height": 147
        },
        "id": "4OjX3pDysKwk",
        "outputId": "dc865056-3849-495d-810c-ddb800b9b51b"
      },
      "id": "4OjX3pDysKwk",
      "execution_count": 17,
      "outputs": [
        {
          "output_type": "execute_result",
          "data": {
            "text/plain": [
              "              company  coalmine_op_status mine_name permit_id national_id  \\\n",
              "302  RICHLAND COAL CO                   7    AREA 5    80-156    TN80-156   \n",
              "\n",
              "    coal_bed_names  inspectable_unit_status  post_smcra  reported_area  \\\n",
              "302            NaN                      NaN         1.0            NaN   \n",
              "\n",
              "     permit_application_type  ...  auger  contact  \\\n",
              "302                      NaN  ...    NaN        4   \n",
              "\n",
              "     Number_company_to_permit_id  State  edit_month  edit_year  \\\n",
              "302                          2.0     tn                    NaT   \n",
              "\n",
              "     permit_weekday  permit_approval_month permit_approval_year  \\\n",
              "302             NaN                                         NaT   \n",
              "\n",
              "    permit_application_year  \n",
              "302                     NaT  \n",
              "\n",
              "[1 rows x 25 columns]"
            ],
            "text/html": [
              "\n",
              "  <div id=\"df-6e2626dc-0294-4a6b-958a-a68b6b187f48\" class=\"colab-df-container\">\n",
              "    <div>\n",
              "<style scoped>\n",
              "    .dataframe tbody tr th:only-of-type {\n",
              "        vertical-align: middle;\n",
              "    }\n",
              "\n",
              "    .dataframe tbody tr th {\n",
              "        vertical-align: top;\n",
              "    }\n",
              "\n",
              "    .dataframe thead th {\n",
              "        text-align: right;\n",
              "    }\n",
              "</style>\n",
              "<table border=\"1\" class=\"dataframe\">\n",
              "  <thead>\n",
              "    <tr style=\"text-align: right;\">\n",
              "      <th></th>\n",
              "      <th>company</th>\n",
              "      <th>coalmine_op_status</th>\n",
              "      <th>mine_name</th>\n",
              "      <th>permit_id</th>\n",
              "      <th>national_id</th>\n",
              "      <th>coal_bed_names</th>\n",
              "      <th>inspectable_unit_status</th>\n",
              "      <th>post_smcra</th>\n",
              "      <th>reported_area</th>\n",
              "      <th>permit_application_type</th>\n",
              "      <th>...</th>\n",
              "      <th>auger</th>\n",
              "      <th>contact</th>\n",
              "      <th>Number_company_to_permit_id</th>\n",
              "      <th>State</th>\n",
              "      <th>edit_month</th>\n",
              "      <th>edit_year</th>\n",
              "      <th>permit_weekday</th>\n",
              "      <th>permit_approval_month</th>\n",
              "      <th>permit_approval_year</th>\n",
              "      <th>permit_application_year</th>\n",
              "    </tr>\n",
              "  </thead>\n",
              "  <tbody>\n",
              "    <tr>\n",
              "      <th>302</th>\n",
              "      <td>RICHLAND COAL CO</td>\n",
              "      <td>7</td>\n",
              "      <td>AREA 5</td>\n",
              "      <td>80-156</td>\n",
              "      <td>TN80-156</td>\n",
              "      <td>NaN</td>\n",
              "      <td>NaN</td>\n",
              "      <td>1.0</td>\n",
              "      <td>NaN</td>\n",
              "      <td>NaN</td>\n",
              "      <td>...</td>\n",
              "      <td>NaN</td>\n",
              "      <td>4</td>\n",
              "      <td>2.0</td>\n",
              "      <td>tn</td>\n",
              "      <td></td>\n",
              "      <td>NaT</td>\n",
              "      <td>NaN</td>\n",
              "      <td></td>\n",
              "      <td>NaT</td>\n",
              "      <td>NaT</td>\n",
              "    </tr>\n",
              "  </tbody>\n",
              "</table>\n",
              "<p>1 rows × 25 columns</p>\n",
              "</div>\n",
              "    <div class=\"colab-df-buttons\">\n",
              "\n",
              "  <div class=\"colab-df-container\">\n",
              "    <button class=\"colab-df-convert\" onclick=\"convertToInteractive('df-6e2626dc-0294-4a6b-958a-a68b6b187f48')\"\n",
              "            title=\"Convert this dataframe to an interactive table.\"\n",
              "            style=\"display:none;\">\n",
              "\n",
              "  <svg xmlns=\"http://www.w3.org/2000/svg\" height=\"24px\" viewBox=\"0 -960 960 960\">\n",
              "    <path d=\"M120-120v-720h720v720H120Zm60-500h600v-160H180v160Zm220 220h160v-160H400v160Zm0 220h160v-160H400v160ZM180-400h160v-160H180v160Zm440 0h160v-160H620v160ZM180-180h160v-160H180v160Zm440 0h160v-160H620v160Z\"/>\n",
              "  </svg>\n",
              "    </button>\n",
              "\n",
              "  <style>\n",
              "    .colab-df-container {\n",
              "      display:flex;\n",
              "      gap: 12px;\n",
              "    }\n",
              "\n",
              "    .colab-df-convert {\n",
              "      background-color: #E8F0FE;\n",
              "      border: none;\n",
              "      border-radius: 50%;\n",
              "      cursor: pointer;\n",
              "      display: none;\n",
              "      fill: #1967D2;\n",
              "      height: 32px;\n",
              "      padding: 0 0 0 0;\n",
              "      width: 32px;\n",
              "    }\n",
              "\n",
              "    .colab-df-convert:hover {\n",
              "      background-color: #E2EBFA;\n",
              "      box-shadow: 0px 1px 2px rgba(60, 64, 67, 0.3), 0px 1px 3px 1px rgba(60, 64, 67, 0.15);\n",
              "      fill: #174EA6;\n",
              "    }\n",
              "\n",
              "    .colab-df-buttons div {\n",
              "      margin-bottom: 4px;\n",
              "    }\n",
              "\n",
              "    [theme=dark] .colab-df-convert {\n",
              "      background-color: #3B4455;\n",
              "      fill: #D2E3FC;\n",
              "    }\n",
              "\n",
              "    [theme=dark] .colab-df-convert:hover {\n",
              "      background-color: #434B5C;\n",
              "      box-shadow: 0px 1px 3px 1px rgba(0, 0, 0, 0.15);\n",
              "      filter: drop-shadow(0px 1px 2px rgba(0, 0, 0, 0.3));\n",
              "      fill: #FFFFFF;\n",
              "    }\n",
              "  </style>\n",
              "\n",
              "    <script>\n",
              "      const buttonEl =\n",
              "        document.querySelector('#df-6e2626dc-0294-4a6b-958a-a68b6b187f48 button.colab-df-convert');\n",
              "      buttonEl.style.display =\n",
              "        google.colab.kernel.accessAllowed ? 'block' : 'none';\n",
              "\n",
              "      async function convertToInteractive(key) {\n",
              "        const element = document.querySelector('#df-6e2626dc-0294-4a6b-958a-a68b6b187f48');\n",
              "        const dataTable =\n",
              "          await google.colab.kernel.invokeFunction('convertToInteractive',\n",
              "                                                    [key], {});\n",
              "        if (!dataTable) return;\n",
              "\n",
              "        const docLinkHtml = 'Like what you see? Visit the ' +\n",
              "          '<a target=\"_blank\" href=https://colab.research.google.com/notebooks/data_table.ipynb>data table notebook</a>'\n",
              "          + ' to learn more about interactive tables.';\n",
              "        element.innerHTML = '';\n",
              "        dataTable['output_type'] = 'display_data';\n",
              "        await google.colab.output.renderOutput(dataTable, element);\n",
              "        const docLink = document.createElement('div');\n",
              "        docLink.innerHTML = docLinkHtml;\n",
              "        element.appendChild(docLink);\n",
              "      }\n",
              "    </script>\n",
              "  </div>\n",
              "\n",
              "\n",
              "  <div id=\"id_e0987cce-544c-451b-b61b-38a16c8d1609\">\n",
              "    <style>\n",
              "      .colab-df-generate {\n",
              "        background-color: #E8F0FE;\n",
              "        border: none;\n",
              "        border-radius: 50%;\n",
              "        cursor: pointer;\n",
              "        display: none;\n",
              "        fill: #1967D2;\n",
              "        height: 32px;\n",
              "        padding: 0 0 0 0;\n",
              "        width: 32px;\n",
              "      }\n",
              "\n",
              "      .colab-df-generate:hover {\n",
              "        background-color: #E2EBFA;\n",
              "        box-shadow: 0px 1px 2px rgba(60, 64, 67, 0.3), 0px 1px 3px 1px rgba(60, 64, 67, 0.15);\n",
              "        fill: #174EA6;\n",
              "      }\n",
              "\n",
              "      [theme=dark] .colab-df-generate {\n",
              "        background-color: #3B4455;\n",
              "        fill: #D2E3FC;\n",
              "      }\n",
              "\n",
              "      [theme=dark] .colab-df-generate:hover {\n",
              "        background-color: #434B5C;\n",
              "        box-shadow: 0px 1px 3px 1px rgba(0, 0, 0, 0.15);\n",
              "        filter: drop-shadow(0px 1px 2px rgba(0, 0, 0, 0.3));\n",
              "        fill: #FFFFFF;\n",
              "      }\n",
              "    </style>\n",
              "    <button class=\"colab-df-generate\" onclick=\"generateWithVariable('rogue_dupe_mine')\"\n",
              "            title=\"Generate code using this dataframe.\"\n",
              "            style=\"display:none;\">\n",
              "\n",
              "  <svg xmlns=\"http://www.w3.org/2000/svg\" height=\"24px\"viewBox=\"0 0 24 24\"\n",
              "       width=\"24px\">\n",
              "    <path d=\"M7,19H8.4L18.45,9,17,7.55,7,17.6ZM5,21V16.75L18.45,3.32a2,2,0,0,1,2.83,0l1.4,1.43a1.91,1.91,0,0,1,.58,1.4,1.91,1.91,0,0,1-.58,1.4L9.25,21ZM18.45,9,17,7.55Zm-12,3A5.31,5.31,0,0,0,4.9,8.1,5.31,5.31,0,0,0,1,6.5,5.31,5.31,0,0,0,4.9,4.9,5.31,5.31,0,0,0,6.5,1,5.31,5.31,0,0,0,8.1,4.9,5.31,5.31,0,0,0,12,6.5,5.46,5.46,0,0,0,6.5,12Z\"/>\n",
              "  </svg>\n",
              "    </button>\n",
              "    <script>\n",
              "      (() => {\n",
              "      const buttonEl =\n",
              "        document.querySelector('#id_e0987cce-544c-451b-b61b-38a16c8d1609 button.colab-df-generate');\n",
              "      buttonEl.style.display =\n",
              "        google.colab.kernel.accessAllowed ? 'block' : 'none';\n",
              "\n",
              "      buttonEl.onclick = () => {\n",
              "        google.colab.notebook.generateWithVariable('rogue_dupe_mine');\n",
              "      }\n",
              "      })();\n",
              "    </script>\n",
              "  </div>\n",
              "\n",
              "    </div>\n",
              "  </div>\n"
            ]
          },
          "metadata": {},
          "execution_count": 17
        }
      ]
    },
    {
      "cell_type": "code",
      "source": [
        "mines = mines[(mines['permit_id']!='80-156')]"
      ],
      "metadata": {
        "id": "sdNhTFq8q3TG"
      },
      "id": "sdNhTFq8q3TG",
      "execution_count": 18,
      "outputs": []
    },
    {
      "cell_type": "code",
      "source": [
        "mines = mines.append(rogue_dupe_mine)"
      ],
      "metadata": {
        "colab": {
          "base_uri": "https://localhost:8080/"
        },
        "id": "XCwTR33MsOWe",
        "outputId": "5e4b8184-efc4-4161-ba3c-9b05e62f77b3"
      },
      "id": "XCwTR33MsOWe",
      "execution_count": 19,
      "outputs": [
        {
          "output_type": "stream",
          "name": "stderr",
          "text": [
            "<ipython-input-19-f3ed2ca40002>:1: FutureWarning: The frame.append method is deprecated and will be removed from pandas in a future version. Use pandas.concat instead.\n",
            "  mines = mines.append(rogue_dupe_mine)\n"
          ]
        }
      ]
    },
    {
      "cell_type": "markdown",
      "source": [
        "### Creating empty rows for missing years"
      ],
      "metadata": {
        "id": "bJfMsOvBwtGr"
      },
      "id": "bJfMsOvBwtGr"
    },
    {
      "cell_type": "code",
      "source": [
        "df['key'] = df['mine_id']+df['State']\n",
        "df[['key', 'start_date']].groupby(['key']).nunique().sort_values('key', ascending=False)\n",
        "\n",
        "df[['key', 'start_date']].groupby(['start_date']).nunique().sort_values('start_date', ascending=False)"
      ],
      "metadata": {
        "id": "S5WpZm1qZ9hR"
      },
      "id": "S5WpZm1qZ9hR",
      "execution_count": null,
      "outputs": []
    },
    {
      "cell_type": "code",
      "source": [
        "date = ['2017-07-01', '2019-07-01', '2021-07-01']\n",
        "df_clean = pd.DataFrame()\n",
        "#imputation for missing years by permit_id\n",
        "\n",
        "for x,i in enumerate(date):\n",
        "  missing = df['key'][df['start_date']==date[x]].unique()\n",
        "  df_clean_loop = df.loc[:, df.columns != 'start_date'].query('key not in @missing')\n",
        "\n",
        "  df_clean_fill = df_clean_loop.groupby(['mine_id', 'Company', 'orig_perm_id', 'State', 'key']).mean().reset_index()\n",
        "  df_clean_fill['start_date']=date[x]\n",
        "  df_clean_fill['start_date'] = pd.to_datetime(df_clean_fill['start_date'])\n",
        "  df_clean = df_clean.append(df_clean_fill)\n",
        "\n",
        "\n"
      ],
      "metadata": {
        "colab": {
          "base_uri": "https://localhost:8080/"
        },
        "id": "IhH7ICbE4gU9",
        "outputId": "ed9a94fe-4c06-4b52-df79-3bbaac12f4c4"
      },
      "id": "IhH7ICbE4gU9",
      "execution_count": 9,
      "outputs": [
        {
          "output_type": "stream",
          "name": "stderr",
          "text": [
            "<ipython-input-9-69403a54d3b1>:12: FutureWarning: The frame.append method is deprecated and will be removed from pandas in a future version. Use pandas.concat instead.\n",
            "  df_clean = df_clean.append(df_clean_fill)\n",
            "<ipython-input-9-69403a54d3b1>:12: FutureWarning: The frame.append method is deprecated and will be removed from pandas in a future version. Use pandas.concat instead.\n",
            "  df_clean = df_clean.append(df_clean_fill)\n",
            "<ipython-input-9-69403a54d3b1>:12: FutureWarning: The frame.append method is deprecated and will be removed from pandas in a future version. Use pandas.concat instead.\n",
            "  df_clean = df_clean.append(df_clean_fill)\n"
          ]
        }
      ]
    },
    {
      "cell_type": "code",
      "source": [
        "df['imputation']=0\n",
        "df_clean['imputation']=1\n",
        "df = df.append(df_clean)\n",
        "df[['mine_id', 'start_date']].groupby(['start_date']).nunique().sort_values('start_date', ascending=False)\n",
        "\n",
        "### Removing any rows missing 2023\n",
        "\n",
        "all_year_mines = df['mine_id'][df['start_date']=='07-01-2023'].unique()\n",
        "df = df.query('mine_id in @all_year_mines')"
      ],
      "metadata": {
        "colab": {
          "base_uri": "https://localhost:8080/"
        },
        "id": "FV1Ic0h6_7Co",
        "outputId": "601863f3-f8a1-43fb-fc86-3eb697ccdb2b"
      },
      "id": "FV1Ic0h6_7Co",
      "execution_count": 10,
      "outputs": [
        {
          "output_type": "stream",
          "name": "stderr",
          "text": [
            "<ipython-input-10-0f33bf262f76>:3: FutureWarning: The frame.append method is deprecated and will be removed from pandas in a future version. Use pandas.concat instead.\n",
            "  df = df.append(df_clean)\n"
          ]
        }
      ]
    },
    {
      "cell_type": "code",
      "source": [
        "date = ['2017-07-01', '2019-07-01', '2021-07-01', '2023-07-01']\n",
        "df_clean = pd.DataFrame()\n",
        "#imputation for missing years by permit_id\n",
        "\n",
        "for x,i in enumerate(date):\n",
        "  missing = df['mine_id'][df['start_date']==date[x]].unique()\n",
        "  print('if zero, update succesful: ',len(df.query('key in @missing')))"
      ],
      "metadata": {
        "colab": {
          "base_uri": "https://localhost:8080/"
        },
        "id": "KnhaF1RQ_mPn",
        "outputId": "cdb40f3e-0234-485f-c575-9775b00c0bc4"
      },
      "id": "KnhaF1RQ_mPn",
      "execution_count": 11,
      "outputs": [
        {
          "output_type": "stream",
          "name": "stdout",
          "text": [
            "if zero, update succesful:  0\n",
            "if zero, update succesful:  0\n",
            "if zero, update succesful:  0\n",
            "if zero, update succesful:  0\n"
          ]
        }
      ]
    },
    {
      "cell_type": "code",
      "source": [
        "df[['key', 'start_date']].groupby(['start_date']).nunique().sort_values('start_date', ascending=False)"
      ],
      "metadata": {
        "colab": {
          "base_uri": "https://localhost:8080/",
          "height": 206
        },
        "id": "mEeuMjHL6SEI",
        "outputId": "27f787fd-9ab3-4575-aeaa-ce690e7fced7"
      },
      "id": "mEeuMjHL6SEI",
      "execution_count": 20,
      "outputs": [
        {
          "output_type": "execute_result",
          "data": {
            "text/plain": [
              "              key\n",
              "start_date       \n",
              "2023-07-01   9365\n",
              "2021-07-01  10221\n",
              "2019-07-01  10221\n",
              "2017-07-01  10221"
            ],
            "text/html": [
              "\n",
              "  <div id=\"df-d3cf2e30-fcec-4a5d-beea-48fed4d99228\" class=\"colab-df-container\">\n",
              "    <div>\n",
              "<style scoped>\n",
              "    .dataframe tbody tr th:only-of-type {\n",
              "        vertical-align: middle;\n",
              "    }\n",
              "\n",
              "    .dataframe tbody tr th {\n",
              "        vertical-align: top;\n",
              "    }\n",
              "\n",
              "    .dataframe thead th {\n",
              "        text-align: right;\n",
              "    }\n",
              "</style>\n",
              "<table border=\"1\" class=\"dataframe\">\n",
              "  <thead>\n",
              "    <tr style=\"text-align: right;\">\n",
              "      <th></th>\n",
              "      <th>key</th>\n",
              "    </tr>\n",
              "    <tr>\n",
              "      <th>start_date</th>\n",
              "      <th></th>\n",
              "    </tr>\n",
              "  </thead>\n",
              "  <tbody>\n",
              "    <tr>\n",
              "      <th>2023-07-01</th>\n",
              "      <td>9365</td>\n",
              "    </tr>\n",
              "    <tr>\n",
              "      <th>2021-07-01</th>\n",
              "      <td>10221</td>\n",
              "    </tr>\n",
              "    <tr>\n",
              "      <th>2019-07-01</th>\n",
              "      <td>10221</td>\n",
              "    </tr>\n",
              "    <tr>\n",
              "      <th>2017-07-01</th>\n",
              "      <td>10221</td>\n",
              "    </tr>\n",
              "  </tbody>\n",
              "</table>\n",
              "</div>\n",
              "    <div class=\"colab-df-buttons\">\n",
              "\n",
              "  <div class=\"colab-df-container\">\n",
              "    <button class=\"colab-df-convert\" onclick=\"convertToInteractive('df-d3cf2e30-fcec-4a5d-beea-48fed4d99228')\"\n",
              "            title=\"Convert this dataframe to an interactive table.\"\n",
              "            style=\"display:none;\">\n",
              "\n",
              "  <svg xmlns=\"http://www.w3.org/2000/svg\" height=\"24px\" viewBox=\"0 -960 960 960\">\n",
              "    <path d=\"M120-120v-720h720v720H120Zm60-500h600v-160H180v160Zm220 220h160v-160H400v160Zm0 220h160v-160H400v160ZM180-400h160v-160H180v160Zm440 0h160v-160H620v160ZM180-180h160v-160H180v160Zm440 0h160v-160H620v160Z\"/>\n",
              "  </svg>\n",
              "    </button>\n",
              "\n",
              "  <style>\n",
              "    .colab-df-container {\n",
              "      display:flex;\n",
              "      gap: 12px;\n",
              "    }\n",
              "\n",
              "    .colab-df-convert {\n",
              "      background-color: #E8F0FE;\n",
              "      border: none;\n",
              "      border-radius: 50%;\n",
              "      cursor: pointer;\n",
              "      display: none;\n",
              "      fill: #1967D2;\n",
              "      height: 32px;\n",
              "      padding: 0 0 0 0;\n",
              "      width: 32px;\n",
              "    }\n",
              "\n",
              "    .colab-df-convert:hover {\n",
              "      background-color: #E2EBFA;\n",
              "      box-shadow: 0px 1px 2px rgba(60, 64, 67, 0.3), 0px 1px 3px 1px rgba(60, 64, 67, 0.15);\n",
              "      fill: #174EA6;\n",
              "    }\n",
              "\n",
              "    .colab-df-buttons div {\n",
              "      margin-bottom: 4px;\n",
              "    }\n",
              "\n",
              "    [theme=dark] .colab-df-convert {\n",
              "      background-color: #3B4455;\n",
              "      fill: #D2E3FC;\n",
              "    }\n",
              "\n",
              "    [theme=dark] .colab-df-convert:hover {\n",
              "      background-color: #434B5C;\n",
              "      box-shadow: 0px 1px 3px 1px rgba(0, 0, 0, 0.15);\n",
              "      filter: drop-shadow(0px 1px 2px rgba(0, 0, 0, 0.3));\n",
              "      fill: #FFFFFF;\n",
              "    }\n",
              "  </style>\n",
              "\n",
              "    <script>\n",
              "      const buttonEl =\n",
              "        document.querySelector('#df-d3cf2e30-fcec-4a5d-beea-48fed4d99228 button.colab-df-convert');\n",
              "      buttonEl.style.display =\n",
              "        google.colab.kernel.accessAllowed ? 'block' : 'none';\n",
              "\n",
              "      async function convertToInteractive(key) {\n",
              "        const element = document.querySelector('#df-d3cf2e30-fcec-4a5d-beea-48fed4d99228');\n",
              "        const dataTable =\n",
              "          await google.colab.kernel.invokeFunction('convertToInteractive',\n",
              "                                                    [key], {});\n",
              "        if (!dataTable) return;\n",
              "\n",
              "        const docLinkHtml = 'Like what you see? Visit the ' +\n",
              "          '<a target=\"_blank\" href=https://colab.research.google.com/notebooks/data_table.ipynb>data table notebook</a>'\n",
              "          + ' to learn more about interactive tables.';\n",
              "        element.innerHTML = '';\n",
              "        dataTable['output_type'] = 'display_data';\n",
              "        await google.colab.output.renderOutput(dataTable, element);\n",
              "        const docLink = document.createElement('div');\n",
              "        docLink.innerHTML = docLinkHtml;\n",
              "        element.appendChild(docLink);\n",
              "      }\n",
              "    </script>\n",
              "  </div>\n",
              "\n",
              "\n",
              "<div id=\"df-ab5e8c36-9ca7-4dae-ad27-8a19323d4c5a\">\n",
              "  <button class=\"colab-df-quickchart\" onclick=\"quickchart('df-ab5e8c36-9ca7-4dae-ad27-8a19323d4c5a')\"\n",
              "            title=\"Suggest charts.\"\n",
              "            style=\"display:none;\">\n",
              "\n",
              "<svg xmlns=\"http://www.w3.org/2000/svg\" height=\"24px\"viewBox=\"0 0 24 24\"\n",
              "     width=\"24px\">\n",
              "    <g>\n",
              "        <path d=\"M19 3H5c-1.1 0-2 .9-2 2v14c0 1.1.9 2 2 2h14c1.1 0 2-.9 2-2V5c0-1.1-.9-2-2-2zM9 17H7v-7h2v7zm4 0h-2V7h2v10zm4 0h-2v-4h2v4z\"/>\n",
              "    </g>\n",
              "</svg>\n",
              "  </button>\n",
              "\n",
              "<style>\n",
              "  .colab-df-quickchart {\n",
              "      --bg-color: #E8F0FE;\n",
              "      --fill-color: #1967D2;\n",
              "      --hover-bg-color: #E2EBFA;\n",
              "      --hover-fill-color: #174EA6;\n",
              "      --disabled-fill-color: #AAA;\n",
              "      --disabled-bg-color: #DDD;\n",
              "  }\n",
              "\n",
              "  [theme=dark] .colab-df-quickchart {\n",
              "      --bg-color: #3B4455;\n",
              "      --fill-color: #D2E3FC;\n",
              "      --hover-bg-color: #434B5C;\n",
              "      --hover-fill-color: #FFFFFF;\n",
              "      --disabled-bg-color: #3B4455;\n",
              "      --disabled-fill-color: #666;\n",
              "  }\n",
              "\n",
              "  .colab-df-quickchart {\n",
              "    background-color: var(--bg-color);\n",
              "    border: none;\n",
              "    border-radius: 50%;\n",
              "    cursor: pointer;\n",
              "    display: none;\n",
              "    fill: var(--fill-color);\n",
              "    height: 32px;\n",
              "    padding: 0;\n",
              "    width: 32px;\n",
              "  }\n",
              "\n",
              "  .colab-df-quickchart:hover {\n",
              "    background-color: var(--hover-bg-color);\n",
              "    box-shadow: 0 1px 2px rgba(60, 64, 67, 0.3), 0 1px 3px 1px rgba(60, 64, 67, 0.15);\n",
              "    fill: var(--button-hover-fill-color);\n",
              "  }\n",
              "\n",
              "  .colab-df-quickchart-complete:disabled,\n",
              "  .colab-df-quickchart-complete:disabled:hover {\n",
              "    background-color: var(--disabled-bg-color);\n",
              "    fill: var(--disabled-fill-color);\n",
              "    box-shadow: none;\n",
              "  }\n",
              "\n",
              "  .colab-df-spinner {\n",
              "    border: 2px solid var(--fill-color);\n",
              "    border-color: transparent;\n",
              "    border-bottom-color: var(--fill-color);\n",
              "    animation:\n",
              "      spin 1s steps(1) infinite;\n",
              "  }\n",
              "\n",
              "  @keyframes spin {\n",
              "    0% {\n",
              "      border-color: transparent;\n",
              "      border-bottom-color: var(--fill-color);\n",
              "      border-left-color: var(--fill-color);\n",
              "    }\n",
              "    20% {\n",
              "      border-color: transparent;\n",
              "      border-left-color: var(--fill-color);\n",
              "      border-top-color: var(--fill-color);\n",
              "    }\n",
              "    30% {\n",
              "      border-color: transparent;\n",
              "      border-left-color: var(--fill-color);\n",
              "      border-top-color: var(--fill-color);\n",
              "      border-right-color: var(--fill-color);\n",
              "    }\n",
              "    40% {\n",
              "      border-color: transparent;\n",
              "      border-right-color: var(--fill-color);\n",
              "      border-top-color: var(--fill-color);\n",
              "    }\n",
              "    60% {\n",
              "      border-color: transparent;\n",
              "      border-right-color: var(--fill-color);\n",
              "    }\n",
              "    80% {\n",
              "      border-color: transparent;\n",
              "      border-right-color: var(--fill-color);\n",
              "      border-bottom-color: var(--fill-color);\n",
              "    }\n",
              "    90% {\n",
              "      border-color: transparent;\n",
              "      border-bottom-color: var(--fill-color);\n",
              "    }\n",
              "  }\n",
              "</style>\n",
              "\n",
              "  <script>\n",
              "    async function quickchart(key) {\n",
              "      const quickchartButtonEl =\n",
              "        document.querySelector('#' + key + ' button');\n",
              "      quickchartButtonEl.disabled = true;  // To prevent multiple clicks.\n",
              "      quickchartButtonEl.classList.add('colab-df-spinner');\n",
              "      try {\n",
              "        const charts = await google.colab.kernel.invokeFunction(\n",
              "            'suggestCharts', [key], {});\n",
              "      } catch (error) {\n",
              "        console.error('Error during call to suggestCharts:', error);\n",
              "      }\n",
              "      quickchartButtonEl.classList.remove('colab-df-spinner');\n",
              "      quickchartButtonEl.classList.add('colab-df-quickchart-complete');\n",
              "    }\n",
              "    (() => {\n",
              "      let quickchartButtonEl =\n",
              "        document.querySelector('#df-ab5e8c36-9ca7-4dae-ad27-8a19323d4c5a button');\n",
              "      quickchartButtonEl.style.display =\n",
              "        google.colab.kernel.accessAllowed ? 'block' : 'none';\n",
              "    })();\n",
              "  </script>\n",
              "</div>\n",
              "\n",
              "    </div>\n",
              "  </div>\n"
            ]
          },
          "metadata": {},
          "execution_count": 20
        }
      ]
    },
    {
      "cell_type": "code",
      "source": [
        "df_merge = pd.merge(df, mines,  how='left', left_on=['orig_perm_id', 'State'], right_on = ['permit_id', 'State'])"
      ],
      "metadata": {
        "id": "Ft3xvPxrR97b"
      },
      "id": "Ft3xvPxrR97b",
      "execution_count": 20,
      "outputs": []
    },
    {
      "cell_type": "code",
      "source": [
        "directory_path = '/content/drive/MyDrive/Mines_Data_Clean/Precipitation/'\n",
        "directory_files = os.listdir(directory_path)\n",
        "\n",
        "precip = pd.DataFrame()\n",
        "z=0\n",
        "for i in directory_files:\n",
        "    df_file = pd.read_csv(os.path.join(directory_path, i), encoding = 'ISO-8859-1',low_memory=False)\n",
        "    df_file['start_date_array'] = df_file['start_date_array'].str.split(\" \", 1, expand=True)[1]\n",
        "    df_file['start_date_array'] = df_file['start_date_array'].str.slice(0, 13)\n",
        "    df_file['start_date'] = pd.to_datetime(df_file['start_date_array'])\n",
        "\n",
        "    df_file['orig_perm_id'] = df_file['orig_perm_id'].str.split(\" \", 1, expand=True)[1]\n",
        "    df_file['orig_perm_id'] = df_file['orig_perm_id'].str.slice(0, 13)\n",
        "    df_file['orig_perm_id'] = df_file['orig_perm_id'].str.replace('\\nNa', '')\n",
        "\n",
        "    precip = pd.concat([precip, df_file])\n",
        "\n",
        "    z+=1"
      ],
      "metadata": {
        "colab": {
          "base_uri": "https://localhost:8080/"
        },
        "id": "tWD_a0-5kh54",
        "outputId": "b8198861-acf1-40e7-983e-4052d9731b8f"
      },
      "id": "tWD_a0-5kh54",
      "execution_count": 21,
      "outputs": [
        {
          "output_type": "stream",
          "name": "stderr",
          "text": [
            "<ipython-input-21-26c763670284>:8: FutureWarning: In a future version of pandas all arguments of StringMethods.split except for the argument 'pat' will be keyword-only.\n",
            "  df_file['start_date_array'] = df_file['start_date_array'].str.split(\" \", 1, expand=True)[1]\n",
            "<ipython-input-21-26c763670284>:12: FutureWarning: In a future version of pandas all arguments of StringMethods.split except for the argument 'pat' will be keyword-only.\n",
            "  df_file['orig_perm_id'] = df_file['orig_perm_id'].str.split(\" \", 1, expand=True)[1]\n",
            "<ipython-input-21-26c763670284>:8: FutureWarning: In a future version of pandas all arguments of StringMethods.split except for the argument 'pat' will be keyword-only.\n",
            "  df_file['start_date_array'] = df_file['start_date_array'].str.split(\" \", 1, expand=True)[1]\n",
            "<ipython-input-21-26c763670284>:12: FutureWarning: In a future version of pandas all arguments of StringMethods.split except for the argument 'pat' will be keyword-only.\n",
            "  df_file['orig_perm_id'] = df_file['orig_perm_id'].str.split(\" \", 1, expand=True)[1]\n",
            "<ipython-input-21-26c763670284>:8: FutureWarning: In a future version of pandas all arguments of StringMethods.split except for the argument 'pat' will be keyword-only.\n",
            "  df_file['start_date_array'] = df_file['start_date_array'].str.split(\" \", 1, expand=True)[1]\n",
            "<ipython-input-21-26c763670284>:12: FutureWarning: In a future version of pandas all arguments of StringMethods.split except for the argument 'pat' will be keyword-only.\n",
            "  df_file['orig_perm_id'] = df_file['orig_perm_id'].str.split(\" \", 1, expand=True)[1]\n",
            "<ipython-input-21-26c763670284>:8: FutureWarning: In a future version of pandas all arguments of StringMethods.split except for the argument 'pat' will be keyword-only.\n",
            "  df_file['start_date_array'] = df_file['start_date_array'].str.split(\" \", 1, expand=True)[1]\n",
            "<ipython-input-21-26c763670284>:12: FutureWarning: In a future version of pandas all arguments of StringMethods.split except for the argument 'pat' will be keyword-only.\n",
            "  df_file['orig_perm_id'] = df_file['orig_perm_id'].str.split(\" \", 1, expand=True)[1]\n",
            "<ipython-input-21-26c763670284>:8: FutureWarning: In a future version of pandas all arguments of StringMethods.split except for the argument 'pat' will be keyword-only.\n",
            "  df_file['start_date_array'] = df_file['start_date_array'].str.split(\" \", 1, expand=True)[1]\n",
            "<ipython-input-21-26c763670284>:12: FutureWarning: In a future version of pandas all arguments of StringMethods.split except for the argument 'pat' will be keyword-only.\n",
            "  df_file['orig_perm_id'] = df_file['orig_perm_id'].str.split(\" \", 1, expand=True)[1]\n",
            "<ipython-input-21-26c763670284>:8: FutureWarning: In a future version of pandas all arguments of StringMethods.split except for the argument 'pat' will be keyword-only.\n",
            "  df_file['start_date_array'] = df_file['start_date_array'].str.split(\" \", 1, expand=True)[1]\n",
            "<ipython-input-21-26c763670284>:12: FutureWarning: In a future version of pandas all arguments of StringMethods.split except for the argument 'pat' will be keyword-only.\n",
            "  df_file['orig_perm_id'] = df_file['orig_perm_id'].str.split(\" \", 1, expand=True)[1]\n",
            "<ipython-input-21-26c763670284>:8: FutureWarning: In a future version of pandas all arguments of StringMethods.split except for the argument 'pat' will be keyword-only.\n",
            "  df_file['start_date_array'] = df_file['start_date_array'].str.split(\" \", 1, expand=True)[1]\n",
            "<ipython-input-21-26c763670284>:12: FutureWarning: In a future version of pandas all arguments of StringMethods.split except for the argument 'pat' will be keyword-only.\n",
            "  df_file['orig_perm_id'] = df_file['orig_perm_id'].str.split(\" \", 1, expand=True)[1]\n",
            "<ipython-input-21-26c763670284>:8: FutureWarning: In a future version of pandas all arguments of StringMethods.split except for the argument 'pat' will be keyword-only.\n",
            "  df_file['start_date_array'] = df_file['start_date_array'].str.split(\" \", 1, expand=True)[1]\n",
            "<ipython-input-21-26c763670284>:12: FutureWarning: In a future version of pandas all arguments of StringMethods.split except for the argument 'pat' will be keyword-only.\n",
            "  df_file['orig_perm_id'] = df_file['orig_perm_id'].str.split(\" \", 1, expand=True)[1]\n",
            "<ipython-input-21-26c763670284>:8: FutureWarning: In a future version of pandas all arguments of StringMethods.split except for the argument 'pat' will be keyword-only.\n",
            "  df_file['start_date_array'] = df_file['start_date_array'].str.split(\" \", 1, expand=True)[1]\n",
            "<ipython-input-21-26c763670284>:12: FutureWarning: In a future version of pandas all arguments of StringMethods.split except for the argument 'pat' will be keyword-only.\n",
            "  df_file['orig_perm_id'] = df_file['orig_perm_id'].str.split(\" \", 1, expand=True)[1]\n",
            "<ipython-input-21-26c763670284>:8: FutureWarning: In a future version of pandas all arguments of StringMethods.split except for the argument 'pat' will be keyword-only.\n",
            "  df_file['start_date_array'] = df_file['start_date_array'].str.split(\" \", 1, expand=True)[1]\n",
            "<ipython-input-21-26c763670284>:12: FutureWarning: In a future version of pandas all arguments of StringMethods.split except for the argument 'pat' will be keyword-only.\n",
            "  df_file['orig_perm_id'] = df_file['orig_perm_id'].str.split(\" \", 1, expand=True)[1]\n",
            "<ipython-input-21-26c763670284>:8: FutureWarning: In a future version of pandas all arguments of StringMethods.split except for the argument 'pat' will be keyword-only.\n",
            "  df_file['start_date_array'] = df_file['start_date_array'].str.split(\" \", 1, expand=True)[1]\n",
            "<ipython-input-21-26c763670284>:12: FutureWarning: In a future version of pandas all arguments of StringMethods.split except for the argument 'pat' will be keyword-only.\n",
            "  df_file['orig_perm_id'] = df_file['orig_perm_id'].str.split(\" \", 1, expand=True)[1]\n",
            "<ipython-input-21-26c763670284>:8: FutureWarning: In a future version of pandas all arguments of StringMethods.split except for the argument 'pat' will be keyword-only.\n",
            "  df_file['start_date_array'] = df_file['start_date_array'].str.split(\" \", 1, expand=True)[1]\n",
            "<ipython-input-21-26c763670284>:12: FutureWarning: In a future version of pandas all arguments of StringMethods.split except for the argument 'pat' will be keyword-only.\n",
            "  df_file['orig_perm_id'] = df_file['orig_perm_id'].str.split(\" \", 1, expand=True)[1]\n",
            "<ipython-input-21-26c763670284>:8: FutureWarning: In a future version of pandas all arguments of StringMethods.split except for the argument 'pat' will be keyword-only.\n",
            "  df_file['start_date_array'] = df_file['start_date_array'].str.split(\" \", 1, expand=True)[1]\n",
            "<ipython-input-21-26c763670284>:12: FutureWarning: In a future version of pandas all arguments of StringMethods.split except for the argument 'pat' will be keyword-only.\n",
            "  df_file['orig_perm_id'] = df_file['orig_perm_id'].str.split(\" \", 1, expand=True)[1]\n",
            "<ipython-input-21-26c763670284>:8: FutureWarning: In a future version of pandas all arguments of StringMethods.split except for the argument 'pat' will be keyword-only.\n",
            "  df_file['start_date_array'] = df_file['start_date_array'].str.split(\" \", 1, expand=True)[1]\n",
            "<ipython-input-21-26c763670284>:12: FutureWarning: In a future version of pandas all arguments of StringMethods.split except for the argument 'pat' will be keyword-only.\n",
            "  df_file['orig_perm_id'] = df_file['orig_perm_id'].str.split(\" \", 1, expand=True)[1]\n",
            "<ipython-input-21-26c763670284>:8: FutureWarning: In a future version of pandas all arguments of StringMethods.split except for the argument 'pat' will be keyword-only.\n",
            "  df_file['start_date_array'] = df_file['start_date_array'].str.split(\" \", 1, expand=True)[1]\n",
            "<ipython-input-21-26c763670284>:12: FutureWarning: In a future version of pandas all arguments of StringMethods.split except for the argument 'pat' will be keyword-only.\n",
            "  df_file['orig_perm_id'] = df_file['orig_perm_id'].str.split(\" \", 1, expand=True)[1]\n",
            "<ipython-input-21-26c763670284>:8: FutureWarning: In a future version of pandas all arguments of StringMethods.split except for the argument 'pat' will be keyword-only.\n",
            "  df_file['start_date_array'] = df_file['start_date_array'].str.split(\" \", 1, expand=True)[1]\n",
            "<ipython-input-21-26c763670284>:12: FutureWarning: In a future version of pandas all arguments of StringMethods.split except for the argument 'pat' will be keyword-only.\n",
            "  df_file['orig_perm_id'] = df_file['orig_perm_id'].str.split(\" \", 1, expand=True)[1]\n",
            "<ipython-input-21-26c763670284>:8: FutureWarning: In a future version of pandas all arguments of StringMethods.split except for the argument 'pat' will be keyword-only.\n",
            "  df_file['start_date_array'] = df_file['start_date_array'].str.split(\" \", 1, expand=True)[1]\n",
            "<ipython-input-21-26c763670284>:12: FutureWarning: In a future version of pandas all arguments of StringMethods.split except for the argument 'pat' will be keyword-only.\n",
            "  df_file['orig_perm_id'] = df_file['orig_perm_id'].str.split(\" \", 1, expand=True)[1]\n",
            "<ipython-input-21-26c763670284>:8: FutureWarning: In a future version of pandas all arguments of StringMethods.split except for the argument 'pat' will be keyword-only.\n",
            "  df_file['start_date_array'] = df_file['start_date_array'].str.split(\" \", 1, expand=True)[1]\n",
            "<ipython-input-21-26c763670284>:12: FutureWarning: In a future version of pandas all arguments of StringMethods.split except for the argument 'pat' will be keyword-only.\n",
            "  df_file['orig_perm_id'] = df_file['orig_perm_id'].str.split(\" \", 1, expand=True)[1]\n",
            "<ipython-input-21-26c763670284>:8: FutureWarning: In a future version of pandas all arguments of StringMethods.split except for the argument 'pat' will be keyword-only.\n",
            "  df_file['start_date_array'] = df_file['start_date_array'].str.split(\" \", 1, expand=True)[1]\n",
            "<ipython-input-21-26c763670284>:12: FutureWarning: In a future version of pandas all arguments of StringMethods.split except for the argument 'pat' will be keyword-only.\n",
            "  df_file['orig_perm_id'] = df_file['orig_perm_id'].str.split(\" \", 1, expand=True)[1]\n",
            "<ipython-input-21-26c763670284>:8: FutureWarning: In a future version of pandas all arguments of StringMethods.split except for the argument 'pat' will be keyword-only.\n",
            "  df_file['start_date_array'] = df_file['start_date_array'].str.split(\" \", 1, expand=True)[1]\n",
            "<ipython-input-21-26c763670284>:12: FutureWarning: In a future version of pandas all arguments of StringMethods.split except for the argument 'pat' will be keyword-only.\n",
            "  df_file['orig_perm_id'] = df_file['orig_perm_id'].str.split(\" \", 1, expand=True)[1]\n",
            "<ipython-input-21-26c763670284>:8: FutureWarning: In a future version of pandas all arguments of StringMethods.split except for the argument 'pat' will be keyword-only.\n",
            "  df_file['start_date_array'] = df_file['start_date_array'].str.split(\" \", 1, expand=True)[1]\n",
            "<ipython-input-21-26c763670284>:12: FutureWarning: In a future version of pandas all arguments of StringMethods.split except for the argument 'pat' will be keyword-only.\n",
            "  df_file['orig_perm_id'] = df_file['orig_perm_id'].str.split(\" \", 1, expand=True)[1]\n",
            "<ipython-input-21-26c763670284>:8: FutureWarning: In a future version of pandas all arguments of StringMethods.split except for the argument 'pat' will be keyword-only.\n",
            "  df_file['start_date_array'] = df_file['start_date_array'].str.split(\" \", 1, expand=True)[1]\n",
            "<ipython-input-21-26c763670284>:12: FutureWarning: In a future version of pandas all arguments of StringMethods.split except for the argument 'pat' will be keyword-only.\n",
            "  df_file['orig_perm_id'] = df_file['orig_perm_id'].str.split(\" \", 1, expand=True)[1]\n",
            "<ipython-input-21-26c763670284>:8: FutureWarning: In a future version of pandas all arguments of StringMethods.split except for the argument 'pat' will be keyword-only.\n",
            "  df_file['start_date_array'] = df_file['start_date_array'].str.split(\" \", 1, expand=True)[1]\n",
            "<ipython-input-21-26c763670284>:12: FutureWarning: In a future version of pandas all arguments of StringMethods.split except for the argument 'pat' will be keyword-only.\n",
            "  df_file['orig_perm_id'] = df_file['orig_perm_id'].str.split(\" \", 1, expand=True)[1]\n",
            "<ipython-input-21-26c763670284>:8: FutureWarning: In a future version of pandas all arguments of StringMethods.split except for the argument 'pat' will be keyword-only.\n",
            "  df_file['start_date_array'] = df_file['start_date_array'].str.split(\" \", 1, expand=True)[1]\n",
            "<ipython-input-21-26c763670284>:12: FutureWarning: In a future version of pandas all arguments of StringMethods.split except for the argument 'pat' will be keyword-only.\n",
            "  df_file['orig_perm_id'] = df_file['orig_perm_id'].str.split(\" \", 1, expand=True)[1]\n",
            "<ipython-input-21-26c763670284>:8: FutureWarning: In a future version of pandas all arguments of StringMethods.split except for the argument 'pat' will be keyword-only.\n",
            "  df_file['start_date_array'] = df_file['start_date_array'].str.split(\" \", 1, expand=True)[1]\n",
            "<ipython-input-21-26c763670284>:12: FutureWarning: In a future version of pandas all arguments of StringMethods.split except for the argument 'pat' will be keyword-only.\n",
            "  df_file['orig_perm_id'] = df_file['orig_perm_id'].str.split(\" \", 1, expand=True)[1]\n",
            "<ipython-input-21-26c763670284>:8: FutureWarning: In a future version of pandas all arguments of StringMethods.split except for the argument 'pat' will be keyword-only.\n",
            "  df_file['start_date_array'] = df_file['start_date_array'].str.split(\" \", 1, expand=True)[1]\n",
            "<ipython-input-21-26c763670284>:12: FutureWarning: In a future version of pandas all arguments of StringMethods.split except for the argument 'pat' will be keyword-only.\n",
            "  df_file['orig_perm_id'] = df_file['orig_perm_id'].str.split(\" \", 1, expand=True)[1]\n",
            "<ipython-input-21-26c763670284>:8: FutureWarning: In a future version of pandas all arguments of StringMethods.split except for the argument 'pat' will be keyword-only.\n",
            "  df_file['start_date_array'] = df_file['start_date_array'].str.split(\" \", 1, expand=True)[1]\n",
            "<ipython-input-21-26c763670284>:12: FutureWarning: In a future version of pandas all arguments of StringMethods.split except for the argument 'pat' will be keyword-only.\n",
            "  df_file['orig_perm_id'] = df_file['orig_perm_id'].str.split(\" \", 1, expand=True)[1]\n",
            "<ipython-input-21-26c763670284>:8: FutureWarning: In a future version of pandas all arguments of StringMethods.split except for the argument 'pat' will be keyword-only.\n",
            "  df_file['start_date_array'] = df_file['start_date_array'].str.split(\" \", 1, expand=True)[1]\n",
            "<ipython-input-21-26c763670284>:12: FutureWarning: In a future version of pandas all arguments of StringMethods.split except for the argument 'pat' will be keyword-only.\n",
            "  df_file['orig_perm_id'] = df_file['orig_perm_id'].str.split(\" \", 1, expand=True)[1]\n"
          ]
        }
      ]
    },
    {
      "cell_type": "markdown",
      "source": [
        "### Precipitation Data"
      ],
      "metadata": {
        "id": "8GqsK_yBD0Ww"
      },
      "id": "8GqsK_yBD0Ww"
    },
    {
      "cell_type": "code",
      "source": [
        "precip = precip.drop_duplicates()\n",
        "precip = precip.drop(columns = 'start_date_array')\n",
        "precip = precip[precip.columns[1:]]\n",
        "keep_columns =['start_date', 'orig_perm_id', 'WaterQuality', 'Max Temperature', 'Precipitation']\n",
        "precip = precip[keep_columns]\n",
        "\n",
        "date = ['2017-07-01', '2019-07-01', '2021-07-01', '2023-07-01']\n",
        "precip_clean = pd.DataFrame()\n",
        "#imputation for missing years by permit_id\n",
        "keep_columns =['orig_perm_id', 'WaterQuality', 'Max Temperature', 'Precipitation']\n",
        "\n",
        "for x,i in enumerate(date):\n",
        "  print(date[x])\n",
        "  missing = precip['orig_perm_id'][precip['start_date']==date[x]]\n",
        "  #finds permit_id that don't have a row for that year\n",
        "  precip_clean_loop = precip[keep_columns].query('orig_perm_id not in @missing')\n",
        "\n",
        "  precip_clean_fill = precip_clean_loop.groupby(['orig_perm_id']).mean().reset_index()\n",
        "  precip_clean_fill['start_date'] = date[x]\n",
        "  precip_clean_fill['start_date'] = pd.to_datetime(precip_clean_fill['start_date'])\n",
        "  precip_clean = precip_clean.append(precip_clean_fill)\n",
        "  missing = precip_clean['orig_perm_id'][precip_clean['start_date']==date[x]].unique()\n",
        "  print('if zero, update succesful: ',len(precip_clean.query('orig_perm_id not in @missing')))\n",
        "\n",
        "  precip_clean = precip_clean.append(precip)\n",
        "\n",
        "precip_clean['orig_perm_id'] = precip_clean['orig_perm_id'].str.strip()\n",
        "precip_clean = precip_clean.groupby(['orig_perm_id', 'start_date']).mean().reset_index()"
      ],
      "metadata": {
        "colab": {
          "base_uri": "https://localhost:8080/"
        },
        "id": "_w1-CSrsCyH6",
        "outputId": "4d81225f-3bbb-41f8-948a-c3b0d1baa7ec"
      },
      "id": "_w1-CSrsCyH6",
      "execution_count": 22,
      "outputs": [
        {
          "output_type": "stream",
          "name": "stderr",
          "text": [
            "<ipython-input-22-e90a658dad76>:21: FutureWarning: The frame.append method is deprecated and will be removed from pandas in a future version. Use pandas.concat instead.\n",
            "  precip_clean = precip_clean.append(precip_clean_fill)\n"
          ]
        },
        {
          "output_type": "stream",
          "name": "stdout",
          "text": [
            "2017-07-01\n",
            "if zero, update succesful:  0\n",
            "2019-07-01\n",
            "if zero, update succesful:  0\n",
            "2021-07-01\n",
            "if zero, update succesful:  0\n",
            "2023-07-01\n",
            "if zero, update succesful:  0\n"
          ]
        },
        {
          "output_type": "stream",
          "name": "stderr",
          "text": [
            "<ipython-input-22-e90a658dad76>:25: FutureWarning: The frame.append method is deprecated and will be removed from pandas in a future version. Use pandas.concat instead.\n",
            "  precip_clean = precip_clean.append(precip)\n",
            "<ipython-input-22-e90a658dad76>:21: FutureWarning: The frame.append method is deprecated and will be removed from pandas in a future version. Use pandas.concat instead.\n",
            "  precip_clean = precip_clean.append(precip_clean_fill)\n",
            "<ipython-input-22-e90a658dad76>:25: FutureWarning: The frame.append method is deprecated and will be removed from pandas in a future version. Use pandas.concat instead.\n",
            "  precip_clean = precip_clean.append(precip)\n",
            "<ipython-input-22-e90a658dad76>:21: FutureWarning: The frame.append method is deprecated and will be removed from pandas in a future version. Use pandas.concat instead.\n",
            "  precip_clean = precip_clean.append(precip_clean_fill)\n",
            "<ipython-input-22-e90a658dad76>:25: FutureWarning: The frame.append method is deprecated and will be removed from pandas in a future version. Use pandas.concat instead.\n",
            "  precip_clean = precip_clean.append(precip)\n",
            "<ipython-input-22-e90a658dad76>:21: FutureWarning: The frame.append method is deprecated and will be removed from pandas in a future version. Use pandas.concat instead.\n",
            "  precip_clean = precip_clean.append(precip_clean_fill)\n",
            "<ipython-input-22-e90a658dad76>:25: FutureWarning: The frame.append method is deprecated and will be removed from pandas in a future version. Use pandas.concat instead.\n",
            "  precip_clean = precip_clean.append(precip)\n"
          ]
        }
      ]
    },
    {
      "cell_type": "code",
      "source": [
        "precip_clean[precip_clean['orig_perm_id']=='8640180']"
      ],
      "metadata": {
        "colab": {
          "base_uri": "https://localhost:8080/",
          "height": 174
        },
        "id": "IX3laLqcibSw",
        "outputId": "0c31a813-f50c-460a-adf5-bcf4c23026da"
      },
      "id": "IX3laLqcibSw",
      "execution_count": 23,
      "outputs": [
        {
          "output_type": "execute_result",
          "data": {
            "text/plain": [
              "      orig_perm_id start_date  WaterQuality  Max Temperature  Precipitation\n",
              "23920      8640180 2017-07-01     -0.459511       299.720001      14.720000\n",
              "23921      8640180 2019-07-01     -0.682684       304.200012       6.200000\n",
              "23922      8640180 2021-07-01     -0.740470       295.899994      28.799999\n",
              "23923      8640180 2023-07-01      0.044621       298.399994       3.600000"
            ],
            "text/html": [
              "\n",
              "  <div id=\"df-31433fc9-6fe9-4811-9202-a3ee43def2a3\" class=\"colab-df-container\">\n",
              "    <div>\n",
              "<style scoped>\n",
              "    .dataframe tbody tr th:only-of-type {\n",
              "        vertical-align: middle;\n",
              "    }\n",
              "\n",
              "    .dataframe tbody tr th {\n",
              "        vertical-align: top;\n",
              "    }\n",
              "\n",
              "    .dataframe thead th {\n",
              "        text-align: right;\n",
              "    }\n",
              "</style>\n",
              "<table border=\"1\" class=\"dataframe\">\n",
              "  <thead>\n",
              "    <tr style=\"text-align: right;\">\n",
              "      <th></th>\n",
              "      <th>orig_perm_id</th>\n",
              "      <th>start_date</th>\n",
              "      <th>WaterQuality</th>\n",
              "      <th>Max Temperature</th>\n",
              "      <th>Precipitation</th>\n",
              "    </tr>\n",
              "  </thead>\n",
              "  <tbody>\n",
              "    <tr>\n",
              "      <th>23920</th>\n",
              "      <td>8640180</td>\n",
              "      <td>2017-07-01</td>\n",
              "      <td>-0.459511</td>\n",
              "      <td>299.720001</td>\n",
              "      <td>14.720000</td>\n",
              "    </tr>\n",
              "    <tr>\n",
              "      <th>23921</th>\n",
              "      <td>8640180</td>\n",
              "      <td>2019-07-01</td>\n",
              "      <td>-0.682684</td>\n",
              "      <td>304.200012</td>\n",
              "      <td>6.200000</td>\n",
              "    </tr>\n",
              "    <tr>\n",
              "      <th>23922</th>\n",
              "      <td>8640180</td>\n",
              "      <td>2021-07-01</td>\n",
              "      <td>-0.740470</td>\n",
              "      <td>295.899994</td>\n",
              "      <td>28.799999</td>\n",
              "    </tr>\n",
              "    <tr>\n",
              "      <th>23923</th>\n",
              "      <td>8640180</td>\n",
              "      <td>2023-07-01</td>\n",
              "      <td>0.044621</td>\n",
              "      <td>298.399994</td>\n",
              "      <td>3.600000</td>\n",
              "    </tr>\n",
              "  </tbody>\n",
              "</table>\n",
              "</div>\n",
              "    <div class=\"colab-df-buttons\">\n",
              "\n",
              "  <div class=\"colab-df-container\">\n",
              "    <button class=\"colab-df-convert\" onclick=\"convertToInteractive('df-31433fc9-6fe9-4811-9202-a3ee43def2a3')\"\n",
              "            title=\"Convert this dataframe to an interactive table.\"\n",
              "            style=\"display:none;\">\n",
              "\n",
              "  <svg xmlns=\"http://www.w3.org/2000/svg\" height=\"24px\" viewBox=\"0 -960 960 960\">\n",
              "    <path d=\"M120-120v-720h720v720H120Zm60-500h600v-160H180v160Zm220 220h160v-160H400v160Zm0 220h160v-160H400v160ZM180-400h160v-160H180v160Zm440 0h160v-160H620v160ZM180-180h160v-160H180v160Zm440 0h160v-160H620v160Z\"/>\n",
              "  </svg>\n",
              "    </button>\n",
              "\n",
              "  <style>\n",
              "    .colab-df-container {\n",
              "      display:flex;\n",
              "      gap: 12px;\n",
              "    }\n",
              "\n",
              "    .colab-df-convert {\n",
              "      background-color: #E8F0FE;\n",
              "      border: none;\n",
              "      border-radius: 50%;\n",
              "      cursor: pointer;\n",
              "      display: none;\n",
              "      fill: #1967D2;\n",
              "      height: 32px;\n",
              "      padding: 0 0 0 0;\n",
              "      width: 32px;\n",
              "    }\n",
              "\n",
              "    .colab-df-convert:hover {\n",
              "      background-color: #E2EBFA;\n",
              "      box-shadow: 0px 1px 2px rgba(60, 64, 67, 0.3), 0px 1px 3px 1px rgba(60, 64, 67, 0.15);\n",
              "      fill: #174EA6;\n",
              "    }\n",
              "\n",
              "    .colab-df-buttons div {\n",
              "      margin-bottom: 4px;\n",
              "    }\n",
              "\n",
              "    [theme=dark] .colab-df-convert {\n",
              "      background-color: #3B4455;\n",
              "      fill: #D2E3FC;\n",
              "    }\n",
              "\n",
              "    [theme=dark] .colab-df-convert:hover {\n",
              "      background-color: #434B5C;\n",
              "      box-shadow: 0px 1px 3px 1px rgba(0, 0, 0, 0.15);\n",
              "      filter: drop-shadow(0px 1px 2px rgba(0, 0, 0, 0.3));\n",
              "      fill: #FFFFFF;\n",
              "    }\n",
              "  </style>\n",
              "\n",
              "    <script>\n",
              "      const buttonEl =\n",
              "        document.querySelector('#df-31433fc9-6fe9-4811-9202-a3ee43def2a3 button.colab-df-convert');\n",
              "      buttonEl.style.display =\n",
              "        google.colab.kernel.accessAllowed ? 'block' : 'none';\n",
              "\n",
              "      async function convertToInteractive(key) {\n",
              "        const element = document.querySelector('#df-31433fc9-6fe9-4811-9202-a3ee43def2a3');\n",
              "        const dataTable =\n",
              "          await google.colab.kernel.invokeFunction('convertToInteractive',\n",
              "                                                    [key], {});\n",
              "        if (!dataTable) return;\n",
              "\n",
              "        const docLinkHtml = 'Like what you see? Visit the ' +\n",
              "          '<a target=\"_blank\" href=https://colab.research.google.com/notebooks/data_table.ipynb>data table notebook</a>'\n",
              "          + ' to learn more about interactive tables.';\n",
              "        element.innerHTML = '';\n",
              "        dataTable['output_type'] = 'display_data';\n",
              "        await google.colab.output.renderOutput(dataTable, element);\n",
              "        const docLink = document.createElement('div');\n",
              "        docLink.innerHTML = docLinkHtml;\n",
              "        element.appendChild(docLink);\n",
              "      }\n",
              "    </script>\n",
              "  </div>\n",
              "\n",
              "\n",
              "<div id=\"df-0311ba48-22eb-464d-9889-c3f20f7b68c7\">\n",
              "  <button class=\"colab-df-quickchart\" onclick=\"quickchart('df-0311ba48-22eb-464d-9889-c3f20f7b68c7')\"\n",
              "            title=\"Suggest charts.\"\n",
              "            style=\"display:none;\">\n",
              "\n",
              "<svg xmlns=\"http://www.w3.org/2000/svg\" height=\"24px\"viewBox=\"0 0 24 24\"\n",
              "     width=\"24px\">\n",
              "    <g>\n",
              "        <path d=\"M19 3H5c-1.1 0-2 .9-2 2v14c0 1.1.9 2 2 2h14c1.1 0 2-.9 2-2V5c0-1.1-.9-2-2-2zM9 17H7v-7h2v7zm4 0h-2V7h2v10zm4 0h-2v-4h2v4z\"/>\n",
              "    </g>\n",
              "</svg>\n",
              "  </button>\n",
              "\n",
              "<style>\n",
              "  .colab-df-quickchart {\n",
              "      --bg-color: #E8F0FE;\n",
              "      --fill-color: #1967D2;\n",
              "      --hover-bg-color: #E2EBFA;\n",
              "      --hover-fill-color: #174EA6;\n",
              "      --disabled-fill-color: #AAA;\n",
              "      --disabled-bg-color: #DDD;\n",
              "  }\n",
              "\n",
              "  [theme=dark] .colab-df-quickchart {\n",
              "      --bg-color: #3B4455;\n",
              "      --fill-color: #D2E3FC;\n",
              "      --hover-bg-color: #434B5C;\n",
              "      --hover-fill-color: #FFFFFF;\n",
              "      --disabled-bg-color: #3B4455;\n",
              "      --disabled-fill-color: #666;\n",
              "  }\n",
              "\n",
              "  .colab-df-quickchart {\n",
              "    background-color: var(--bg-color);\n",
              "    border: none;\n",
              "    border-radius: 50%;\n",
              "    cursor: pointer;\n",
              "    display: none;\n",
              "    fill: var(--fill-color);\n",
              "    height: 32px;\n",
              "    padding: 0;\n",
              "    width: 32px;\n",
              "  }\n",
              "\n",
              "  .colab-df-quickchart:hover {\n",
              "    background-color: var(--hover-bg-color);\n",
              "    box-shadow: 0 1px 2px rgba(60, 64, 67, 0.3), 0 1px 3px 1px rgba(60, 64, 67, 0.15);\n",
              "    fill: var(--button-hover-fill-color);\n",
              "  }\n",
              "\n",
              "  .colab-df-quickchart-complete:disabled,\n",
              "  .colab-df-quickchart-complete:disabled:hover {\n",
              "    background-color: var(--disabled-bg-color);\n",
              "    fill: var(--disabled-fill-color);\n",
              "    box-shadow: none;\n",
              "  }\n",
              "\n",
              "  .colab-df-spinner {\n",
              "    border: 2px solid var(--fill-color);\n",
              "    border-color: transparent;\n",
              "    border-bottom-color: var(--fill-color);\n",
              "    animation:\n",
              "      spin 1s steps(1) infinite;\n",
              "  }\n",
              "\n",
              "  @keyframes spin {\n",
              "    0% {\n",
              "      border-color: transparent;\n",
              "      border-bottom-color: var(--fill-color);\n",
              "      border-left-color: var(--fill-color);\n",
              "    }\n",
              "    20% {\n",
              "      border-color: transparent;\n",
              "      border-left-color: var(--fill-color);\n",
              "      border-top-color: var(--fill-color);\n",
              "    }\n",
              "    30% {\n",
              "      border-color: transparent;\n",
              "      border-left-color: var(--fill-color);\n",
              "      border-top-color: var(--fill-color);\n",
              "      border-right-color: var(--fill-color);\n",
              "    }\n",
              "    40% {\n",
              "      border-color: transparent;\n",
              "      border-right-color: var(--fill-color);\n",
              "      border-top-color: var(--fill-color);\n",
              "    }\n",
              "    60% {\n",
              "      border-color: transparent;\n",
              "      border-right-color: var(--fill-color);\n",
              "    }\n",
              "    80% {\n",
              "      border-color: transparent;\n",
              "      border-right-color: var(--fill-color);\n",
              "      border-bottom-color: var(--fill-color);\n",
              "    }\n",
              "    90% {\n",
              "      border-color: transparent;\n",
              "      border-bottom-color: var(--fill-color);\n",
              "    }\n",
              "  }\n",
              "</style>\n",
              "\n",
              "  <script>\n",
              "    async function quickchart(key) {\n",
              "      const quickchartButtonEl =\n",
              "        document.querySelector('#' + key + ' button');\n",
              "      quickchartButtonEl.disabled = true;  // To prevent multiple clicks.\n",
              "      quickchartButtonEl.classList.add('colab-df-spinner');\n",
              "      try {\n",
              "        const charts = await google.colab.kernel.invokeFunction(\n",
              "            'suggestCharts', [key], {});\n",
              "      } catch (error) {\n",
              "        console.error('Error during call to suggestCharts:', error);\n",
              "      }\n",
              "      quickchartButtonEl.classList.remove('colab-df-spinner');\n",
              "      quickchartButtonEl.classList.add('colab-df-quickchart-complete');\n",
              "    }\n",
              "    (() => {\n",
              "      let quickchartButtonEl =\n",
              "        document.querySelector('#df-0311ba48-22eb-464d-9889-c3f20f7b68c7 button');\n",
              "      quickchartButtonEl.style.display =\n",
              "        google.colab.kernel.accessAllowed ? 'block' : 'none';\n",
              "    })();\n",
              "  </script>\n",
              "</div>\n",
              "\n",
              "    </div>\n",
              "  </div>\n"
            ]
          },
          "metadata": {},
          "execution_count": 23
        }
      ]
    },
    {
      "cell_type": "code",
      "source": [
        "len(df_merge)"
      ],
      "metadata": {
        "colab": {
          "base_uri": "https://localhost:8080/"
        },
        "id": "P2j9cGixo3NK",
        "outputId": "75b9e926-75cd-4ea8-996c-fcb2c0f73b62"
      },
      "id": "P2j9cGixo3NK",
      "execution_count": 24,
      "outputs": [
        {
          "output_type": "execute_result",
          "data": {
            "text/plain": [
              "40040"
            ]
          },
          "metadata": {},
          "execution_count": 24
        }
      ]
    },
    {
      "cell_type": "code",
      "source": [
        "df_merge_all = pd.merge(df_merge, precip_clean[['WaterQuality', 'orig_perm_id', 'start_date', 'Max Temperature', 'Precipitation']],  how='left', left_on=['orig_perm_id', 'start_date'], right_on = ['orig_perm_id', 'start_date'])"
      ],
      "metadata": {
        "id": "CNmEzggR1kR4"
      },
      "id": "CNmEzggR1kR4",
      "execution_count": 25,
      "outputs": []
    },
    {
      "cell_type": "code",
      "source": [
        "for i in df_merge_all.columns:\n",
        "    if df_merge_all[i].isna().sum() > 0:\n",
        "        print('{} has {}% NAs'.format(i,(df_merge_all[i].isna().sum() / len(df_merge_all))*100))"
      ],
      "metadata": {
        "id": "zWU09UWnrTKE",
        "outputId": "d845107d-ecd6-4975-ddc1-eb4472a1a887",
        "colab": {
          "base_uri": "https://localhost:8080/"
        }
      },
      "id": "zWU09UWnrTKE",
      "execution_count": 27,
      "outputs": [
        {
          "output_type": "stream",
          "name": "stdout",
          "text": [
            "orig_perm_id has 22.918227683700483% NAs\n",
            "company has 71.04750487037315% NAs\n",
            "coalmine_op_status has 42.80933113542135% NAs\n",
            "mine_name has 84.27993406264049% NAs\n",
            "permit_id has 47.6172635995804% NAs\n",
            "national_id has 42.80933113542135% NAs\n",
            "coal_bed_names has 75.8579349617863% NAs\n",
            "inspectable_unit_status has 56.99335631150407% NAs\n",
            "post_smcra has 42.824316898946% NAs\n",
            "reported_area has 100.0% NAs\n",
            "permit_application_type has 99.99000949098357% NAs\n",
            "area_mine has 51.228832609021424% NAs\n",
            "contour has 51.228832609021424% NAs\n",
            "mountaintop has 51.228832609021424% NAs\n",
            "steep_slope has 51.228832609021424% NAs\n",
            "highwall has 58.097307557820066% NAs\n",
            "auger has 51.228832609021424% NAs\n",
            "contact has 42.80933113542135% NAs\n",
            "Number_company_to_permit_id has 47.6172635995804% NAs\n",
            "edit_month has 42.80933113542135% NAs\n",
            "edit_year has 42.80933113542135% NAs\n",
            "permit_weekday has 47.74714021679405% NAs\n",
            "permit_approval_month has 42.80933113542135% NAs\n",
            "permit_approval_year has 42.80933113542135% NAs\n",
            "permit_application_year has 42.80933113542135% NAs\n",
            "WaterQuality has 33.75293471202358% NAs\n",
            "Max Temperature has 33.74544183026125% NAs\n",
            "Precipitation has 33.74544183026125% NAs\n"
          ]
        }
      ]
    },
    {
      "cell_type": "code",
      "source": [
        "\n",
        "# Read the GeoJSON file\n",
        "ky = gpd.read_file('/content/drive/MyDrive/KY_Released_mines.geojson')\n",
        "\n",
        "# Read data using GeoPandas\n",
        "print(\"Data dimensions: {}\".format(mines.shape))\n",
        "columns = ['id', 'QUAD_DESC', 'Type_Flag', 'PER_TYPE', 'Source', 'MINE_STATU', 'FeatCLS', 'REGION_DES']\n",
        "ky=ky[columns]\n",
        "ky['State_alt']='ky'\n",
        "\n",
        "tn = gpd.read_file('/content/drive/MyDrive/TN_Released_mines.geojson')\n",
        "\n",
        "# Read data using GeoPandas\n",
        "print(\"Data dimensions: {}\".format(mines.shape))\n",
        "columns = ['id', 'national_i', 'Shape_Area', 'permit_a_2']\n",
        "tn=tn[columns]\n",
        "tn['State_alt']='tn'\n",
        "\n",
        "wv = gpd.read_file('/content/drive/MyDrive/WV_Released_mines.geojson')\n",
        "\n",
        "# Read data using GeoPandas\n",
        "print(\"Data dimensions: {}\".format(mines.shape))\n",
        "columns = ['id', 'ACRES_CURR', 'ACRES_DIST', 'ACRES_ORIG','ACRES_CURR', 'ACRES_RECL', 'EXPIRE_DAT', 'FACILITY_N', 'MAPTYPE', 'OPERATOR', 'PMLU2']\n",
        "wv=wv[columns]\n",
        "wv['State_alt']='wv'\n"
      ],
      "metadata": {
        "id": "uz2YuDjwkhhE",
        "colab": {
          "base_uri": "https://localhost:8080/"
        },
        "outputId": "d9eddc7a-455c-416a-e39a-cf168ff0933c"
      },
      "id": "uz2YuDjwkhhE",
      "execution_count": 26,
      "outputs": [
        {
          "output_type": "stream",
          "name": "stdout",
          "text": [
            "Data dimensions: (21930, 25)\n",
            "Data dimensions: (21930, 25)\n",
            "Data dimensions: (21930, 25)\n"
          ]
        }
      ]
    },
    {
      "cell_type": "code",
      "source": [
        "ky = pd.merge(df_merge_all, ky,  how='inner', left_on=['mine_id', 'State'], right_on = ['id', 'State_alt']).drop_duplicates()\n",
        "tn = pd.merge(df_merge_all, tn,  how='inner', left_on=['mine_id', 'State'], right_on = ['id', 'State_alt']).drop_duplicates()\n",
        "wv = pd.merge(df_merge_all, wv,  how='inner', left_on=['mine_id', 'State'], right_on = ['id', 'State_alt']).drop_duplicates()"
      ],
      "metadata": {
        "id": "1732ZE1_A4Cj"
      },
      "id": "1732ZE1_A4Cj",
      "execution_count": 27,
      "outputs": []
    },
    {
      "cell_type": "code",
      "source": [
        "columns_to_drop = ['Unnamed: 0', 'State_alt', 'State_alt_y', 'id_x','id_y','State_alt_x']\n",
        "all_mines = ky.sort_values(by=['mine_id', 'start_date']).reset_index()\n",
        "all_mines = all_mines.drop(columns = 'index')\n",
        "all_mines['edit_year'] = all_mines['edit_year'].astype(str)\n",
        "all_mines['edit_year'] = all_mines['edit_year'].str.replace('.0','')\n",
        "all_mines['edit_year'] = all_mines['edit_year'].astype(object)"
      ],
      "metadata": {
        "colab": {
          "base_uri": "https://localhost:8080/"
        },
        "id": "0Lt-iW4x--YK",
        "outputId": "04da3de8-bff2-471c-982b-b56b2d3759f7"
      },
      "id": "0Lt-iW4x--YK",
      "execution_count": 28,
      "outputs": [
        {
          "output_type": "stream",
          "name": "stderr",
          "text": [
            "<ipython-input-28-8ffd7d9cd68d>:5: FutureWarning: The default value of regex will change from True to False in a future version.\n",
            "  all_mines['edit_year'] = all_mines['edit_year'].str.replace('.0','')\n"
          ]
        }
      ]
    },
    {
      "cell_type": "code",
      "source": [
        "from sklearn.preprocessing import MinMaxScaler\n",
        "\n",
        "columns_to_encode = [ 'start_date', 'Company','mine_name', 'State','permit_application_year', 'imputation', 'permit_approval_year', 'permit_approval_month', 'edit_year', 'edit_month', 'permit_weekday', 'QUAD_DESC', 'Type_Flag', 'PER_TYPE', 'Source', 'MINE_STATU', 'FeatCLS', 'REGION_DES']\n",
        "all_mines_encoded = pd.get_dummies(all_mines[columns_to_encode], columns=columns_to_encode)\n",
        "\n",
        "column_to_exclude = ['mine_name','permit_id','trees', 'water', 'snow_and_ice','grass','bare', 'built', 'shrub_and_scrub', 'crops', 'flooded_vegetation']\n",
        "\n",
        "#one hot encoding categorical variables for model\n",
        "cols = all_mines.columns\n",
        "num_cols = all_mines._get_numeric_data().columns\n",
        "num_cols =list(set(num_cols) - set(column_to_exclude))\n",
        "num_cols =list(set(num_cols) - set(columns_to_encode))\n",
        "\n",
        "#creating dataframe of numeric columns\n",
        "scaler = MinMaxScaler(feature_range = (0, 1))\n",
        "num_df = scaler.fit_transform(all_mines[num_cols])\n",
        "num_df =pd.DataFrame(num_df,columns=all_mines[num_cols].columns, index=all_mines[num_cols].index)\n",
        "\n",
        "all_mines_encoded = pd.merge(all_mines_encoded, num_df, left_index=True, right_index=True)\n",
        "\n",
        "all_mines_encoded = pd.merge(all_mines[column_to_exclude], all_mines_encoded, left_index=True, right_index=True)\n",
        "\n",
        "#very quick imputation\n",
        "all_mines_encoded = all_mines_encoded.fillna(0)"
      ],
      "metadata": {
        "colab": {
          "base_uri": "https://localhost:8080/"
        },
        "id": "MQc6Iw2U7KKj",
        "outputId": "84c44f28-3900-4316-8335-57386faca35a"
      },
      "id": "MQc6Iw2U7KKj",
      "execution_count": 29,
      "outputs": [
        {
          "output_type": "stream",
          "name": "stderr",
          "text": [
            "/usr/local/lib/python3.10/dist-packages/sklearn/preprocessing/_data.py:473: RuntimeWarning: All-NaN slice encountered\n",
            "  data_min = np.nanmin(X, axis=0)\n",
            "/usr/local/lib/python3.10/dist-packages/sklearn/preprocessing/_data.py:474: RuntimeWarning: All-NaN slice encountered\n",
            "  data_max = np.nanmax(X, axis=0)\n"
          ]
        }
      ]
    },
    {
      "cell_type": "code",
      "source": [
        "columns = all_mines_encoded.columns\n",
        "column_to_exclude = ['mine_name','permit_id','trees', 'water', 'snow_and_ice','grass','bare', 'flooded_vegetation', 'built', 'shrub_and_scrub', 'crops']\n",
        "columns = list(set(columns) - set(column_to_exclude))\n",
        "selected_columns = all_mines_encoded[columns]\n",
        "\n",
        "sequence_length=4\n",
        "\n",
        "features = all_mines_encoded[columns]\n",
        "target = all_mines_encoded['trees']"
      ],
      "metadata": {
        "id": "zxdWQHnI7QYH"
      },
      "id": "zxdWQHnI7QYH",
      "execution_count": 30,
      "outputs": []
    },
    {
      "cell_type": "code",
      "source": [
        "from sklearn.model_selection import cross_val_predict\n",
        "from sklearn.ensemble import RandomForestRegressor\n",
        "from sklearn.model_selection import train_test_split\n",
        "from sklearn.metrics import mean_squared_error, mean_absolute_error, r2_score\n"
      ],
      "metadata": {
        "id": "MvOELUJv3Sj7"
      },
      "id": "MvOELUJv3Sj7",
      "execution_count": 32,
      "outputs": []
    },
    {
      "cell_type": "code",
      "source": [
        "features['mine_id']=ky['mine_id']\n",
        "\n",
        "X_trainrf, X_testrf, y_trainrf, y_testrf = train_test_split(features, target, test_size=0.3,  random_state=0, stratify=features['mine_id'])"
      ],
      "metadata": {
        "colab": {
          "base_uri": "https://localhost:8080/"
        },
        "id": "sNgQPKXHFJid",
        "outputId": "1af90eee-44ca-410b-ac92-f69ec1d4334a"
      },
      "id": "sNgQPKXHFJid",
      "execution_count": 86,
      "outputs": [
        {
          "output_type": "stream",
          "name": "stderr",
          "text": [
            "<ipython-input-86-6bed13db1a7f>:1: SettingWithCopyWarning: \n",
            "A value is trying to be set on a copy of a slice from a DataFrame.\n",
            "Try using .loc[row_indexer,col_indexer] = value instead\n",
            "\n",
            "See the caveats in the documentation: https://pandas.pydata.org/pandas-docs/stable/user_guide/indexing.html#returning-a-view-versus-a-copy\n",
            "  features['mine_id']=ky['mine_id']\n"
          ]
        }
      ]
    },
    {
      "cell_type": "code",
      "source": [
        "X_trainrf = X_trainrf[columns]\n",
        "X_testrf = X_testrf[columns]"
      ],
      "metadata": {
        "id": "EImF8W2oGrS7"
      },
      "id": "EImF8W2oGrS7",
      "execution_count": 89,
      "outputs": []
    },
    {
      "cell_type": "code",
      "source": [
        "from sklearn.model_selection import StratifiedKFold, GridSearchCV\n",
        "skf = StratifiedKFold(n_splits=10,random_state=807,shuffle=True)\n",
        "skf.get_n_splits(features,target)\n",
        "\n",
        "rf = RandomForestRegressor(random_state=0,criterion='squared_error')\n",
        "params = {'n_estimators':[100, 200],'max_features':['sqrt','log2',20]}\n",
        "rf_clf = GridSearchCV(rf,param_grid=params,cv=skf,n_jobs = -1)\n",
        ""
      ],
      "metadata": {
        "id": "3yWPNkKH0q_n"
      },
      "id": "3yWPNkKH0q_n",
      "execution_count": 102,
      "outputs": []
    },
    {
      "cell_type": "code",
      "source": [
        "rf.fit(X_trainrf, y_trainrf)"
      ],
      "metadata": {
        "colab": {
          "base_uri": "https://localhost:8080/",
          "height": 74
        },
        "id": "zclQSEYkJYA0",
        "outputId": "02c67b5a-8896-4594-cd9e-e8408a72d33a"
      },
      "id": "zclQSEYkJYA0",
      "execution_count": 103,
      "outputs": [
        {
          "data": {
            "text/html": [
              "<style>#sk-container-id-2 {color: black;background-color: white;}#sk-container-id-2 pre{padding: 0;}#sk-container-id-2 div.sk-toggleable {background-color: white;}#sk-container-id-2 label.sk-toggleable__label {cursor: pointer;display: block;width: 100%;margin-bottom: 0;padding: 0.3em;box-sizing: border-box;text-align: center;}#sk-container-id-2 label.sk-toggleable__label-arrow:before {content: \"▸\";float: left;margin-right: 0.25em;color: #696969;}#sk-container-id-2 label.sk-toggleable__label-arrow:hover:before {color: black;}#sk-container-id-2 div.sk-estimator:hover label.sk-toggleable__label-arrow:before {color: black;}#sk-container-id-2 div.sk-toggleable__content {max-height: 0;max-width: 0;overflow: hidden;text-align: left;background-color: #f0f8ff;}#sk-container-id-2 div.sk-toggleable__content pre {margin: 0.2em;color: black;border-radius: 0.25em;background-color: #f0f8ff;}#sk-container-id-2 input.sk-toggleable__control:checked~div.sk-toggleable__content {max-height: 200px;max-width: 100%;overflow: auto;}#sk-container-id-2 input.sk-toggleable__control:checked~label.sk-toggleable__label-arrow:before {content: \"▾\";}#sk-container-id-2 div.sk-estimator input.sk-toggleable__control:checked~label.sk-toggleable__label {background-color: #d4ebff;}#sk-container-id-2 div.sk-label input.sk-toggleable__control:checked~label.sk-toggleable__label {background-color: #d4ebff;}#sk-container-id-2 input.sk-hidden--visually {border: 0;clip: rect(1px 1px 1px 1px);clip: rect(1px, 1px, 1px, 1px);height: 1px;margin: -1px;overflow: hidden;padding: 0;position: absolute;width: 1px;}#sk-container-id-2 div.sk-estimator {font-family: monospace;background-color: #f0f8ff;border: 1px dotted black;border-radius: 0.25em;box-sizing: border-box;margin-bottom: 0.5em;}#sk-container-id-2 div.sk-estimator:hover {background-color: #d4ebff;}#sk-container-id-2 div.sk-parallel-item::after {content: \"\";width: 100%;border-bottom: 1px solid gray;flex-grow: 1;}#sk-container-id-2 div.sk-label:hover label.sk-toggleable__label {background-color: #d4ebff;}#sk-container-id-2 div.sk-serial::before {content: \"\";position: absolute;border-left: 1px solid gray;box-sizing: border-box;top: 0;bottom: 0;left: 50%;z-index: 0;}#sk-container-id-2 div.sk-serial {display: flex;flex-direction: column;align-items: center;background-color: white;padding-right: 0.2em;padding-left: 0.2em;position: relative;}#sk-container-id-2 div.sk-item {position: relative;z-index: 1;}#sk-container-id-2 div.sk-parallel {display: flex;align-items: stretch;justify-content: center;background-color: white;position: relative;}#sk-container-id-2 div.sk-item::before, #sk-container-id-2 div.sk-parallel-item::before {content: \"\";position: absolute;border-left: 1px solid gray;box-sizing: border-box;top: 0;bottom: 0;left: 50%;z-index: -1;}#sk-container-id-2 div.sk-parallel-item {display: flex;flex-direction: column;z-index: 1;position: relative;background-color: white;}#sk-container-id-2 div.sk-parallel-item:first-child::after {align-self: flex-end;width: 50%;}#sk-container-id-2 div.sk-parallel-item:last-child::after {align-self: flex-start;width: 50%;}#sk-container-id-2 div.sk-parallel-item:only-child::after {width: 0;}#sk-container-id-2 div.sk-dashed-wrapped {border: 1px dashed gray;margin: 0 0.4em 0.5em 0.4em;box-sizing: border-box;padding-bottom: 0.4em;background-color: white;}#sk-container-id-2 div.sk-label label {font-family: monospace;font-weight: bold;display: inline-block;line-height: 1.2em;}#sk-container-id-2 div.sk-label-container {text-align: center;}#sk-container-id-2 div.sk-container {/* jupyter's `normalize.less` sets `[hidden] { display: none; }` but bootstrap.min.css set `[hidden] { display: none !important; }` so we also need the `!important` here to be able to override the default hidden behavior on the sphinx rendered scikit-learn.org. See: https://github.com/scikit-learn/scikit-learn/issues/21755 */display: inline-block !important;position: relative;}#sk-container-id-2 div.sk-text-repr-fallback {display: none;}</style><div id=\"sk-container-id-2\" class=\"sk-top-container\"><div class=\"sk-text-repr-fallback\"><pre>RandomForestRegressor(random_state=0)</pre><b>In a Jupyter environment, please rerun this cell to show the HTML representation or trust the notebook. <br />On GitHub, the HTML representation is unable to render, please try loading this page with nbviewer.org.</b></div><div class=\"sk-container\" hidden><div class=\"sk-item\"><div class=\"sk-estimator sk-toggleable\"><input class=\"sk-toggleable__control sk-hidden--visually\" id=\"sk-estimator-id-2\" type=\"checkbox\" checked><label for=\"sk-estimator-id-2\" class=\"sk-toggleable__label sk-toggleable__label-arrow\">RandomForestRegressor</label><div class=\"sk-toggleable__content\"><pre>RandomForestRegressor(random_state=0)</pre></div></div></div></div></div>"
            ],
            "text/plain": [
              "RandomForestRegressor(random_state=0)"
            ]
          },
          "execution_count": 103,
          "metadata": {},
          "output_type": "execute_result"
        }
      ]
    },
    {
      "cell_type": "code",
      "source": [
        "rf_pred=rf.predict(X_testrf)"
      ],
      "metadata": {
        "id": "GRHlAsaoHLf0"
      },
      "id": "GRHlAsaoHLf0",
      "execution_count": 104,
      "outputs": []
    },
    {
      "cell_type": "code",
      "source": [
        "len(rf_pred)"
      ],
      "metadata": {
        "colab": {
          "base_uri": "https://localhost:8080/"
        },
        "id": "NPutqfjLIu7V",
        "outputId": "a8041947-23ca-4afb-f01d-c4f146d3946c"
      },
      "id": "NPutqfjLIu7V",
      "execution_count": 105,
      "outputs": [
        {
          "data": {
            "text/plain": [
              "10099"
            ]
          },
          "execution_count": 105,
          "metadata": {},
          "output_type": "execute_result"
        }
      ]
    },
    {
      "cell_type": "code",
      "source": [
        "mse = mean_squared_error(y_testrf, rf_pred)\n",
        "mae = mean_absolute_error(y_testrf, rf_pred)\n",
        "r2 = r2_score(y_testrf, rf_pred)\n",
        "\n",
        "print('\\nMean Squared Error (MSE):', mse)\n",
        "print('Mean Absolute Error (MAE):', mae)\n",
        "print('R-squared (R^2):', r2)"
      ],
      "metadata": {
        "colab": {
          "base_uri": "https://localhost:8080/"
        },
        "id": "2ZRb9L1hHKEr",
        "outputId": "d192a248-c353-48ec-ea8d-2da5b0c75147"
      },
      "id": "2ZRb9L1hHKEr",
      "execution_count": 106,
      "outputs": [
        {
          "metadata": {
            "tags": null
          },
          "name": "stdout",
          "output_type": "stream",
          "text": [
            "\n",
            "Mean Squared Error (MSE): 0.007530396608721482\n",
            "Mean Absolute Error (MAE): 0.053482835696606855\n",
            "R-squared (R^2): 0.5260107663272566\n"
          ]
        }
      ]
    },
    {
      "cell_type": "code",
      "source": [
        "import seaborn as sns\n",
        "import matplotlib.pyplot as plt\n",
        "\n",
        "feature_importance =rf.feature_importances_\n",
        "\n",
        "forest_importances = pd.Series(feature_importance, index=selected_columns.columns)\n",
        "forest_importances = pd.DataFrame(forest_importances)\n",
        "\n",
        "idx = forest_importances[0].sort_values(ascending = False).head(30).index\n",
        "forest_importances2 = forest_importances.loc[idx]\n",
        "data=forest_importances2.reset_index()\n",
        "\n",
        "plt.style.use('ggplot')\n",
        "plt.figure(figsize = (15,8))\n",
        "sns.barplot(x=0, y='index', data=data).set(title='Feature Importance from Random Forest')"
      ],
      "metadata": {
        "colab": {
          "base_uri": "https://localhost:8080/",
          "height": 592
        },
        "id": "I7oE19nxG8BU",
        "outputId": "f16ee055-f6f9-4cd8-ced7-94ec3cc293e1"
      },
      "id": "I7oE19nxG8BU",
      "execution_count": 95,
      "outputs": [
        {
          "output_type": "execute_result",
          "data": {
            "text/plain": [
              "[Text(0.5, 1.0, 'Feature Importance from Random Forest')]"
            ]
          },
          "metadata": {},
          "execution_count": 95
        },
        {
          "output_type": "display_data",
          "data": {
            "text/plain": [
              "<Figure size 1500x800 with 1 Axes>"
            ],
            "image/png": "[encoded data removed]"
          },
          "metadata": {}
        }
      ]
    },
    {
      "cell_type": "code",
      "source": [
        "import tensorflow as tf\n",
        "from tensorflow.keras.models import Sequential\n",
        "from tensorflow.keras.layers import SimpleRNN, Dense\n",
        "from keras.layers import LSTM\n",
        "from keras.layers import Dropout"
      ],
      "metadata": {
        "id": "ARPnPFkfH2_j"
      },
      "id": "ARPnPFkfH2_j",
      "execution_count": 39,
      "outputs": []
    },
    {
      "cell_type": "code",
      "source": [
        "columns = all_mines_encoded.columns\n",
        "column_to_exclude = ['mine_name','permit_id','trees', 'water', 'snow_and_ice','grass','bare', 'flooded_vegetation', 'built', 'shrub_and_scrub', 'crops']\n",
        "columns = list(set(columns) - set(column_to_exclude))\n",
        "selected_columns = all_mines_encoded[columns]\n",
        "\n",
        "sequence_length=4\n",
        "\n",
        "features = all_mines_encoded[columns]\n",
        "\n",
        "target = all_mines_encoded['trees']\n",
        "X, y, y_index = [], [], []\n",
        "for i in range(len(features) - sequence_length):\n",
        "\n",
        "   X.append(features.iloc[i:i + sequence_length].values)\n",
        "   y.append(target.iloc[i + sequence_length])\n",
        "   i=i+sequence_length\n",
        "\n",
        "X=np.array(X)\n",
        "y=np.array(y)\n",
        "\n",
        "features['mine_id']=ky['mine_id']\n",
        "\n",
        "for i in range(len(features) - sequence_length):\n",
        "   y_index.append(features.mine_id.iloc[i + sequence_length])\n",
        "   i=i+sequence_length\n",
        "\n",
        "y_index=np.array(y_index)"
      ],
      "metadata": {
        "colab": {
          "base_uri": "https://localhost:8080/"
        },
        "id": "xfRoiTLPHO6i",
        "outputId": "bd562495-1619-4607-ca32-41234fb118f9"
      },
      "id": "xfRoiTLPHO6i",
      "execution_count": 76,
      "outputs": [
        {
          "output_type": "stream",
          "name": "stderr",
          "text": [
            "<ipython-input-76-7abfb081d9ba>:21: SettingWithCopyWarning: \n",
            "A value is trying to be set on a copy of a slice from a DataFrame.\n",
            "Try using .loc[row_indexer,col_indexer] = value instead\n",
            "\n",
            "See the caveats in the documentation: https://pandas.pydata.org/pandas-docs/stable/user_guide/indexing.html#returning-a-view-versus-a-copy\n",
            "  features['mine_id']=ky['mine_id']\n"
          ]
        }
      ]
    },
    {
      "cell_type": "code",
      "source": [],
      "metadata": {
        "id": "3SNbwnRiqHeO"
      },
      "id": "3SNbwnRiqHeO",
      "execution_count": null,
      "outputs": []
    },
    {
      "cell_type": "code",
      "source": [
        "X_train, X_test, y_train, y_test = train_test_split(X, y, test_size=0.3,  random_state=0, stratify=y_index)"
      ],
      "metadata": {
        "id": "u4CqKpN-U61j"
      },
      "id": "u4CqKpN-U61j",
      "execution_count": 79,
      "outputs": []
    },
    {
      "cell_type": "code",
      "source": [
        "\n",
        "\n",
        "file_name = 'features.csv'\n",
        "from google.colab import files\n",
        "features.to_csv(file_name, encoding = 'utf-8-sig')\n",
        "files.download(file_name)\n",
        ""
      ],
      "metadata": {
        "id": "AYuxpl1OqzsA",
        "outputId": "4ce39d2b-977c-4df9-cffb-56191f57f92b",
        "colab": {
          "base_uri": "https://localhost:8080/",
          "height": 17
        }
      },
      "id": "AYuxpl1OqzsA",
      "execution_count": 84,
      "outputs": [
        {
          "output_type": "display_data",
          "data": {
            "text/plain": [
              "<IPython.core.display.Javascript object>"
            ],
            "application/javascript": [
              "\n",
              "    async function download(id, filename, size) {\n",
              "      if (!google.colab.kernel.accessAllowed) {\n",
              "        return;\n",
              "      }\n",
              "      const div = document.createElement('div');\n",
              "      const label = document.createElement('label');\n",
              "      label.textContent = `Downloading \"${filename}\": `;\n",
              "      div.appendChild(label);\n",
              "      const progress = document.createElement('progress');\n",
              "      progress.max = size;\n",
              "      div.appendChild(progress);\n",
              "      document.body.appendChild(div);\n",
              "\n",
              "      const buffers = [];\n",
              "      let downloaded = 0;\n",
              "\n",
              "      const channel = await google.colab.kernel.comms.open(id);\n",
              "      // Send a message to notify the kernel that we're ready.\n",
              "      channel.send({})\n",
              "\n",
              "      for await (const message of channel.messages) {\n",
              "        // Send a message to notify the kernel that we're ready.\n",
              "        channel.send({})\n",
              "        if (message.buffers) {\n",
              "          for (const buffer of message.buffers) {\n",
              "            buffers.push(buffer);\n",
              "            downloaded += buffer.byteLength;\n",
              "            progress.value = downloaded;\n",
              "          }\n",
              "        }\n",
              "      }\n",
              "      const blob = new Blob(buffers, {type: 'application/binary'});\n",
              "      const a = document.createElement('a');\n",
              "      a.href = window.URL.createObjectURL(blob);\n",
              "      a.download = filename;\n",
              "      div.appendChild(a);\n",
              "      a.click();\n",
              "      div.remove();\n",
              "    }\n",
              "  "
            ]
          },
          "metadata": {}
        },
        {
          "output_type": "display_data",
          "data": {
            "text/plain": [
              "<IPython.core.display.Javascript object>"
            ],
            "application/javascript": [
              "download(\"download_ac141684-fdd7-468d-a688-054dc7b1240c\", \"features.csv\", 234060020)"
            ]
          },
          "metadata": {}
        }
      ]
    },
    {
      "cell_type": "code",
      "source": [
        "\n",
        "\n",
        "file_name = 'target.csv'\n",
        "from google.colab import files\n",
        "target.to_csv(file_name, encoding = 'utf-8-sig')\n",
        "files.download(file_name)"
      ],
      "metadata": {
        "id": "IJSWdKtXrG8e",
        "outputId": "284a40d3-fbd1-4c54-93c4-3392d91b08bd",
        "colab": {
          "base_uri": "https://localhost:8080/",
          "height": 17
        }
      },
      "id": "IJSWdKtXrG8e",
      "execution_count": 85,
      "outputs": [
        {
          "output_type": "display_data",
          "data": {
            "text/plain": [
              "<IPython.core.display.Javascript object>"
            ],
            "application/javascript": [
              "\n",
              "    async function download(id, filename, size) {\n",
              "      if (!google.colab.kernel.accessAllowed) {\n",
              "        return;\n",
              "      }\n",
              "      const div = document.createElement('div');\n",
              "      const label = document.createElement('label');\n",
              "      label.textContent = `Downloading \"${filename}\": `;\n",
              "      div.appendChild(label);\n",
              "      const progress = document.createElement('progress');\n",
              "      progress.max = size;\n",
              "      div.appendChild(progress);\n",
              "      document.body.appendChild(div);\n",
              "\n",
              "      const buffers = [];\n",
              "      let downloaded = 0;\n",
              "\n",
              "      const channel = await google.colab.kernel.comms.open(id);\n",
              "      // Send a message to notify the kernel that we're ready.\n",
              "      channel.send({})\n",
              "\n",
              "      for await (const message of channel.messages) {\n",
              "        // Send a message to notify the kernel that we're ready.\n",
              "        channel.send({})\n",
              "        if (message.buffers) {\n",
              "          for (const buffer of message.buffers) {\n",
              "            buffers.push(buffer);\n",
              "            downloaded += buffer.byteLength;\n",
              "            progress.value = downloaded;\n",
              "          }\n",
              "        }\n",
              "      }\n",
              "      const blob = new Blob(buffers, {type: 'application/binary'});\n",
              "      const a = document.createElement('a');\n",
              "      a.href = window.URL.createObjectURL(blob);\n",
              "      a.download = filename;\n",
              "      div.appendChild(a);\n",
              "      a.click();\n",
              "      div.remove();\n",
              "    }\n",
              "  "
            ]
          },
          "metadata": {}
        },
        {
          "output_type": "display_data",
          "data": {
            "text/plain": [
              "<IPython.core.display.Javascript object>"
            ],
            "application/javascript": [
              "download(\"download_4842881f-8350-4c3a-ba6c-69848e9123f1\", \"target.csv\", 828481)"
            ]
          },
          "metadata": {}
        }
      ]
    },
    {
      "cell_type": "code",
      "source": [
        "from tensorflow.keras.callbacks import EarlyStopping\n",
        "feature_length = X_train.shape[0]\n",
        "#Li and L2 regularization\n",
        "\n",
        "regressor = Sequential()\n",
        "#regressor.add(tf.keras.layers.Embedding(input_dim=X_train.shape[2], output_dim=4))\n",
        "#add in learning rate\n",
        "\n",
        "regressor.add(LSTM(units = 50, input_shape=(sequence_length,\n",
        "                   X_train.shape[2]),\n",
        "                   return_sequences = True,\n",
        "                   activation = 'relu'))\n",
        "\n",
        "regressor.add(LSTM(units = 50, return_sequences = True, recurrent_dropout=0.3))\n",
        "regressor.add(Dropout(0.3))\n",
        "regressor.add(LSTM(50))\n",
        "regressor.add(Dropout(0.3))\n",
        "regressor.add(Dense(20))\n",
        "regressor.add(Dense(10))\n",
        "regressor.add(Dense(1))\n",
        "regressor.compile(optimizer = 'adam', loss = 'mean_absolute_error')\n",
        "es = EarlyStopping(monitor='val_loss', mode='min', patience=5, restore_best_weights=True)\n",
        "regressor.fit(X_train, y_train, epochs=150, batch_size=32, validation_data= (X_test, y_test), callbacks=[es])"
      ],
      "metadata": {
        "colab": {
          "base_uri": "https://localhost:8080/",
          "height": 403
        },
        "id": "rMkBFWTSHl92",
        "outputId": "532347a6-9fd4-4fb9-d94e-9d72b9a8206a"
      },
      "id": "rMkBFWTSHl92",
      "execution_count": 80,
      "outputs": [
        {
          "output_type": "stream",
          "name": "stdout",
          "text": [
            "Epoch 1/150\n",
            "286/737 [==========>...................] - ETA: 7s - loss: 0.1023"
          ]
        },
        {
          "output_type": "error",
          "ename": "KeyboardInterrupt",
          "evalue": "ignored",
          "traceback": [
            "\u001b[0;31m---------------------------------------------------------------------------\u001b[0m",
            "\u001b[0;31mKeyboardInterrupt\u001b[0m                         Traceback (most recent call last)",
            "\u001b[0;32m<ipython-input-80-e7b27fe8a177>\u001b[0m in \u001b[0;36m<cell line: 23>\u001b[0;34m()\u001b[0m\n\u001b[1;32m     21\u001b[0m \u001b[0mregressor\u001b[0m\u001b[0;34m.\u001b[0m\u001b[0mcompile\u001b[0m\u001b[0;34m(\u001b[0m\u001b[0moptimizer\u001b[0m \u001b[0;34m=\u001b[0m \u001b[0;34m'adam'\u001b[0m\u001b[0;34m,\u001b[0m \u001b[0mloss\u001b[0m \u001b[0;34m=\u001b[0m \u001b[0;34m'mean_absolute_error'\u001b[0m\u001b[0;34m)\u001b[0m\u001b[0;34m\u001b[0m\u001b[0;34m\u001b[0m\u001b[0m\n\u001b[1;32m     22\u001b[0m \u001b[0mes\u001b[0m \u001b[0;34m=\u001b[0m \u001b[0mEarlyStopping\u001b[0m\u001b[0;34m(\u001b[0m\u001b[0mmonitor\u001b[0m\u001b[0;34m=\u001b[0m\u001b[0;34m'val_loss'\u001b[0m\u001b[0;34m,\u001b[0m \u001b[0mmode\u001b[0m\u001b[0;34m=\u001b[0m\u001b[0;34m'min'\u001b[0m\u001b[0;34m,\u001b[0m \u001b[0mpatience\u001b[0m\u001b[0;34m=\u001b[0m\u001b[0;36m5\u001b[0m\u001b[0;34m,\u001b[0m \u001b[0mrestore_best_weights\u001b[0m\u001b[0;34m=\u001b[0m\u001b[0;32mTrue\u001b[0m\u001b[0;34m)\u001b[0m\u001b[0;34m\u001b[0m\u001b[0;34m\u001b[0m\u001b[0m\n\u001b[0;32m---> 23\u001b[0;31m \u001b[0mregressor\u001b[0m\u001b[0;34m.\u001b[0m\u001b[0mfit\u001b[0m\u001b[0;34m(\u001b[0m\u001b[0mX_train\u001b[0m\u001b[0;34m,\u001b[0m \u001b[0my_train\u001b[0m\u001b[0;34m,\u001b[0m \u001b[0mepochs\u001b[0m\u001b[0;34m=\u001b[0m\u001b[0;36m150\u001b[0m\u001b[0;34m,\u001b[0m \u001b[0mbatch_size\u001b[0m\u001b[0;34m=\u001b[0m\u001b[0;36m32\u001b[0m\u001b[0;34m,\u001b[0m \u001b[0mvalidation_data\u001b[0m\u001b[0;34m=\u001b[0m \u001b[0;34m(\u001b[0m\u001b[0mX_test\u001b[0m\u001b[0;34m,\u001b[0m \u001b[0my_test\u001b[0m\u001b[0;34m)\u001b[0m\u001b[0;34m,\u001b[0m \u001b[0mcallbacks\u001b[0m\u001b[0;34m=\u001b[0m\u001b[0;34m[\u001b[0m\u001b[0mes\u001b[0m\u001b[0;34m]\u001b[0m\u001b[0;34m)\u001b[0m\u001b[0;34m\u001b[0m\u001b[0;34m\u001b[0m\u001b[0m\n\u001b[0m",
            "\u001b[0;32m/usr/local/lib/python3.10/dist-packages/keras/src/utils/traceback_utils.py\u001b[0m in \u001b[0;36merror_handler\u001b[0;34m(*args, **kwargs)\u001b[0m\n\u001b[1;32m     63\u001b[0m         \u001b[0mfiltered_tb\u001b[0m \u001b[0;34m=\u001b[0m \u001b[0;32mNone\u001b[0m\u001b[0;34m\u001b[0m\u001b[0;34m\u001b[0m\u001b[0m\n\u001b[1;32m     64\u001b[0m         \u001b[0;32mtry\u001b[0m\u001b[0;34m:\u001b[0m\u001b[0;34m\u001b[0m\u001b[0;34m\u001b[0m\u001b[0m\n\u001b[0;32m---> 65\u001b[0;31m             \u001b[0;32mreturn\u001b[0m \u001b[0mfn\u001b[0m\u001b[0;34m(\u001b[0m\u001b[0;34m*\u001b[0m\u001b[0margs\u001b[0m\u001b[0;34m,\u001b[0m \u001b[0;34m**\u001b[0m\u001b[0mkwargs\u001b[0m\u001b[0;34m)\u001b[0m\u001b[0;34m\u001b[0m\u001b[0;34m\u001b[0m\u001b[0m\n\u001b[0m\u001b[1;32m     66\u001b[0m         \u001b[0;32mexcept\u001b[0m \u001b[0mException\u001b[0m \u001b[0;32mas\u001b[0m \u001b[0me\u001b[0m\u001b[0;34m:\u001b[0m\u001b[0;34m\u001b[0m\u001b[0;34m\u001b[0m\u001b[0m\n\u001b[1;32m     67\u001b[0m             \u001b[0mfiltered_tb\u001b[0m \u001b[0;34m=\u001b[0m \u001b[0m_process_traceback_frames\u001b[0m\u001b[0;34m(\u001b[0m\u001b[0me\u001b[0m\u001b[0;34m.\u001b[0m\u001b[0m__traceback__\u001b[0m\u001b[0;34m)\u001b[0m\u001b[0;34m\u001b[0m\u001b[0;34m\u001b[0m\u001b[0m\n",
            "\u001b[0;32m/usr/local/lib/python3.10/dist-packages/keras/src/engine/training.py\u001b[0m in \u001b[0;36mfit\u001b[0;34m(self, x, y, batch_size, epochs, verbose, callbacks, validation_split, validation_data, shuffle, class_weight, sample_weight, initial_epoch, steps_per_epoch, validation_steps, validation_batch_size, validation_freq, max_queue_size, workers, use_multiprocessing)\u001b[0m\n\u001b[1;32m   1740\u001b[0m                         ):\n\u001b[1;32m   1741\u001b[0m                             \u001b[0mcallbacks\u001b[0m\u001b[0;34m.\u001b[0m\u001b[0mon_train_batch_begin\u001b[0m\u001b[0;34m(\u001b[0m\u001b[0mstep\u001b[0m\u001b[0;34m)\u001b[0m\u001b[0;34m\u001b[0m\u001b[0;34m\u001b[0m\u001b[0m\n\u001b[0;32m-> 1742\u001b[0;31m                             \u001b[0mtmp_logs\u001b[0m \u001b[0;34m=\u001b[0m \u001b[0mself\u001b[0m\u001b[0;34m.\u001b[0m\u001b[0mtrain_function\u001b[0m\u001b[0;34m(\u001b[0m\u001b[0miterator\u001b[0m\u001b[0;34m)\u001b[0m\u001b[0;34m\u001b[0m\u001b[0;34m\u001b[0m\u001b[0m\n\u001b[0m\u001b[1;32m   1743\u001b[0m                             \u001b[0;32mif\u001b[0m \u001b[0mdata_handler\u001b[0m\u001b[0;34m.\u001b[0m\u001b[0mshould_sync\u001b[0m\u001b[0;34m:\u001b[0m\u001b[0;34m\u001b[0m\u001b[0;34m\u001b[0m\u001b[0m\n\u001b[1;32m   1744\u001b[0m                                 \u001b[0mcontext\u001b[0m\u001b[0;34m.\u001b[0m\u001b[0masync_wait\u001b[0m\u001b[0;34m(\u001b[0m\u001b[0;34m)\u001b[0m\u001b[0;34m\u001b[0m\u001b[0;34m\u001b[0m\u001b[0m\n",
            "\u001b[0;32m/usr/local/lib/python3.10/dist-packages/tensorflow/python/util/traceback_utils.py\u001b[0m in \u001b[0;36merror_handler\u001b[0;34m(*args, **kwargs)\u001b[0m\n\u001b[1;32m    148\u001b[0m     \u001b[0mfiltered_tb\u001b[0m \u001b[0;34m=\u001b[0m \u001b[0;32mNone\u001b[0m\u001b[0;34m\u001b[0m\u001b[0;34m\u001b[0m\u001b[0m\n\u001b[1;32m    149\u001b[0m     \u001b[0;32mtry\u001b[0m\u001b[0;34m:\u001b[0m\u001b[0;34m\u001b[0m\u001b[0;34m\u001b[0m\u001b[0m\n\u001b[0;32m--> 150\u001b[0;31m       \u001b[0;32mreturn\u001b[0m \u001b[0mfn\u001b[0m\u001b[0;34m(\u001b[0m\u001b[0;34m*\u001b[0m\u001b[0margs\u001b[0m\u001b[0;34m,\u001b[0m \u001b[0;34m**\u001b[0m\u001b[0mkwargs\u001b[0m\u001b[0;34m)\u001b[0m\u001b[0;34m\u001b[0m\u001b[0;34m\u001b[0m\u001b[0m\n\u001b[0m\u001b[1;32m    151\u001b[0m     \u001b[0;32mexcept\u001b[0m \u001b[0mException\u001b[0m \u001b[0;32mas\u001b[0m \u001b[0me\u001b[0m\u001b[0;34m:\u001b[0m\u001b[0;34m\u001b[0m\u001b[0;34m\u001b[0m\u001b[0m\n\u001b[1;32m    152\u001b[0m       \u001b[0mfiltered_tb\u001b[0m \u001b[0;34m=\u001b[0m \u001b[0m_process_traceback_frames\u001b[0m\u001b[0;34m(\u001b[0m\u001b[0me\u001b[0m\u001b[0;34m.\u001b[0m\u001b[0m__traceback__\u001b[0m\u001b[0;34m)\u001b[0m\u001b[0;34m\u001b[0m\u001b[0;34m\u001b[0m\u001b[0m\n",
            "\u001b[0;32m/usr/local/lib/python3.10/dist-packages/tensorflow/python/eager/polymorphic_function/polymorphic_function.py\u001b[0m in \u001b[0;36m__call__\u001b[0;34m(self, *args, **kwds)\u001b[0m\n\u001b[1;32m    823\u001b[0m \u001b[0;34m\u001b[0m\u001b[0m\n\u001b[1;32m    824\u001b[0m       \u001b[0;32mwith\u001b[0m \u001b[0mOptionalXlaContext\u001b[0m\u001b[0;34m(\u001b[0m\u001b[0mself\u001b[0m\u001b[0;34m.\u001b[0m\u001b[0m_jit_compile\u001b[0m\u001b[0;34m)\u001b[0m\u001b[0;34m:\u001b[0m\u001b[0;34m\u001b[0m\u001b[0;34m\u001b[0m\u001b[0m\n\u001b[0;32m--> 825\u001b[0;31m         \u001b[0mresult\u001b[0m \u001b[0;34m=\u001b[0m \u001b[0mself\u001b[0m\u001b[0;34m.\u001b[0m\u001b[0m_call\u001b[0m\u001b[0;34m(\u001b[0m\u001b[0;34m*\u001b[0m\u001b[0margs\u001b[0m\u001b[0;34m,\u001b[0m \u001b[0;34m**\u001b[0m\u001b[0mkwds\u001b[0m\u001b[0;34m)\u001b[0m\u001b[0;34m\u001b[0m\u001b[0;34m\u001b[0m\u001b[0m\n\u001b[0m\u001b[1;32m    826\u001b[0m \u001b[0;34m\u001b[0m\u001b[0m\n\u001b[1;32m    827\u001b[0m       \u001b[0mnew_tracing_count\u001b[0m \u001b[0;34m=\u001b[0m \u001b[0mself\u001b[0m\u001b[0;34m.\u001b[0m\u001b[0mexperimental_get_tracing_count\u001b[0m\u001b[0;34m(\u001b[0m\u001b[0;34m)\u001b[0m\u001b[0;34m\u001b[0m\u001b[0;34m\u001b[0m\u001b[0m\n",
            "\u001b[0;32m/usr/local/lib/python3.10/dist-packages/tensorflow/python/eager/polymorphic_function/polymorphic_function.py\u001b[0m in \u001b[0;36m_call\u001b[0;34m(self, *args, **kwds)\u001b[0m\n\u001b[1;32m    855\u001b[0m       \u001b[0;31m# In this case we have created variables on the first call, so we run the\u001b[0m\u001b[0;34m\u001b[0m\u001b[0;34m\u001b[0m\u001b[0m\n\u001b[1;32m    856\u001b[0m       \u001b[0;31m# defunned version which is guaranteed to never create variables.\u001b[0m\u001b[0;34m\u001b[0m\u001b[0;34m\u001b[0m\u001b[0m\n\u001b[0;32m--> 857\u001b[0;31m       \u001b[0;32mreturn\u001b[0m \u001b[0mself\u001b[0m\u001b[0;34m.\u001b[0m\u001b[0m_no_variable_creation_fn\u001b[0m\u001b[0;34m(\u001b[0m\u001b[0;34m*\u001b[0m\u001b[0margs\u001b[0m\u001b[0;34m,\u001b[0m \u001b[0;34m**\u001b[0m\u001b[0mkwds\u001b[0m\u001b[0;34m)\u001b[0m  \u001b[0;31m# pylint: disable=not-callable\u001b[0m\u001b[0;34m\u001b[0m\u001b[0;34m\u001b[0m\u001b[0m\n\u001b[0m\u001b[1;32m    858\u001b[0m     \u001b[0;32melif\u001b[0m \u001b[0mself\u001b[0m\u001b[0;34m.\u001b[0m\u001b[0m_variable_creation_fn\u001b[0m \u001b[0;32mis\u001b[0m \u001b[0;32mnot\u001b[0m \u001b[0;32mNone\u001b[0m\u001b[0;34m:\u001b[0m\u001b[0;34m\u001b[0m\u001b[0;34m\u001b[0m\u001b[0m\n\u001b[1;32m    859\u001b[0m       \u001b[0;31m# Release the lock early so that multiple threads can perform the call\u001b[0m\u001b[0;34m\u001b[0m\u001b[0;34m\u001b[0m\u001b[0m\n",
            "\u001b[0;32m/usr/local/lib/python3.10/dist-packages/tensorflow/python/eager/polymorphic_function/tracing_compiler.py\u001b[0m in \u001b[0;36m__call__\u001b[0;34m(self, *args, **kwargs)\u001b[0m\n\u001b[1;32m    146\u001b[0m       (concrete_function,\n\u001b[1;32m    147\u001b[0m        filtered_flat_args) = self._maybe_define_function(args, kwargs)\n\u001b[0;32m--> 148\u001b[0;31m     return concrete_function._call_flat(\n\u001b[0m\u001b[1;32m    149\u001b[0m         filtered_flat_args, captured_inputs=concrete_function.captured_inputs)  # pylint: disable=protected-access\n\u001b[1;32m    150\u001b[0m \u001b[0;34m\u001b[0m\u001b[0m\n",
            "\u001b[0;32m/usr/local/lib/python3.10/dist-packages/tensorflow/python/eager/polymorphic_function/monomorphic_function.py\u001b[0m in \u001b[0;36m_call_flat\u001b[0;34m(self, args, captured_inputs)\u001b[0m\n\u001b[1;32m   1347\u001b[0m         and executing_eagerly):\n\u001b[1;32m   1348\u001b[0m       \u001b[0;31m# No tape is watching; skip to running the function.\u001b[0m\u001b[0;34m\u001b[0m\u001b[0;34m\u001b[0m\u001b[0m\n\u001b[0;32m-> 1349\u001b[0;31m       \u001b[0;32mreturn\u001b[0m \u001b[0mself\u001b[0m\u001b[0;34m.\u001b[0m\u001b[0m_build_call_outputs\u001b[0m\u001b[0;34m(\u001b[0m\u001b[0mself\u001b[0m\u001b[0;34m.\u001b[0m\u001b[0m_inference_function\u001b[0m\u001b[0;34m(\u001b[0m\u001b[0;34m*\u001b[0m\u001b[0margs\u001b[0m\u001b[0;34m)\u001b[0m\u001b[0;34m)\u001b[0m\u001b[0;34m\u001b[0m\u001b[0;34m\u001b[0m\u001b[0m\n\u001b[0m\u001b[1;32m   1350\u001b[0m     forward_backward = self._select_forward_and_backward_functions(\n\u001b[1;32m   1351\u001b[0m         \u001b[0margs\u001b[0m\u001b[0;34m,\u001b[0m\u001b[0;34m\u001b[0m\u001b[0;34m\u001b[0m\u001b[0m\n",
            "\u001b[0;32m/usr/local/lib/python3.10/dist-packages/tensorflow/python/eager/polymorphic_function/atomic_function.py\u001b[0m in \u001b[0;36m__call__\u001b[0;34m(self, *args)\u001b[0m\n\u001b[1;32m    194\u001b[0m         \u001b[0;32mwith\u001b[0m \u001b[0mrecord\u001b[0m\u001b[0;34m.\u001b[0m\u001b[0mstop_recording\u001b[0m\u001b[0;34m(\u001b[0m\u001b[0;34m)\u001b[0m\u001b[0;34m:\u001b[0m\u001b[0;34m\u001b[0m\u001b[0;34m\u001b[0m\u001b[0m\n\u001b[1;32m    195\u001b[0m           \u001b[0;32mif\u001b[0m \u001b[0mself\u001b[0m\u001b[0;34m.\u001b[0m\u001b[0m_bound_context\u001b[0m\u001b[0;34m.\u001b[0m\u001b[0mexecuting_eagerly\u001b[0m\u001b[0;34m(\u001b[0m\u001b[0;34m)\u001b[0m\u001b[0;34m:\u001b[0m\u001b[0;34m\u001b[0m\u001b[0;34m\u001b[0m\u001b[0m\n\u001b[0;32m--> 196\u001b[0;31m             outputs = self._bound_context.call_function(\n\u001b[0m\u001b[1;32m    197\u001b[0m                 \u001b[0mself\u001b[0m\u001b[0;34m.\u001b[0m\u001b[0mname\u001b[0m\u001b[0;34m,\u001b[0m\u001b[0;34m\u001b[0m\u001b[0;34m\u001b[0m\u001b[0m\n\u001b[1;32m    198\u001b[0m                 \u001b[0mlist\u001b[0m\u001b[0;34m(\u001b[0m\u001b[0margs\u001b[0m\u001b[0;34m)\u001b[0m\u001b[0;34m,\u001b[0m\u001b[0;34m\u001b[0m\u001b[0;34m\u001b[0m\u001b[0m\n",
            "\u001b[0;32m/usr/local/lib/python3.10/dist-packages/tensorflow/python/eager/context.py\u001b[0m in \u001b[0;36mcall_function\u001b[0;34m(self, name, tensor_inputs, num_outputs)\u001b[0m\n\u001b[1;32m   1455\u001b[0m     \u001b[0mcancellation_context\u001b[0m \u001b[0;34m=\u001b[0m \u001b[0mcancellation\u001b[0m\u001b[0;34m.\u001b[0m\u001b[0mcontext\u001b[0m\u001b[0;34m(\u001b[0m\u001b[0;34m)\u001b[0m\u001b[0;34m\u001b[0m\u001b[0;34m\u001b[0m\u001b[0m\n\u001b[1;32m   1456\u001b[0m     \u001b[0;32mif\u001b[0m \u001b[0mcancellation_context\u001b[0m \u001b[0;32mis\u001b[0m \u001b[0;32mNone\u001b[0m\u001b[0;34m:\u001b[0m\u001b[0;34m\u001b[0m\u001b[0;34m\u001b[0m\u001b[0m\n\u001b[0;32m-> 1457\u001b[0;31m       outputs = execute.execute(\n\u001b[0m\u001b[1;32m   1458\u001b[0m           \u001b[0mname\u001b[0m\u001b[0;34m.\u001b[0m\u001b[0mdecode\u001b[0m\u001b[0;34m(\u001b[0m\u001b[0;34m\"utf-8\"\u001b[0m\u001b[0;34m)\u001b[0m\u001b[0;34m,\u001b[0m\u001b[0;34m\u001b[0m\u001b[0;34m\u001b[0m\u001b[0m\n\u001b[1;32m   1459\u001b[0m           \u001b[0mnum_outputs\u001b[0m\u001b[0;34m=\u001b[0m\u001b[0mnum_outputs\u001b[0m\u001b[0;34m,\u001b[0m\u001b[0;34m\u001b[0m\u001b[0;34m\u001b[0m\u001b[0m\n",
            "\u001b[0;32m/usr/local/lib/python3.10/dist-packages/tensorflow/python/eager/execute.py\u001b[0m in \u001b[0;36mquick_execute\u001b[0;34m(op_name, num_outputs, inputs, attrs, ctx, name)\u001b[0m\n\u001b[1;32m     51\u001b[0m   \u001b[0;32mtry\u001b[0m\u001b[0;34m:\u001b[0m\u001b[0;34m\u001b[0m\u001b[0;34m\u001b[0m\u001b[0m\n\u001b[1;32m     52\u001b[0m     \u001b[0mctx\u001b[0m\u001b[0;34m.\u001b[0m\u001b[0mensure_initialized\u001b[0m\u001b[0;34m(\u001b[0m\u001b[0;34m)\u001b[0m\u001b[0;34m\u001b[0m\u001b[0;34m\u001b[0m\u001b[0m\n\u001b[0;32m---> 53\u001b[0;31m     tensors = pywrap_tfe.TFE_Py_Execute(ctx._handle, device_name, op_name,\n\u001b[0m\u001b[1;32m     54\u001b[0m                                         inputs, attrs, num_outputs)\n\u001b[1;32m     55\u001b[0m   \u001b[0;32mexcept\u001b[0m \u001b[0mcore\u001b[0m\u001b[0;34m.\u001b[0m\u001b[0m_NotOkStatusException\u001b[0m \u001b[0;32mas\u001b[0m \u001b[0me\u001b[0m\u001b[0;34m:\u001b[0m\u001b[0;34m\u001b[0m\u001b[0;34m\u001b[0m\u001b[0m\n",
            "\u001b[0;31mKeyboardInterrupt\u001b[0m: "
          ]
        }
      ]
    },
    {
      "cell_type": "code",
      "source": [
        "y_pred = regressor.predict(X)"
      ],
      "metadata": {
        "colab": {
          "base_uri": "https://localhost:8080/"
        },
        "id": "sZbC7dEQHxem",
        "outputId": "7a99a828-2adf-444a-f0f4-cf77185ee601"
      },
      "id": "sZbC7dEQHxem",
      "execution_count": 73,
      "outputs": [
        {
          "output_type": "stream",
          "name": "stdout",
          "text": [
            "1052/1052 [==============================] - 7s 6ms/step\n"
          ]
        }
      ]
    },
    {
      "cell_type": "code",
      "source": [
        "mse = mean_squared_error(y, y_pred)\n",
        "mae = mean_absolute_error(y, y_pred)\n",
        "r2 = r2_score(y, y_pred)\n",
        "\n",
        "print('\\nMean Squared Error (MSE):', mse)\n",
        "print('Mean Absolute Error (MAE):', mae)\n",
        "print('R-squared (R^2):', r2)"
      ],
      "metadata": {
        "colab": {
          "base_uri": "https://localhost:8080/"
        },
        "id": "s4FxrraHHv0o",
        "outputId": "2d050a4f-6bc2-4c15-cf61-fefeef3933ed"
      },
      "id": "s4FxrraHHv0o",
      "execution_count": 74,
      "outputs": [
        {
          "output_type": "stream",
          "name": "stdout",
          "text": [
            "\n",
            "Mean Squared Error (MSE): 0.003908829700931668\n",
            "Mean Absolute Error (MAE): 0.031538027420928774\n",
            "R-squared (R^2): 0.7536621823208896\n"
          ]
        }
      ]
    },
    {
      "cell_type": "code",
      "source": [
        "y_pred = regressor.predict(X_test)\n",
        "\n",
        "mse = mean_squared_error(y_test, y_pred)\n",
        "mae = mean_absolute_error(y_test, y_pred)\n",
        "r2 = r2_score(y_test, y_pred)\n",
        "\n",
        "print('\\nMean Squared Error (MSE):', mse)\n",
        "print('Mean Absolute Error (MAE):', mae)\n",
        "print('R-squared (R^2):', r2)"
      ],
      "metadata": {
        "colab": {
          "base_uri": "https://localhost:8080/"
        },
        "id": "oaAM5rGxNp0W",
        "outputId": "2b8dd9a0-bbf3-40ad-ffbf-7abd9260acc6"
      },
      "id": "oaAM5rGxNp0W",
      "execution_count": 75,
      "outputs": [
        {
          "output_type": "stream",
          "name": "stdout",
          "text": [
            "316/316 [==============================] - 2s 6ms/step\n",
            "\n",
            "Mean Squared Error (MSE): 0.007037593240377238\n",
            "Mean Absolute Error (MAE): 0.04799486008248518\n",
            "R-squared (R^2): 0.5579047886332184\n"
          ]
        }
      ]
    }
  ],
  "metadata": {
    "kernelspec": {
      "display_name": "Python 3",
      "name": "python3"
    },
    "language_info": {
      "codemirror_mode": {
        "name": "ipython",
        "version": 3
      },
      "file_extension": ".py",
      "mimetype": "text/x-python",
      "name": "python",
      "nbconvert_exporter": "python",
      "pygments_lexer": "ipython3",
      "version": "3.9.17"
    },
    "colab": {
      "provenance": [],
      "machine_shape": "hm",
      "include_colab_link": true
    }
  },
  "nbformat": 4,
  "nbformat_minor": 5
}